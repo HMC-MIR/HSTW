{
 "cells": [
  {
   "cell_type": "code",
   "execution_count": 1,
   "metadata": {},
   "outputs": [],
   "source": [
    "import librosa as lb\n",
    "from speechCommon import getPairwiseCostMatrix\n",
    "from sklearn.metrics.pairwise import euclidean_distances\n",
    "import matplotlib.pyplot as plt\n",
    "import python_speech_features\n",
    "import numpy as np\n",
    "from numba import jit, njit\n",
    "from time import time\n",
    "import pickle as pkl\n",
    "import os.path\n",
    "from pathlib import Path"
   ]
  },
  {
   "cell_type": "code",
   "execution_count": 2,
   "metadata": {},
   "outputs": [],
   "source": [
    "@njit\n",
    "def NW_DP(C, gamma):\n",
    "    numRows, numCols = C.shape\n",
    "    B = np.zeros(C.shape)\n",
    "    D = np.zeros(C.shape)\n",
    "    \n",
    "    D[0,:] = C[0,:]\n",
    "    for row in range(1, numRows):\n",
    "        for col in range(numCols):\n",
    "            # Transition 0 is straight up with cost gamma\n",
    "            bestCost = D[row-1, col] + gamma\n",
    "            bestIndex = 0\n",
    "            \n",
    "            if col != 0: # Can't move right or diagonal into the first col\n",
    "                # Transition 1 is right with cost gamma\n",
    "                thisCost = D[row, col-1] + gamma\n",
    "                if thisCost < bestCost:\n",
    "                    bestCost = thisCost\n",
    "                    bestIndex = 1\n",
    "            \n",
    "                # Transition 2 is diagonal with cost from C\n",
    "                thisCost = D[row-1, col-1] + C[row,col]\n",
    "                if thisCost < bestCost:\n",
    "                        bestCost = thisCost\n",
    "                        bestIndex = 2\n",
    "\n",
    "            D[row, col] = bestCost\n",
    "            B[row, col] = bestIndex\n",
    "    return D, B"
   ]
  },
  {
   "cell_type": "code",
   "execution_count": 3,
   "metadata": {},
   "outputs": [],
   "source": [
    "def NW_Backtrace(C, D, B, gamma):\n",
    "    curCol = np.argmin(D[-1,:])\n",
    "    curRow = D.shape[0] - 1\n",
    "    path = []\n",
    "    costs = []\n",
    "    while curRow >= 0:\n",
    "        path.append([curRow, curCol])\n",
    "        transition = B[curRow, curCol]\n",
    "        if transition == 0:\n",
    "            curRow = curRow - 1\n",
    "            costs.append(gamma)\n",
    "        elif transition == 1:\n",
    "            curCol = curCol - 1\n",
    "            costs.append(gamma)\n",
    "        else:\n",
    "            costs.append(C[curRow, curCol])\n",
    "            curRow = curRow - 1\n",
    "            curCol = curCol - 1\n",
    "        \n",
    "    return path, costs"
   ]
  },
  {
   "cell_type": "code",
   "execution_count": 4,
   "metadata": {},
   "outputs": [],
   "source": [
    "def NWAlign(queryFile, refFile, gamma):\n",
    "    C = getPairwiseCostMatrix(queryFile, refFile)\n",
    "    \n",
    "    D, B = NW_DP(C, gamma)\n",
    "    \n",
    "    path, costs = NW_Backtrace(C, D, B, gamma)\n",
    "    \n",
    "    return np.array(path), np.array(costs)"
   ]
  },
  {
   "cell_type": "code",
   "execution_count": 5,
   "metadata": {},
   "outputs": [],
   "source": [
    "def NWAlignAll(outdir, pairsFile, gamma, queryDir, refDir):\n",
    "    outdir = Path(outdir)\n",
    "    outdir.mkdir(parents=True, exist_ok=True)\n",
    "    with open(pairsFile, 'r') as f:\n",
    "        for line in f:\n",
    "            parts = line.strip().split()\n",
    "            assert len(parts) == 2\n",
    "            saveFile = outdir / (os.path.basename(parts[0])[:-8] + \".pkl\")\n",
    "            if not os.path.exists(saveFile):\n",
    "                queryFile = queryDir + '/' + os.path.basename(parts[0])\n",
    "                refParts = os.path.basename(parts[0]).split(\"_\")\n",
    "                ref = refParts[0] + '_' + refParts[1] + '_' + refParts[2] + \".wav\"\n",
    "                refFile = refDir + '/' + ref\n",
    "                \n",
    "                path, costs = NWAlign(queryFile, refFile, gamma)\n",
    "\n",
    "                hyp = {\"wp\": path, \"dist\": costs}\n",
    "\n",
    "                pkl.dump(hyp, open(saveFile, 'wb'))"
   ]
  },
  {
   "cell_type": "code",
   "execution_count": null,
   "metadata": {},
   "outputs": [
    {
     "name": "stdout",
     "output_type": "stream",
     "text": [
      "Gamma:  1\n",
      "Gamma:  5\n"
     ]
    }
   ],
   "source": [
    "for gamma in [1, 5, 10, 50, 100, 500, 1000]:\n",
    "    print(\"Gamma: \", gamma)\n",
    "    outdir = \"/mnt/data0/tshaw/TamperingDetection/hyp/2sec/NW-%s\" % str(gamma)\n",
    "    pairsFile = \"/mnt/data0/tshaw/TamperingDetection/cfg_files/shortTrain_2s.pairs\"\n",
    "    queryDir = \"/mnt/data0/agoutam/TamperingDetection/speech/queries/wav/160kbps/2sec\"\n",
    "    refDir = \"/mnt/data0/agoutam/TamperingDetection/speech/ref/wav\"\n",
    "    NWAlignAll(outdir, pairsFile, gamma, queryDir, refDir)"
   ]
  },
  {
   "cell_type": "code",
   "execution_count": null,
   "metadata": {},
   "outputs": [],
   "source": []
  }
 ],
 "metadata": {
  "kernelspec": {
   "display_name": "MIR",
   "language": "python",
   "name": "mir"
  },
  "language_info": {
   "codemirror_mode": {
    "name": "ipython",
    "version": 3
   },
   "file_extension": ".py",
   "mimetype": "text/x-python",
   "name": "python",
   "nbconvert_exporter": "python",
   "pygments_lexer": "ipython3",
   "version": "3.7.10"
  }
 },
 "nbformat": 4,
 "nbformat_minor": 4
}
