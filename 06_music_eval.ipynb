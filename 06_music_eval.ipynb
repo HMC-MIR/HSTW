{
 "cells": [
  {
   "cell_type": "code",
   "execution_count": 1,
   "metadata": {},
   "outputs": [],
   "source": [
    "import numpy as np\n",
    "import matplotlib.pyplot as plt\n",
    "import glob\n",
    "import os.path\n",
    "from pathlib import Path\n",
    "import time\n",
    "import pandas as pd\n",
    "import pickle as pkl\n",
    "import librosa as lb"
   ]
  },
  {
   "cell_type": "code",
   "execution_count": 2,
   "metadata": {},
   "outputs": [],
   "source": [
    "hop_sec = 512 * 1 / 22050\n",
    "n_cores = 8\n",
    "downsample = 1"
   ]
  },
  {
   "cell_type": "code",
   "execution_count": 3,
   "metadata": {},
   "outputs": [],
   "source": [
    "ANNOTATIONS_ROOT_CLEAN = Path('/home/cchang/ttmp/raw_data/Chopin_Mazurkas/annotations_beat')\n",
    "FEATURES_ROOT_CLEAN = Path('/home/cchang/ttmp/features/clean')"
   ]
  },
  {
   "cell_type": "code",
   "execution_count": 4,
   "metadata": {},
   "outputs": [],
   "source": [
    "#times = np.array([5, 10, 15, 20, 25, 30])\n",
    "times = [15]\n",
    "#folder_names = ['dtw1', 'dtw2', 'dtw3', 'dtw4', 'subseqdtw', 'nwtw/gamma_0.346']\n",
    "\n",
    "cfg_options = ['toy', 'small', 'medium', 'train_benchmark']\n",
    "cfg = cfg_options[0] # Change this to appropriate benchmark\n",
    "\n",
    "if cfg == 'toy':\n",
    "    query_list = 'cfg_files/query.train_toy.list'\n",
    "elif cfg == 'small':\n",
    "    query_list = 'cfg_files/query.train_small.list'\n",
    "elif cfg == 'medium':\n",
    "    query_list = 'cfg_files/query.train_medium.list'\n",
    "else:\n",
    "    query_list = 'cfg_files/query.train.list'"
   ]
  },
  {
   "cell_type": "markdown",
   "metadata": {},
   "source": [
    "## Alignment"
   ]
  },
  {
   "cell_type": "code",
   "execution_count": 5,
   "metadata": {},
   "outputs": [],
   "source": [
    "def eval_dir(hypdir, querylist, hop_sec, scoring_collar = 0.1, annot_root_query = ANNOTATIONS_ROOT_CLEAN, \\\n",
    "             annot_root_ref = ANNOTATIONS_ROOT_CLEAN, features_query = FEATURES_ROOT_CLEAN, \\\n",
    "             features_ref = FEATURES_ROOT_CLEAN, savefile = None, verbose=False, partial_match=False, \\\n",
    "             algorithm = 'DTW', **kwargs):\n",
    "    \n",
    "    if savefile:\n",
    "        outdir = os.path.dirname(savefile)\n",
    "        outdir = Path(outdir)\n",
    "        outdir.mkdir(parents=True, exist_ok=True)\n",
    "    \n",
    "    # Initialize dictionaries\n",
    "    allErrs = {}\n",
    "    allCosts = {}\n",
    "    allAtrGT = {}\n",
    "    \n",
    "    cnt = 0\n",
    "    if verbose:\n",
    "        print(f'Processing {hypdir} ', end='')\n",
    "        \n",
    "    # assumes that if partial_match, the query dir has replacement_ts.csv file on the same level as annot_root_query\n",
    "    if partial_match:\n",
    "        \n",
    "        assert('replacement_ts_file' in kwargs)\n",
    "        \n",
    "        df = pd.read_csv(kwargs['replacement_ts_file'])\n",
    "        #df = pd.read_csv((annot_root_query.parent / 'replacement_ts.csv').as_posix())\n",
    "        allTimestamps = df.set_index('name').to_dict(orient='index')\n",
    "        \n",
    "    with open(querylist, 'r') as f:\n",
    "        for line in f:\n",
    "            parts = line.strip().split()\n",
    "            assert len(parts) == 2\n",
    "            basename = os.path.basename(parts[0]) + '__' + os.path.basename(parts[1])\n",
    "            hypfile = hypdir + '/' + basename + '.pkl'\n",
    "            \n",
    "            if not os.path.exists(hypfile):\n",
    "                print(\"X\", end='')\n",
    "                continue\n",
    "                \n",
    "            if partial_match:\n",
    "                downsample = 1\n",
    "\n",
    "                times = allTimestamps[os.path.basename(parts[0]) + '.wav']\n",
    "                firstRepEndIdx = times['beginning replacement end (idx)']\n",
    "                midRepStartIdx = times['middle replacement start (idx)']\n",
    "                midRepEndIdx = times['middle replacement end (idx)']\n",
    "                lastRepStartIdx = times['ending replacement start (idx)']\n",
    "                allErrs[basename] = eval_align_partial_matching(hypfile, hop_sec, firstRepEndIdx, midRepStartIdx, \\\n",
    "                                                                midRepEndIdx, lastRepStartIdx, scoring_collar, \\\n",
    "                                                                algorithm, downsample, annot_root_query, \\\n",
    "                                                                annot_root_ref, features_query, features_ref)\n",
    "                \n",
    "            else:\n",
    "                allErrs[basename] = eval_file(hypfile, hop_sec, annot_root_ref, annot_root_query)\n",
    "            cnt += 1\n",
    "            if cnt % 500 == 0:\n",
    "                print(\".\", end='')\n",
    "                \n",
    "    if verbose:\n",
    "        print(' done')\n",
    "    if savefile:\n",
    "        \n",
    "        if partial_match:\n",
    "            pkl.dump([allErrs, allCosts, allAtrGT], open(savefile, 'wb'))\n",
    "        else:\n",
    "            pkl.dump(allErrs, open(savefile, 'wb'))\n",
    "        \n",
    "    return allErrs\n"
   ]
  },
  {
   "cell_type": "code",
   "execution_count": 6,
   "metadata": {},
   "outputs": [],
   "source": [
    "def eval_align_partial_matching(hypfile, hop_sec, firstRepEndIdx, midRepStartIdx, midRepEndIdx, lastRepStartIdx, \\\n",
    "                                scoring_collar = 0.1, algorithm = 'DTW', downsample = 1, \\\n",
    "                                annot_query = ANNOTATIONS_ROOT_CLEAN, annot_ref = ANNOTATIONS_ROOT_CLEAN, \\\n",
    "                                features_query = FEATURES_ROOT_CLEAN, features_ref = FEATURES_ROOT_CLEAN):\n",
    "    '''\n",
    "    \n",
    "    First file (query) = Tampered query\n",
    "    Second file (ref) = clean reference\n",
    "    \n",
    "    '''\n",
    "    \n",
    "    parts = os.path.basename(hypfile).split('__')\n",
    "    assert len(parts) == 2\n",
    "    piece = extractPieceName(parts[0])\n",
    "    \n",
    "    annotfile_query = (annot_query / piece / parts[0]).with_suffix('.beat')\n",
    "    annotfile_ref = (annot_ref / piece / parts[1]).with_suffix('.beat')\n",
    "    \n",
    "    featfile_query = (features_query / piece / parts[0]).with_suffix('.npy')\n",
    "    featfile_ref = (features_ref / piece / parts[1]).with_suffix('.npy')\n",
    "    \n",
    "    gt_query, gt_ref = getTimestamps(annotfile_query), getTimestamps(annotfile_ref)\n",
    "        \n",
    "    hypalign = loadAlignment(hypfile) # warping path in frames\n",
    "    \n",
    "    if hypalign is None:\n",
    "        gt_attribution = []\n",
    "    else:\n",
    "        \n",
    "        # Alignment Error\n",
    "        if algorithm == 'HPTW':  # for HPTW, hypalign is in the form [visible path, hidden path]\n",
    "            err = getAlignmentError(gt_query, gt_ref, hop_sec, firstRepEndIdx, midRepStartIdx, midRepEndIdx, lastRepStartIdx, hypalign[0], scoring_collar)\n",
    "        else:\n",
    "            err = getAlignmentError(gt_query, gt_ref, hop_sec, firstRepEndIdx, midRepStartIdx, midRepEndIdx, lastRepStartIdx, hypalign, scoring_collar)\n",
    "        \n",
    "#         # Attribution Cost\n",
    "#         hop_frames = hop_sec * 22050\n",
    "                \n",
    "#         frame_cost, gt_attribution = getAttributionCost(featfile_query, featfile_ref, hop_frames, firstRepEndIdx, midRepStartIdx, midRepEndIdx, lastRepStartIdx, hypalign, algorithm = algorithm, hidden_path = None, downsample = 1)\n",
    "        \n",
    "#         frame_cost = []\n",
    "#         gt_attribution = []\n",
    "        \n",
    "    return err"
   ]
  },
  {
   "cell_type": "code",
   "execution_count": 7,
   "metadata": {},
   "outputs": [],
   "source": [
    "def getAlignmentError(gt_query, gt_ref, hop_sec, firstRepEndIdx, midRepStartIdx, midRepEndIdx, lastRepStartIdx, \\\n",
    "                      hypalign, scoring_collar = 0.1, sr = 22050):\n",
    "    '''\n",
    "    Computes alignment error on untampered regions\n",
    "    \n",
    "    Inputs:\n",
    "    gt_query: ground truth ts of query beats in seconds\n",
    "    gt_ref: ground truth ts of reference beats in seconds\n",
    "    hop_sec: hop size in seconds\n",
    "    firstRepEndIdx: ending idx of first replacement section\n",
    "    midRepStartIdx: starting idx of middle replacement section\n",
    "    midRepEndIdx: ending idx of middle replacement section\n",
    "    lastRepStartIdx: starting idx of last replacement section\n",
    "    hypalign: predicted warping path\n",
    "    \n",
    "    Outputs:\n",
    "    err: error in seconds between prediction and ground truth\n",
    "    \n",
    "    '''\n",
    "    # hypalign[:,0] corresponds to query audio\n",
    "    # hypalign[:,1] corresponds to ref audio\n",
    "    \n",
    "    scoring_collar_frames = scoring_collar * sr\n",
    "    \n",
    "    # Get indices to exclude from gt_query \n",
    "    startExclude = np.argwhere(gt_query * sr < firstRepEndIdx + scoring_collar_frames)\n",
    "    midExclude = np.argwhere(np.logical_and(gt_query * sr > midRepStartIdx - scoring_collar_frames, \\\n",
    "                                            gt_query * sr < midRepEndIdx + scoring_collar_frames))\n",
    "    endExclude = np.argwhere(gt_query * sr > lastRepStartIdx - scoring_collar_frames)\n",
    "\n",
    "    excludedIdx = np.concatenate((startExclude, midExclude, endExclude)).flatten()\n",
    "    keepIdx = np.setdiff1d(np.arange(len(gt_query)), excludedIdx)\n",
    "    \n",
    "    gt_query_valid = gt_query[keepIdx]\n",
    "\n",
    "    # Calculate predictions via interpolation only on valid frames in query\n",
    "    pred_ref = np.interp(gt_query_valid, hypalign['wp'][:,0]*hop_sec, hypalign['wp'][:,1]*hop_sec)\n",
    "\n",
    "    # Calculate error\n",
    "    err = pred_ref - gt_ref[keepIdx]\n",
    "    \n",
    "    return err"
   ]
  },
  {
   "cell_type": "code",
   "execution_count": 8,
   "metadata": {},
   "outputs": [],
   "source": [
    "def getTimestamps(annotfile):\n",
    "    df = pd.read_csv(annotfile, header=None, sep='\\s+', skiprows=3)\n",
    "    return np.array(df[0])\n",
    "\n",
    "\n",
    "def extractPieceName(fullpath):\n",
    "    basename = os.path.basename(fullpath) # e.g. Chopin_Op068No3_Sztompka-1959_pid9170b-21\n",
    "    parts = basename.split('_')\n",
    "    piece = '_'.join(parts[0:2]) # e.g. Chopin_Op068No3\n",
    "    return piece\n",
    "\n",
    "def loadAlignment(hypfile):\n",
    "    with open(hypfile, 'rb') as f:\n",
    "        d = pkl.load(f)\n",
    "    return d\n"
   ]
  },
  {
   "cell_type": "code",
   "execution_count": 9,
   "metadata": {},
   "outputs": [
    {
     "name": "stdout",
     "output_type": "stream",
     "text": [
      "/home/tshaw/ttmp/partial_match/toy/experiments/align_clean_to_15s/dtw233\n",
      "Took  0.057372093200683594\n"
     ]
    }
   ],
   "source": [
    "# *** Edit these 2 lines as we add more systems ****\n",
    "savefile_names = ['dtw233.pkl']\n",
    "folder_names = ['dtw233']\n",
    "# **************************************************\n",
    "for t in times:\n",
    "\n",
    "    EXPERIMENTS_ROOT = '/home/tshaw/ttmp/partial_match/%s/experiments/align_clean_to_%ss' % (cfg, t)\n",
    "    EVALUATIONS_ROOT = '/home/tshaw/ttmp/partial_match/%s/evaluations/alignment/align_clean_to_%ss' % (cfg, t)\n",
    "#     query = Path('/home/cchang/ttmp/raw_data/partial_match/Chopin_Mazurkas_partial_match_%ss/annotations_beat' % t)\n",
    "    ts = '/home/cchang/ttmp/raw_data/partial_match/Chopin_Mazurkas_partial_match_%ss/replacement_ts.csv' % t\n",
    "    \n",
    "    for i in range(len(savefile_names)): #range(6) is normal, skipping 0 since we've already calculated that\n",
    "        savefile = EVALUATIONS_ROOT + \"/\" + savefile_names[i]\n",
    "        hypdir = EXPERIMENTS_ROOT + \"/\" + folder_names[i]\n",
    "        print(hypdir)\n",
    "\n",
    "        start = time.time()\n",
    "#         if i == 5: # =5 if regular\n",
    "#             all_errors_test, allCosts, allAtrGT = eval_dir(hypdir, query_list, hop_sec, savefile = savefile, partial_match=True, replacement_ts_file=ts, algorithm='NWTW')\n",
    "#         else:\n",
    "        all_errors_test = eval_dir(hypdir, query_list, hop_sec, savefile = savefile, partial_match=True, replacement_ts_file=ts)\n",
    "        print('Took ', time.time() - start)"
   ]
  },
  {
   "cell_type": "markdown",
   "metadata": {},
   "source": [
    "### Alignment Figures"
   ]
  },
  {
   "cell_type": "code",
   "execution_count": 10,
   "metadata": {},
   "outputs": [],
   "source": [
    "def calc_error_rates(errFile, maxTol, justErrorFile = False):\n",
    "    \n",
    "    # read from file\n",
    "    with open(errFile, 'rb') as f:\n",
    "        if justErrorFile:\n",
    "            allErrs = pkl.load(f)\n",
    "        else:\n",
    "            allErrs, _, _ = pkl.load(f)\n",
    "    \n",
    "    # collect all errors\n",
    "    errsFlat = []\n",
    "    for query in allErrs:\n",
    "        if allErrs[query] is not None:\n",
    "            errs = np.array(allErrs[query])\n",
    "            errsFlat.append(errs)\n",
    "    errsFlat = np.concatenate(errsFlat)\n",
    "    \n",
    "    # calculate error rates\n",
    "    errRates = np.zeros(maxTol+1)\n",
    "    for i in range(maxTol+1):\n",
    "        errRates[i] = np.mean(np.abs(errsFlat) > i/1000)\n",
    "    \n",
    "    return errRates, errsFlat"
   ]
  },
  {
   "cell_type": "code",
   "execution_count": 11,
   "metadata": {},
   "outputs": [
    {
     "name": "stdout",
     "output_type": "stream",
     "text": [
      "/home/tshaw/ttmp/partial_match/toy/evaluations/alignment/align_clean_to_15s/dtw233.pkl\n"
     ]
    }
   ],
   "source": [
    "allErrors = []\n",
    "\n",
    "for t in times:\n",
    "\n",
    "    EVALUATIONS_ROOT = '/home/tshaw/ttmp/partial_match/%s/evaluations/alignment/align_clean_to_%ss' % (cfg, t)\n",
    "\n",
    "    error_rate_tests = []\n",
    "\n",
    "    for i in range(len(savefile_names)): # 6 in normal timesb\n",
    "        savefile = EVALUATIONS_ROOT + \"/\" + savefile_names[i]\n",
    "        print(savefile)\n",
    "        error_rate_tests.append(calc_error_rates(savefile, 1000)[0])\n",
    "#         err = calc_error_rates(savefile, 1000)[0]\n",
    "\n",
    "    allErrors.append(error_rate_tests)"
   ]
  },
  {
   "cell_type": "code",
   "execution_count": 12,
   "metadata": {},
   "outputs": [
    {
     "data": {
      "text/plain": [
       "array([1.        , 0.97191011, 0.94171348, ..., 0.09550562, 0.09550562,\n",
       "       0.09550562])"
      ]
     },
     "execution_count": 12,
     "metadata": {},
     "output_type": "execute_result"
    }
   ],
   "source": [
    "# allErrors[timeIdx][systemIdx]\n",
    "allErrors[0][0]"
   ]
  },
  {
   "cell_type": "code",
   "execution_count": 13,
   "metadata": {},
   "outputs": [
    {
     "data": {
      "image/png": "[encoded data removed]",
      "text/plain": [
       "<Figure size 432x288 with 1 Axes>"
      ]
     },
     "metadata": {
      "needs_background": "light"
     },
     "output_type": "display_data"
    }
   ],
   "source": [
    "for curve in allErrors[0]:\n",
    "    plt.plot(curve)\n",
    "\n",
    "plt.xlabel('Error Tolerance (ms)')\n",
    "plt.ylabel('Error Rate (%)')\n",
    "plt.legend(folder_names)\n",
    "plt.title('Error Rate vs Error Tolerance (Clean to 5s)')\n",
    "plt.show()"
   ]
  },
  {
   "cell_type": "code",
   "execution_count": 14,
   "metadata": {},
   "outputs": [],
   "source": [
    "def plotAlignment(timesToPlot, systemsToPlot, legend, cfg):\n",
    "    fig, axs = plt.subplots(1, len(timesToPlot), figsize = (10, 7))\n",
    "\n",
    "    for i, plotTime in enumerate(timesToPlot):\n",
    "        x = np.arange(4)\n",
    "        numBars = len(systemsToPlot)\n",
    "        width = 0.75 / numBars\n",
    "        axs[i].grid(zorder=0)\n",
    "        for j, plotSys in enumerate(systemsToPlot):\n",
    "            errorsFile = '/home/tshaw/ttmp/partial_match/%s/evaluations/alignment/align_clean_to_%ss/%s.pkl' \\\n",
    "                % (cfg, str(plotTime), plotSys)\n",
    "            errorCurve = calc_error_rates(savefile, 1000)[0]\n",
    "            axs[i].bar(x - width * (numBars / 2) + (j + 1/2) * width, errorCurve[[20, 50, 100, 200]] * 100, width, zorder = 3)\n",
    "        axs[i].set_xlabel(\"Error Tolerance (ms)\")\n",
    "        axs[i].set_xticks(x)\n",
    "        axs[i].set_xticklabels([20, 50, 100, 200])\n",
    "        axs[i].set_ylim(0,80)\n",
    "        axs[i].set_title(\"L = \" + str(plotTime))\n",
    "\n",
    "    plt.legend(legend, loc = (1.1, 0.5))\n",
    "    fig.suptitle(\"Alignment Error Rates\", fontsize = 'x-large')\n",
    "    axs[0].set_ylabel(\"Error Rate (%)\", fontsize = \"large\")\n",
    "    fig.tight_layout()"
   ]
  },
  {
   "cell_type": "code",
   "execution_count": 15,
   "metadata": {},
   "outputs": [
    {
     "data": {
      "image/png": "[encoded data removed]",
      "text/plain": [
       "<Figure size 720x504 with 3 Axes>"
      ]
     },
     "metadata": {
      "needs_background": "light"
     },
     "output_type": "display_data"
    }
   ],
   "source": [
    "timesToPlot = [15, 15, 15]\n",
    "systemsToPlot = ['dtw233', 'dtw233', 'dtw233']\n",
    "legend = [\"DTW\", \"DTW\", \"DTW\"]\n",
    "cfg = cfg\n",
    "\n",
    "plotAlignment(timesToPlot, systemsToPlot, legend, cfg)"
   ]
  },
  {
   "cell_type": "markdown",
   "metadata": {},
   "source": [
    "## Attribution"
   ]
  },
  {
   "cell_type": "code",
   "execution_count": 16,
   "metadata": {},
   "outputs": [],
   "source": [
    "def eval_attribution(hypdir, query_list, hop_sec, annot_file, \\\n",
    "                     savefile = None, scoring_collar = 0.1, numThresholds = 1000, sr = 22050):\n",
    "    '''\n",
    "    Evaluate the attribution task\n",
    "    '''\n",
    "    scoring_collar_frames = scoring_collar * sr\n",
    "    \n",
    "    df = pd.read_csv(annot_file)\n",
    "    allTimestamps = df.set_index('name').to_dict(orient='index')\n",
    "    attributions = []\n",
    "    \n",
    "    with open(query_list, 'r') as f:\n",
    "        for line in f:\n",
    "            parts = line.strip().split()\n",
    "            assert len(parts) == 2\n",
    "            basename = os.path.basename(parts[0]) + '__' + os.path.basename(parts[1])\n",
    "            hypfile = hypdir + '/' + basename + '.pkl'\n",
    "            \n",
    "            if not os.path.exists(hypfile):\n",
    "                print(\"X\", end='')\n",
    "                continue\n",
    "                \n",
    "            hypalign = pkl.load(open(hypfile, 'rb'))\n",
    "            path = hypalign['wp']\n",
    "\n",
    "            times = allTimestamps[os.path.basename(parts[0]) + \".wav\"]\n",
    "            \n",
    "            firstRepEndTime = times['beginning replacement end (idx)'] / sr\n",
    "            midRepStartTime = times['middle replacement start (idx)'] / sr\n",
    "            midRepEndTime = times['middle replacement end (idx)'] / sr\n",
    "            lastRepStartTime = times['ending replacement start (idx)'] / sr\n",
    "            boundaries = [firstRepEndTime, midRepStartTime, midRepEndTime, lastRepStartTime]\n",
    "            \n",
    "            gt = getAttributionGT(path, boundaries, scoring_collar, hop_sec)\n",
    "            \n",
    "            # Impute cost scores\n",
    "            # Interpolate here to fill in the frames that the path jumps over\n",
    "            costs = np.interp(np.arange(path[-1,0]), path[:,0], hypalign[\"costs\"])\n",
    "            \n",
    "            for i in range(gt.shape[0]):\n",
    "                if gt[i] >=0:\n",
    "                    attributions.append([gt[i], costs[i]])\n",
    "                    \n",
    "    attributions = np.array(attributions)\n",
    "    ROC = calc_ROC(attributions, numThresholds)\n",
    "    \n",
    "    if savefile is not None:\n",
    "        outdir = os.path.dirname(savefile)\n",
    "        outdir = Path(outdir)\n",
    "        outdir.mkdir(parents=True, exist_ok=True)\n",
    "        pkl.dump(ROC, open(savefile, 'wb'))\n",
    "\n",
    "    return ROC"
   ]
  },
  {
   "cell_type": "code",
   "execution_count": 17,
   "metadata": {},
   "outputs": [],
   "source": [
    "def getAttributionGT(path, boundaries, scoring_collar, hop_sec):\n",
    "    \n",
    "    query_length = path[-1,0] # NOTE: Make sure this is the correct index to get the length of the query piece\n",
    "    gt = np.zeros(query_length)\n",
    "    \n",
    "    # Get the GT for each frame\n",
    "    # For now, just represent each frame with a single timestamp (at where the frame begins)\n",
    "    for frame in range(query_length):\n",
    "        t_query = frame * hop_sec\n",
    "        if withinCollar(t_query, boundaries, scoring_collar):\n",
    "            gt[frame] = -1\n",
    "        elif t_query < boundaries[0] or (t_query > boundaries[1] and t_query < boundaries[2]) or t_query > boundaries[3]:\n",
    "            gt[frame] = 1\n",
    "        else:\n",
    "            gt[frame] = 0\n",
    "            \n",
    "    return gt"
   ]
  },
  {
   "cell_type": "code",
   "execution_count": 18,
   "metadata": {},
   "outputs": [],
   "source": [
    "def withinCollar(t_query, boundaries, scoring_collar):\n",
    "    for t_boundary in boundaries:\n",
    "        if np.abs(t_query - t_boundary) < scoring_collar:\n",
    "            return True\n",
    "    return False"
   ]
  },
  {
   "cell_type": "code",
   "execution_count": 19,
   "metadata": {},
   "outputs": [],
   "source": [
    "def calc_ROC(attributions, numThresholds):\n",
    "    '''\n",
    "    Calculates ROC curve for attributions based on number of thresholds\n",
    "    \n",
    "    '''\n",
    "    \n",
    "    costs = attributions[:,1]\n",
    "    gt = attributions[:,0]\n",
    "        \n",
    "        \n",
    "    # Get minimum and max for thresholds\n",
    "    thresholdMin = np.min(costs)\n",
    "    thresholdMax = np.max(costs)\n",
    "    \n",
    "    thresholds = np.linspace(thresholdMin, thresholdMax, numThresholds)\n",
    "    ROC = np.ones((numThresholds,3))*-1\n",
    "    \n",
    "    # For each threshold, calculate false positive and false negative (miss) rate\n",
    "    for i, threshold in enumerate(thresholds):\n",
    "        FPCountTot = 0\n",
    "        FNCountTot = 0\n",
    "        TrueNegCount = 0\n",
    "        TruePosCount = 0\n",
    "        \n",
    "        FPCount, FNCount = calcFPFN(costs, gt, threshold)\n",
    "\n",
    "        TrueNegCount += np.sum(gt == 1) # Note: Positive means match\n",
    "        TruePosCount += np.sum(gt == 0)\n",
    "\n",
    "        FPCountTot += FPCount\n",
    "        FNCountTot += FNCount\n",
    "        \n",
    "        # Threshold, False Positive, False Negative\n",
    "        ROC[i,:] = [threshold, FPCountTot/TrueNegCount, FNCountTot/TruePosCount]\n",
    "    \n",
    "    return ROC"
   ]
  },
  {
   "cell_type": "code",
   "execution_count": 20,
   "metadata": {},
   "outputs": [],
   "source": [
    "def calcFPFN(costVec, gtAttribution, threshold):\n",
    "    '''\n",
    "    Calculate number of false positives and false negatives\n",
    "    '''\n",
    "    \n",
    "    # If cost is lower than threshold, then we consider sample in\n",
    "    # non tampered region (nontampered = 0, tampered = 1)\n",
    "    costHypVec = (costVec >= threshold).astype(int)\n",
    "\n",
    "    diffVec = (costHypVec - gtAttribution)\n",
    "\n",
    "    FPCount = np.sum((diffVec == -1).astype(int))\n",
    "    FNCount = np.sum((diffVec == 1).astype(int))\n",
    "\n",
    "    return FPCount, FNCount"
   ]
  },
  {
   "cell_type": "code",
   "execution_count": 21,
   "metadata": {},
   "outputs": [
    {
     "name": "stdout",
     "output_type": "stream",
     "text": [
      "/home/tshaw/ttmp/partial_match/toy/experiments/align_clean_to_15s/dtw233\n",
      "Took  0.6226937770843506\n"
     ]
    }
   ],
   "source": [
    "ROCCurves = []\n",
    "for t in times:\n",
    "    EXPERIMENTS_ROOT = '/home/tshaw/ttmp/partial_match/%s/experiments/align_clean_to_%ss' % (cfg, t)\n",
    "    EVALUATIONS_ROOT = '/home/tshaw/ttmp/partial_match/%s/evaluations/attribution/align_clean_to_%ss' % (cfg, t)\n",
    "\n",
    "    ts = '/home/cchang/ttmp/raw_data/partial_match/Chopin_Mazurkas_partial_match_%ss/replacement_ts.csv' % t\n",
    "    for i in range(len(savefile_names)):\n",
    "        savefile = EVALUATIONS_ROOT + \"/\" + savefile_names[i]\n",
    "        hypdir = EXPERIMENTS_ROOT + \"/\" + folder_names[i]\n",
    "        print(hypdir)\n",
    "\n",
    "        start = time.time()\n",
    "        ROC = eval_attribution(hypdir, query_list, hop_sec, ts, savefile = savefile, scoring_collar = 0.1)\n",
    "        ROCCurves.append(ROC)\n",
    "        print('Took ', time.time() - start)"
   ]
  },
  {
   "cell_type": "markdown",
   "metadata": {},
   "source": [
    "### Figures"
   ]
  },
  {
   "cell_type": "code",
   "execution_count": 22,
   "metadata": {},
   "outputs": [
    {
     "data": {
      "image/png": "[encoded data removed]",
      "text/plain": [
       "<Figure size 432x288 with 1 Axes>"
      ]
     },
     "metadata": {
      "needs_background": "light"
     },
     "output_type": "display_data"
    }
   ],
   "source": [
    "ROC = ROCCurves[0]\n",
    "plt.plot(ROC[:,1], ROC[:,2])\n",
    "plt.xlabel(\"False Positive Rate\");\n",
    "plt.ylabel(\"False Negative Rate\");\n",
    "plt.title(\"ROC for DTW233\");"
   ]
  },
  {
   "cell_type": "code",
   "execution_count": 23,
   "metadata": {},
   "outputs": [
    {
     "data": {
      "image/png": "[encoded data removed]",
      "text/plain": [
       "<Figure size 432x288 with 1 Axes>"
      ]
     },
     "metadata": {
      "needs_background": "light"
     },
     "output_type": "display_data"
    }
   ],
   "source": [
    "plt.plot(ROC[:,0], ROC[:,1]);\n",
    "plt.plot(ROC[:,0], ROC[:,2]);\n",
    "plt.xlabel(\"Threshold\");\n",
    "plt.ylabel(\"Rate\")\n",
    "plt.legend([\"False Positive\", \"False Negative\"]);"
   ]
  },
  {
   "cell_type": "code",
   "execution_count": 24,
   "metadata": {},
   "outputs": [],
   "source": [
    "def plotAttribution(timesToPlot, systemsToPlot, legend, cfg):\n",
    "    EERs = np.zeros((len(timesToPlot), len(systemsToPlot)))\n",
    "    for i, plotTime in enumerate(timesToPlot):\n",
    "        for j, plotSys in enumerate(systemsToPlot):\n",
    "            ROCfile = '/home/tshaw/ttmp/partial_match/%s/evaluations/attribution/align_clean_to_%ss/%s.pkl' \\\n",
    "            % (cfg, str(plotTime), plotSys)\n",
    "            ROC = pkl.load(open(ROCfile, 'rb'))\n",
    "            FP, FN, minDiff = findEER(ROC)\n",
    "            EERs[i,j] = (FP + FN) / 2 # Take the average of the FP and FN rates when they are at the closest point\n",
    "            \n",
    "    x = np.arange(len(timesToPlot))\n",
    "    numBars = len(systemsToPlot)\n",
    "    width = 0.75 / numBars\n",
    "    \n",
    "    for i in range(numBars):\n",
    "        plt.bar(x - width * (numBars / 2) + (i + 1/2) * width, EERs[:,i] * 100, width)\n",
    "    \n",
    "    plt.ylim(0,100)\n",
    "    plt.ylabel(\"Equal Error Rate (%)\")\n",
    "    \n",
    "    plt.xlabel(\"Edit Duration (s)\")\n",
    "    plt.xticks(x, timesToPlot)\n",
    "    \n",
    "    plt.legend(legend)\n",
    "    plt.title(\"EER For Different Systems at With Different Edit Lengths\")"
   ]
  },
  {
   "cell_type": "code",
   "execution_count": 25,
   "metadata": {},
   "outputs": [],
   "source": [
    "def findEER(ROC):\n",
    "    '''\n",
    "    Calculates Equal Error Rate based on ROC\n",
    "    \n",
    "    '''\n",
    "    minDiff = np.inf\n",
    "    savedFP = 0\n",
    "    savedFN = 0\n",
    "\n",
    "    for rate in ROC:\n",
    "        FP = rate[1]\n",
    "        FN = rate[2]\n",
    "\n",
    "        if np.abs(FP - FN) < minDiff:\n",
    "            minDiff = np.abs(FP - FN)\n",
    "            savedFP = FP\n",
    "            savedFN = FN\n",
    "            \n",
    "    return savedFP, savedFN, minDiff"
   ]
  },
  {
   "cell_type": "code",
   "execution_count": 26,
   "metadata": {},
   "outputs": [
    {
     "data": {
      "image/png": "[encoded data removed]",
      "text/plain": [
       "<Figure size 432x288 with 1 Axes>"
      ]
     },
     "metadata": {
      "needs_background": "light"
     },
     "output_type": "display_data"
    }
   ],
   "source": [
    "timesToPlot = [15, 15, 15, 15, 15, 15]\n",
    "systemsToPlot = ['dtw233', 'dtw233', 'dtw233']\n",
    "legend = [\"DTW\", \"DTW\", \"DTW\"]\n",
    "cfg = cfg # Change this at top of file to change which benchmark is being plot\n",
    "\n",
    "plotAttribution(timesToPlot, systemsToPlot, legend, cfg)"
   ]
  },
  {
   "cell_type": "code",
   "execution_count": null,
   "metadata": {},
   "outputs": [],
   "source": []
  }
 ],
 "metadata": {
  "kernelspec": {
   "display_name": "MIR",
   "language": "python",
   "name": "mir"
  },
  "language_info": {
   "codemirror_mode": {
    "name": "ipython",
    "version": 3
   },
   "file_extension": ".py",
   "mimetype": "text/x-python",
   "name": "python",
   "nbconvert_exporter": "python",
   "pygments_lexer": "ipython3",
   "version": "3.7.10"
  }
 },
 "nbformat": 4,
 "nbformat_minor": 4
}
