{
 "cells": [
  {
   "cell_type": "code",
   "execution_count": 1,
   "metadata": {},
   "outputs": [],
   "source": [
    "import numpy as np\n",
    "import matplotlib.pyplot as plt\n",
    "import glob\n",
    "import os.path\n",
    "from pathlib import Path\n",
    "import time\n",
    "import pandas as pd\n",
    "import pickle as pkl\n",
    "import librosa as lb\n",
    "from sklearn import metrics"
   ]
  },
  {
   "cell_type": "code",
   "execution_count": 2,
   "metadata": {},
   "outputs": [],
   "source": [
    "user = 'tshaw'"
   ]
  },
  {
   "cell_type": "code",
   "execution_count": 3,
   "metadata": {},
   "outputs": [],
   "source": [
    "hop_sec = 512 * 1 / 22050\n",
    "n_cores = 8\n",
    "downsample = 1"
   ]
  },
  {
   "cell_type": "code",
   "execution_count": 4,
   "metadata": {},
   "outputs": [],
   "source": [
    "ANNOTATIONS_ROOT_CLEAN = Path('/home/{}/ttmp/raw_data/Chopin_Mazurkas/annotations_beat'.format(user))\n",
    "FEATURES_ROOT_CLEAN = Path('/home/{}/ttmp/features/clean'.format(user))"
   ]
  },
  {
   "cell_type": "code",
   "execution_count": 5,
   "metadata": {},
   "outputs": [],
   "source": [
    "times = np.array([5,10,20,30])\n",
    "\n",
    "cfg_options = ['toy', 'small', 'small2', 'medium', 'train_benchmark', 'test_benchmark']\n",
    "cfg = cfg_options[5] # Change this to appropriate benchmark\n",
    "\n",
    "if cfg == 'toy':\n",
    "    query_list = 'cfg_files/query.train_toy.list'\n",
    "elif cfg == 'small':\n",
    "    query_list = 'cfg_files/query.train_small.list'\n",
    "elif cfg == 'small2':\n",
    "    query_list = 'cfg_files/query.train_small2.list'\n",
    "elif cfg == 'medium':\n",
    "    query_list = 'cfg_files/query.train_medium.list'\n",
    "elif cfg == 'train_benchmark':\n",
    "    query_list = 'cfg_files/query.train.list'\n",
    "elif cfg == 'test_benchmark':\n",
    "    query_list = 'cfg_files/query.test.list'"
   ]
  },
  {
   "cell_type": "code",
   "execution_count": 6,
   "metadata": {},
   "outputs": [],
   "source": [
    "folder_names = ['dtw233', 'dtw111', 'nwtw/gamma_1', 'nwtw/gamma_0.2','hstw/gamma_10_beta_150']\n",
    "savefile_names = ['dtw233.pkl', 'dtw111.pkl', 'nwtw_gamma_1.pkl','nwtw_gamma_0.2.pkl', 'hstw_gamma_10_beta_150.pkl']"
   ]
  },
  {
   "cell_type": "markdown",
   "metadata": {},
   "source": [
    "## Alignment"
   ]
  },
  {
   "cell_type": "markdown",
   "metadata": {
    "heading_collapsed": true
   },
   "source": [
    "### Functions"
   ]
  },
  {
   "cell_type": "code",
   "execution_count": 7,
   "metadata": {
    "hidden": true
   },
   "outputs": [],
   "source": [
    "def eval_dir(hypdir, querylist, hop_sec, scoring_collar = 0.1, annot_root_query = ANNOTATIONS_ROOT_CLEAN, \\\n",
    "             annot_root_ref = ANNOTATIONS_ROOT_CLEAN, features_query = FEATURES_ROOT_CLEAN, \\\n",
    "             features_ref = FEATURES_ROOT_CLEAN, savefile = None, verbose=False, partial_match=True, **kwargs):\n",
    "    '''\n",
    "    Evaluate the alignment task for all aligments of a given edit duration and system.\n",
    "    Excludes tampered regions and scoring_collar seconds around tampered regions\n",
    "    Can also be used for non-tampered by setting partial_match=False\n",
    "    '''\n",
    "    if savefile:\n",
    "        outdir = os.path.dirname(savefile)\n",
    "        outdir = Path(outdir)\n",
    "        outdir.mkdir(parents=True, exist_ok=True)\n",
    "    \n",
    "    # Initialize dictionaries\n",
    "    allErrs = {}\n",
    "    allCosts = {}\n",
    "    allAtrGT = {}\n",
    "    \n",
    "    cnt = 0\n",
    "    if verbose:\n",
    "        print(f'Processing {hypdir} ', end='')\n",
    "        \n",
    "    # assumes that if partial_match, the query dir has replacement_ts.csv file on the same level as annot_root_query\n",
    "    if partial_match:\n",
    "        \n",
    "        assert('replacement_ts_file' in kwargs)\n",
    "        \n",
    "        df = pd.read_csv(kwargs['replacement_ts_file'])\n",
    "        #df = pd.read_csv((annot_root_query.parent / 'replacement_ts.csv').as_posix())\n",
    "        allTimestamps = df.set_index('name').to_dict(orient='index')\n",
    "        \n",
    "    with open(querylist, 'r') as f:\n",
    "        for line in f:\n",
    "            parts = line.strip().split()\n",
    "            assert len(parts) == 2\n",
    "            basename = os.path.basename(parts[0]) + '__' + os.path.basename(parts[1])\n",
    "            hypfile = hypdir + '/' + basename + '.pkl'\n",
    "            \n",
    "            if not os.path.exists(hypfile):\n",
    "                print(\"X\", end='')\n",
    "                continue\n",
    "                \n",
    "            if partial_match:\n",
    "                downsample = 1\n",
    "\n",
    "                times = allTimestamps[os.path.basename(parts[0]) + '.wav']\n",
    "                firstRepEndIdx = times['beginning replacement end (idx)']\n",
    "                midRepStartIdx = times['middle replacement start (idx)']\n",
    "                midRepEndIdx = times['middle replacement end (idx)']\n",
    "                lastRepStartIdx = times['ending replacement start (idx)']\n",
    "                allErrs[basename] = eval_align_partial_matching(hypfile, hop_sec, firstRepEndIdx, midRepStartIdx, \\\n",
    "                                                                midRepEndIdx, lastRepStartIdx, scoring_collar, \\\n",
    "                                                                downsample, annot_root_query,  annot_root_ref, \\\n",
    "                                                                features_query, features_ref)\n",
    "                \n",
    "            else:\n",
    "                allErrs[basename] = eval_file(hypfile, hop_sec, annot_root_ref, annot_root_query)\n",
    "            cnt += 1\n",
    "            if cnt % 500 == 0:\n",
    "                print(\".\", end='')\n",
    "                \n",
    "    if verbose:\n",
    "        print(' done')\n",
    "    if savefile:\n",
    "        \n",
    "        if partial_match:\n",
    "            pkl.dump([allErrs, allCosts, allAtrGT], open(savefile, 'wb'))\n",
    "        else:\n",
    "            pkl.dump(allErrs, open(savefile, 'wb'))\n",
    "        \n",
    "    return allErrs\n"
   ]
  },
  {
   "cell_type": "code",
   "execution_count": 8,
   "metadata": {
    "hidden": true
   },
   "outputs": [],
   "source": [
    "def eval_align_partial_matching(hypfile, hop_sec, firstRepEndIdx, midRepStartIdx, midRepEndIdx, lastRepStartIdx, \\\n",
    "                                scoring_collar = 0.1, downsample = 1, annot_query = ANNOTATIONS_ROOT_CLEAN, \\\n",
    "                                annot_ref = ANNOTATIONS_ROOT_CLEAN, features_query = FEATURES_ROOT_CLEAN,\\\n",
    "                                features_ref = FEATURES_ROOT_CLEAN):\n",
    "    '''\n",
    "    Evaluate aligment of a single query\n",
    "    \n",
    "    First file (query) = Tampered query\n",
    "    Second file (ref) = clean reference\n",
    "    \n",
    "    '''\n",
    "    \n",
    "    parts = os.path.basename(hypfile).split('__')\n",
    "    assert len(parts) == 2\n",
    "    piece = extractPieceName(parts[0])\n",
    "    \n",
    "    annotfile_query = (annot_query / piece / parts[0]).with_suffix('.beat')\n",
    "    annotfile_ref = (annot_ref / piece / parts[1]).with_suffix('.beat')\n",
    "    \n",
    "    featfile_query = (features_query / piece / parts[0]).with_suffix('.npy')\n",
    "    featfile_ref = (features_ref / piece / parts[1]).with_suffix('.npy')\n",
    "    \n",
    "    gt_query, gt_ref = getTimestamps(annotfile_query), getTimestamps(annotfile_ref)\n",
    "        \n",
    "    hypalign = loadAlignment(hypfile) # warping path in frames\n",
    "    \n",
    "    if hypalign is None:\n",
    "#         gt_attribution = []\n",
    "        err = None\n",
    "    else:\n",
    "        \n",
    "        # Alignment Error\n",
    "        # for HPTW, hypalign is in the form [visible path, hidden path]\n",
    "        err = getAlignmentError(gt_query, gt_ref, hop_sec, firstRepEndIdx, midRepStartIdx, midRepEndIdx, lastRepStartIdx, hypalign, scoring_collar)\n",
    "        \n",
    "    return err"
   ]
  },
  {
   "cell_type": "code",
   "execution_count": 9,
   "metadata": {
    "hidden": true
   },
   "outputs": [],
   "source": [
    "def getAlignmentError(gt_query, gt_ref, hop_sec, firstRepEndIdx, midRepStartIdx, midRepEndIdx, lastRepStartIdx, \\\n",
    "                      hypalign, scoring_collar = 0.1, sr = 22050):\n",
    "    '''\n",
    "    Computes alignment error on untampered regions\n",
    "    \n",
    "    Inputs:\n",
    "    gt_query: ground truth ts of query beats in seconds\n",
    "    gt_ref: ground truth ts of reference beats in seconds\n",
    "    hop_sec: hop size in seconds\n",
    "    firstRepEndIdx: ending idx of first replacement section\n",
    "    midRepStartIdx: starting idx of middle replacement section\n",
    "    midRepEndIdx: ending idx of middle replacement section\n",
    "    lastRepStartIdx: starting idx of last replacement section\n",
    "    hypalign: predicted warping path\n",
    "    \n",
    "    Outputs:\n",
    "    err: error in seconds between prediction and ground truth\n",
    "    \n",
    "    '''\n",
    "    # hypalign[:,0] corresponds to query audio\n",
    "    # hypalign[:,1] corresponds to ref audio\n",
    "    \n",
    "    scoring_collar_frames = scoring_collar * sr\n",
    "    \n",
    "    # Get indices to exclude from gt_query \n",
    "    startExclude = np.argwhere(gt_query * sr < firstRepEndIdx + scoring_collar_frames)\n",
    "    midExclude = np.argwhere(np.logical_and(gt_query * sr > midRepStartIdx - scoring_collar_frames, \\\n",
    "                                            gt_query * sr < midRepEndIdx + scoring_collar_frames))\n",
    "    endExclude = np.argwhere(gt_query * sr > lastRepStartIdx - scoring_collar_frames)\n",
    "\n",
    "    excludedIdx = np.concatenate((startExclude, midExclude, endExclude)).flatten()\n",
    "    keepIdx = np.setdiff1d(np.arange(len(gt_query)), excludedIdx)\n",
    "    \n",
    "    gt_query_valid = gt_query[keepIdx]\n",
    "\n",
    "    # Calculate predictions via interpolation only on ground truth valid frames in query\n",
    "    pred_ref = np.interp(gt_query_valid, np.array(hypalign['wp'][:,0]*hop_sec), np.array(hypalign['wp'][:,1]*hop_sec))\n",
    "\n",
    "    # Calculate error\n",
    "    err = pred_ref - gt_ref[keepIdx]\n",
    "    \n",
    "    return err"
   ]
  },
  {
   "cell_type": "code",
   "execution_count": 10,
   "metadata": {
    "hidden": true
   },
   "outputs": [],
   "source": [
    "def getTimestamps(annotfile):\n",
    "    df = pd.read_csv(annotfile, header=None, sep='\\s+', skiprows=3)\n",
    "    return np.array(df[0])\n",
    "\n",
    "\n",
    "def extractPieceName(fullpath):\n",
    "    basename = os.path.basename(fullpath) # e.g. Chopin_Op068No3_Sztompka-1959_pid9170b-21\n",
    "    parts = basename.split('_')\n",
    "    piece = '_'.join(parts[0:2]) # e.g. Chopin_Op068No3\n",
    "    return piece\n",
    "\n",
    "def loadAlignment(hypfile):\n",
    "    with open(hypfile, 'rb') as f:\n",
    "        d = pkl.load(f)\n",
    "    return d"
   ]
  },
  {
   "cell_type": "markdown",
   "metadata": {},
   "source": [
    "### Run Alignments"
   ]
  },
  {
   "cell_type": "code",
   "execution_count": 11,
   "metadata": {},
   "outputs": [
    {
     "name": "stdout",
     "output_type": "stream",
     "text": [
      "L = 5\n",
      "/home/tshaw/ttmp/partial_match/test_benchmark/experiments/align_clean_to_5s/dtw233\n",
      "..............\n",
      "/home/tshaw/ttmp/partial_match/test_benchmark/experiments/align_clean_to_5s/dtw111\n",
      "..............\n",
      "/home/tshaw/ttmp/partial_match/test_benchmark/experiments/align_clean_to_5s/nwtw/gamma_1\n",
      "..............\n",
      "/home/tshaw/ttmp/partial_match/test_benchmark/experiments/align_clean_to_5s/nwtw/gamma_0.2\n",
      "..............\n",
      "/home/tshaw/ttmp/partial_match/test_benchmark/experiments/align_clean_to_5s/hstw/gamma_10_beta_150\n",
      "..............\n",
      "Took  127.28811526298523\n",
      "L = 10\n",
      "/home/tshaw/ttmp/partial_match/test_benchmark/experiments/align_clean_to_10s/dtw233\n",
      "..............\n",
      "/home/tshaw/ttmp/partial_match/test_benchmark/experiments/align_clean_to_10s/dtw111\n",
      "..............\n",
      "/home/tshaw/ttmp/partial_match/test_benchmark/experiments/align_clean_to_10s/nwtw/gamma_1\n",
      "..............\n",
      "/home/tshaw/ttmp/partial_match/test_benchmark/experiments/align_clean_to_10s/nwtw/gamma_0.2\n",
      "..............\n",
      "/home/tshaw/ttmp/partial_match/test_benchmark/experiments/align_clean_to_10s/hstw/gamma_10_beta_150\n",
      "..............\n",
      "Took  127.18034887313843\n",
      "L = 20\n",
      "/home/tshaw/ttmp/partial_match/test_benchmark/experiments/align_clean_to_20s/dtw233\n",
      "..............\n",
      "/home/tshaw/ttmp/partial_match/test_benchmark/experiments/align_clean_to_20s/dtw111\n",
      "..............\n",
      "/home/tshaw/ttmp/partial_match/test_benchmark/experiments/align_clean_to_20s/nwtw/gamma_1\n",
      "..............\n",
      "/home/tshaw/ttmp/partial_match/test_benchmark/experiments/align_clean_to_20s/nwtw/gamma_0.2\n",
      "..............\n",
      "/home/tshaw/ttmp/partial_match/test_benchmark/experiments/align_clean_to_20s/hstw/gamma_10_beta_150\n",
      "..............\n",
      "Took  127.47611784934998\n",
      "L = 30\n",
      "/home/tshaw/ttmp/partial_match/test_benchmark/experiments/align_clean_to_30s/dtw233\n",
      "..............\n",
      "/home/tshaw/ttmp/partial_match/test_benchmark/experiments/align_clean_to_30s/dtw111\n",
      "..............\n",
      "/home/tshaw/ttmp/partial_match/test_benchmark/experiments/align_clean_to_30s/nwtw/gamma_1\n",
      "..............\n",
      "/home/tshaw/ttmp/partial_match/test_benchmark/experiments/align_clean_to_30s/nwtw/gamma_0.2\n",
      "..............\n",
      "/home/tshaw/ttmp/partial_match/test_benchmark/experiments/align_clean_to_30s/hstw/gamma_10_beta_150\n",
      "..............\n",
      "Took  127.80334687232971\n"
     ]
    }
   ],
   "source": [
    "# **************************************************\n",
    "for t in times:\n",
    "    print(\"L =\", t)\n",
    "    \n",
    "    EXPERIMENTS_ROOT = '/home/%s/ttmp/partial_match/%s/experiments/align_clean_to_%ss' % (user, cfg, t)\n",
    "    EVALUATIONS_ROOT = '/home/%s/ttmp/partial_match/%s/evaluations/alignment/align_clean_to_%ss' % (user, cfg, t)\n",
    "    ts = '/home/%s/ttmp/raw_data/partial_match/Chopin_Mazurkas_partial_match_%ss/replacement_ts.csv' % (user, t)\n",
    "    start = time.time()\n",
    "\n",
    "    for i in range(len(savefile_names)): #range(6) is normal, skipping 0 since we've already calculated that\n",
    "        savefile = EVALUATIONS_ROOT + \"/\" + savefile_names[i]\n",
    "        hypdir = EXPERIMENTS_ROOT + \"/\" + folder_names[i]\n",
    "        \n",
    "        print(hypdir)\n",
    "        all_errors_test = eval_dir(hypdir, query_list, hop_sec, savefile = savefile, partial_match=True, replacement_ts_file=ts)\n",
    "        print(\"\")\n",
    "\n",
    "    print('Took ', time.time() - start)"
   ]
  },
  {
   "cell_type": "markdown",
   "metadata": {},
   "source": [
    "### Alignment Figures"
   ]
  },
  {
   "cell_type": "code",
   "execution_count": 12,
   "metadata": {},
   "outputs": [],
   "source": [
    "def calc_error_rates(errFile, maxTol, justErrorFile = False):\n",
    "    '''\n",
    "    Calculates error rates at various error tolerances given a file containing the errors in seconds\n",
    "    Will test millisecond increments up to maxTol - the max error tolerance in milliseconds\n",
    "    '''\n",
    "    \n",
    "    # read from file\n",
    "    with open(errFile, 'rb') as f:\n",
    "        if justErrorFile:\n",
    "            allErrs = pkl.load(f)\n",
    "        else:\n",
    "            allErrs, _, _ = pkl.load(f)\n",
    "    \n",
    "    # collect all errors\n",
    "    errsFlat = []\n",
    "    for query in allErrs:\n",
    "        if allErrs[query] is not None:\n",
    "            errs = np.array(allErrs[query])\n",
    "            errsFlat.append(errs)\n",
    "    errsFlat = np.concatenate(errsFlat)\n",
    "    \n",
    "    # calculate error rates\n",
    "    errRates = np.zeros(maxTol+1)\n",
    "    for i in range(maxTol+1):\n",
    "        errRates[i] = np.mean(np.abs(errsFlat) > i/1000)\n",
    "    \n",
    "    return errRates, errsFlat"
   ]
  },
  {
   "cell_type": "code",
   "execution_count": 13,
   "metadata": {},
   "outputs": [],
   "source": [
    "def plotAlignment(timesToPlot, systemsToPlot, legend, cfg, title=\"Alignment Error Rates\"):\n",
    "    fig, axs = plt.subplots(1, len(timesToPlot), figsize = (11, 7))\n",
    "    x = np.arange(4)\n",
    "    numBars = len(systemsToPlot)\n",
    "    width = 0.75 / numBars\n",
    "    \n",
    "    for i, plotTime in enumerate(timesToPlot):\n",
    "        \n",
    "        axs[i].grid(zorder=0)\n",
    "        for j, plotSys in enumerate(systemsToPlot):\n",
    "            errorsFile = '/home/%s/ttmp/partial_match/%s/evaluations/alignment/align_clean_to_%ss/%s.pkl' \\\n",
    "                % (user, cfg, str(plotTime), plotSys)\n",
    "            errorCurve = calc_error_rates(errorsFile, 1000)[0]\n",
    "            axs[i].bar(x - width * (numBars / 2) + (j + 1/2) * width, errorCurve[[20, 50, 100, 200]] * 100, width, zorder = 3)\n",
    "#         axs[i].set_xlabel(\"Error Tolerance (ms)\")\n",
    "        axs[i].set_xticks(x)\n",
    "        axs[i].set_xticklabels([20, 50, 100, 200], fontsize=\"small\")\n",
    "        axs[i].set_ylim(0,80)\n",
    "        axs[i].set_title(\"L = \" + str(plotTime))\n",
    "\n",
    "    plt.legend(legend, loc = (1.1, 0.5))\n",
    "    fig.suptitle(title, fontsize = 'x-large')\n",
    "    axs[0].set_ylabel(\"Error Rate (%)\", fontsize = \"large\")\n",
    "    axs[len(timesToPlot) // 2].set_xlabel(\"Error Tolerance (ms)\", fontsize = \"large\")\n",
    "    fig.tight_layout()"
   ]
  },
  {
   "cell_type": "code",
   "execution_count": 14,
   "metadata": {},
   "outputs": [
    {
     "data": {
      "image/png": "[encoded data removed]",
      "text/plain": [
       "<Figure size 792x504 with 4 Axes>"
      ]
     },
     "metadata": {
      "needs_background": "light"
     },
     "output_type": "display_data"
    }
   ],
   "source": [
    "# Test Benchmark Alignment Plot\n",
    "timesToPlot = times\n",
    "systemsToPlot = ['dtw233', 'dtw111', 'nwtw_gamma_1','nwtw_gamma_0.2', 'hstw_gamma_10_beta_150']\n",
    "legend = [\"DTW-233\", \"DTW-111\", \"NWTW-threshold\", \"NWTW-skip\",\"HSTW\"]\n",
    "cfg = cfg\n",
    "\n",
    "plotAlignment(timesToPlot, systemsToPlot, legend, cfg, title=\"Alignment Error Rates (Test Benchmark)\")"
   ]
  },
  {
   "cell_type": "markdown",
   "metadata": {},
   "source": [
    "## Attribution"
   ]
  },
  {
   "cell_type": "markdown",
   "metadata": {
    "heading_collapsed": true
   },
   "source": [
    "### Functions"
   ]
  },
  {
   "cell_type": "code",
   "execution_count": 19,
   "metadata": {
    "hidden": true
   },
   "outputs": [],
   "source": [
    "def eval_attribution(hypdir, query_list, hop_sec, annot_file, \\\n",
    "                     savefile = None, scoring_collar = 0.1, sr = 22050, planeAttrib = True):\n",
    "    '''\n",
    "    Evaluate the attribution task\n",
    "    planeAttrib = True is used for HSTW-plane and NWTW-skip\n",
    "    Returns/saves the attributions is planeAttrib = True and the ROC if planeAttrib = False\n",
    "    '''\n",
    "    \n",
    "    df = pd.read_csv(annot_file)\n",
    "    allTimestamps = df.set_index('name').to_dict(orient='index')\n",
    "    attributions = []\n",
    "\n",
    "    # Evaluate each query\n",
    "    with open(query_list, 'r') as f:\n",
    "        for line in f:\n",
    "            theseAttributions = evalQuery_attrib(line, allTimestamps, hypdir, hop_sec, annot_file, scoring_collar, sr, planeAttrib)\n",
    "            if len(theseAttributions) > 0:\n",
    "                attributions.append(theseAttributions)\n",
    "                  \n",
    "    attributions = np.vstack(attributions)\n",
    "    \n",
    "    if savefile is not None:\n",
    "        if planeAttrib: # Save format is different for plane attribution (Save actual attributions instead of ROC)\n",
    "            outdir = os.path.dirname(savefile)\n",
    "            outdir = Path(outdir)\n",
    "            outdir.mkdir(parents=True, exist_ok=True)\n",
    "            pkl.dump(attributions, open(savefile, 'wb'))\n",
    "            return attributions\n",
    "        else:\n",
    "            ROC = calc_ROC(attributions)  # Save precomputed ROC for threshold systems\n",
    "            if savefile is not None:\n",
    "                outdir = os.path.dirname(savefile)\n",
    "                outdir = Path(outdir)\n",
    "                outdir.mkdir(parents=True, exist_ok=True)\n",
    "                pkl.dump(ROC, open(savefile, 'wb'))\n",
    "\n",
    "            return ROC"
   ]
  },
  {
   "cell_type": "code",
   "execution_count": 20,
   "metadata": {
    "hidden": true
   },
   "outputs": [],
   "source": [
    "def evalQuery_attrib(line, allTimestamps, hypdir, hop_sec, annot_file, scoring_collar, sr, planeAttrib):\n",
    "    '''\n",
    "    Evaluate attribution for a single query\n",
    "    '''\n",
    "    \n",
    "    scoring_collar_frames = int(scoring_collar / hop_sec)\n",
    "\n",
    "    # Extract query information\n",
    "    parts = line.strip().split()\n",
    "    assert len(parts) == 2\n",
    "    basename = os.path.basename(parts[0]) + '__' + os.path.basename(parts[1])\n",
    "    hypfile = hypdir + '/' + basename + '.pkl'\n",
    "\n",
    "    if not os.path.exists(hypfile):\n",
    "        print(hypfile)\n",
    "        print(\"X\", end='')\n",
    "        return np.array([])\n",
    "\n",
    "    # Evaluate query\n",
    "    hypalign = pkl.load(open(hypfile, 'rb'))\n",
    "    if hypalign is not None:\n",
    "        path = hypalign['wp']\n",
    "        query_length = path[-1,0]\n",
    "\n",
    "        times = allTimestamps[os.path.basename(parts[0]) + \".wav\"]\n",
    "\n",
    "        # Use annotations to find tampered regions\n",
    "        firstRepEndTime = times['beginning replacement end (idx)'] / sr\n",
    "        midRepStartTime = times['middle replacement start (idx)'] / sr\n",
    "        midRepEndTime = times['middle replacement end (idx)'] / sr\n",
    "        lastRepStartTime = times['ending replacement start (idx)'] / sr\n",
    "        boundaries = np.array([firstRepEndTime, midRepStartTime, midRepEndTime, lastRepStartTime])\n",
    "\n",
    "        # Assemble the ground truth attributions\n",
    "        gt = getAttributionGT(query_length, boundaries, scoring_collar, hop_sec)\n",
    "    \n",
    "        # Impute cost scores or plane attributions\n",
    "        if planeAttrib:\n",
    "            preds = np.interp(np.arange(path[-1,0]), path[:,0], path[:,2])\n",
    "            preds = np.ceil(preds) # If frame is in both planes, default to visible (match)\n",
    "            \n",
    "        # Interpolate here to fill in the frames that the path jumps over\n",
    "        else:\n",
    "            preds = np.interp(np.arange(path[-1,0]), path[:,0], hypalign[\"costs\"])\n",
    "\n",
    "        attributions = np.hstack((gt.reshape((-1,1)), preds.reshape((-1,1))))\n",
    "        \n",
    "        collarFilter = gt >= 0\n",
    "        attributions = attributions[collarFilter, :]\n",
    "        return attributions\n",
    "    \n",
    "    else:\n",
    "        return np.array([])"
   ]
  },
  {
   "cell_type": "code",
   "execution_count": 21,
   "metadata": {
    "hidden": true
   },
   "outputs": [],
   "source": [
    "def getAttributionGT(query_length, boundaries, scoring_collar, hop_sec):\n",
    "    '''\n",
    "    Get the ground truth attributions given the length, the scoring collar, \n",
    "    and a list of where the edits start and end\n",
    "    '''\n",
    "    \n",
    "    boundaryFrames = np.round(boundaries / hop_sec).astype(int)\n",
    "    # Assemble gt with no scoring collar\n",
    "    gt = np.zeros(query_length)\n",
    "    gt[boundaryFrames[0]:boundaryFrames[1]] = 1\n",
    "    gt[boundaryFrames[2]:boundaryFrames[3]] = 1\n",
    "    \n",
    "    # Apply scoring collar:\n",
    "    for boundary in boundaries:\n",
    "        collarStartTime = boundary - scoring_collar\n",
    "        collarStartFrame = int(np.ceil(collarStartTime / hop_sec))\n",
    "        collarEndTime = boundary + scoring_collar\n",
    "        collarEndFrame = int(np.ceil(collarEndTime / hop_sec))\n",
    "        gt[collarStartFrame:collarEndFrame] = -1\n",
    "    \n",
    "    return gt"
   ]
  },
  {
   "cell_type": "code",
   "execution_count": 22,
   "metadata": {
    "hidden": true
   },
   "outputs": [],
   "source": [
    "def calc_ROC(attributions):\n",
    "    '''\n",
    "    Calculate an ROC given costs\n",
    "    Format of ROC is [thresholds, false positive, false negative]\n",
    "    '''\n",
    "    flippedGT = (attributions[:,0] == 0).astype(int) # Flip 1s and 0s to better interface with sklearn.metrics ROC fn\n",
    "    fps, tps, thresholds = metrics.roc_curve(flippedGT, attributions[:,1])\n",
    "    # Now FP means called non-match when really a match, which is really a FN,\n",
    "    # So save FP in third col of ROC\n",
    "    return np.array([thresholds, 1-tps, fps]).T"
   ]
  },
  {
   "cell_type": "code",
   "execution_count": 23,
   "metadata": {
    "hidden": true
   },
   "outputs": [],
   "source": [
    "def planeAttribToFPFN(paFile):\n",
    "    '''\n",
    "    Extract the false positive and false negative rates from a saved plane attribution evaluation file\n",
    "    '''\n",
    "    attribs = pkl.load(open(paFile, 'rb'))\n",
    "    diffs = attribs[:,1] - attribs[:,0] # 0 for correct, 1 for fp, -1 for fn\n",
    "    fp = np.sum(diffs == 1) / (np.sum(attribs[:,0] == 0)) # num fp / num true neg\n",
    "    fn = np.sum(diffs == -1) / (np.sum(attribs[:,0] == 1)) # num fn / num true pos\n",
    "    return fp, fn"
   ]
  },
  {
   "cell_type": "markdown",
   "metadata": {},
   "source": [
    "### Evaluate Plane Attribution"
   ]
  },
  {
   "cell_type": "code",
   "execution_count": 24,
   "metadata": {},
   "outputs": [
    {
     "name": "stdout",
     "output_type": "stream",
     "text": [
      "/home/tshaw/ttmp/partial_match/test_benchmark/experiments/align_clean_to_5s/nwtw/gamma_0.2\n",
      "/home/tshaw/ttmp/partial_match/test_benchmark/experiments/align_clean_to_5s/hstw/gamma_10_beta_150\n",
      "Took  10.03687047958374\n",
      "/home/tshaw/ttmp/partial_match/test_benchmark/experiments/align_clean_to_10s/nwtw/gamma_0.2\n",
      "/home/tshaw/ttmp/partial_match/test_benchmark/experiments/align_clean_to_10s/hstw/gamma_10_beta_150\n",
      "Took  10.81891393661499\n",
      "/home/tshaw/ttmp/partial_match/test_benchmark/experiments/align_clean_to_20s/nwtw/gamma_0.2\n",
      "/home/tshaw/ttmp/partial_match/test_benchmark/experiments/align_clean_to_20s/hstw/gamma_10_beta_150\n",
      "Took  11.150548934936523\n",
      "/home/tshaw/ttmp/partial_match/test_benchmark/experiments/align_clean_to_30s/nwtw/gamma_0.2\n",
      "/home/tshaw/ttmp/partial_match/test_benchmark/experiments/align_clean_to_30s/hstw/gamma_10_beta_150\n",
      "Took  11.060571432113647\n"
     ]
    }
   ],
   "source": [
    "allAttr = []\n",
    "for t in times:\n",
    "    EXPERIMENTS_ROOT = '/home/%s/ttmp/partial_match/%s/experiments/align_clean_to_%ss' % (user, cfg, t)\n",
    "    EVALUATIONS_ROOT = '/home/%s/ttmp/partial_match/%s/evaluations/attribution_plane/align_clean_to_%ss' % (user, cfg, t)\n",
    "    ts = '/home/%s/ttmp/raw_data/partial_match/Chopin_Mazurkas_partial_match_%ss/replacement_ts.csv' % (user, t)\n",
    "    start = time.time()\n",
    "\n",
    "    for i in range(len(savefile_names) - 2, len(savefile_names)):\n",
    "        savefile = EVALUATIONS_ROOT + \"/\" + savefile_names[i]\n",
    "        hypdir = EXPERIMENTS_ROOT + \"/\" + folder_names[i]\n",
    "        print(hypdir)\n",
    "\n",
    "        attr = eval_attribution(hypdir, query_list, hop_sec, ts, savefile = savefile, scoring_collar = 0.1, planeAttrib=True)\n",
    "        allAttr.append(attr)\n",
    "    print('Took ', time.time() - start)"
   ]
  },
  {
   "cell_type": "code",
   "execution_count": 30,
   "metadata": {},
   "outputs": [],
   "source": [
    "def plotPlaneAttr(systemsToPlot, legend, timesToPlot=[5,10,15,20,25,30]):\n",
    "    # find attribution\n",
    "    planeAttr = np.zeros((len(timesToPlot), len(systemsToPlot)))\n",
    "    for i, t in enumerate(timesToPlot):\n",
    "        EVALUATIONS_ROOT = '/home/%s/ttmp/partial_match/%s/evaluations/attribution_plane/align_clean_to_%ss/' % (user, cfg, t)\n",
    "        \n",
    "        for j, f in enumerate(systemsToPlot):\n",
    "            fp, fn = planeAttribToFPFN(EVALUATIONS_ROOT + f)\n",
    "            planeAttr[i, j] = (fp + fn) / 2\n",
    "            \n",
    "    # plot attribution\n",
    "    x = np.arange(len(timesToPlot))\n",
    "    numBars = len(systemsToPlot)\n",
    "    width = 0.75 / numBars\n",
    "\n",
    "    for i in range(numBars):\n",
    "        plt.bar(x - width * (numBars / 2) + (i + 1/2) * width, planeAttr[:,i] * 100, width)\n",
    "        print(planeAttr[:,i] * 100)\n",
    "\n",
    "    plt.ylim(0,100)\n",
    "    plt.ylabel(\"Plane Attribution\")\n",
    "\n",
    "    plt.xlabel(\"Edit Duration (s)\")\n",
    "    plt.xticks(x, timesToPlot)\n",
    "\n",
    "    plt.legend(legend, bbox_to_anchor=(1.05, 1))\n",
    "    plt.title(\"Plane Attribution For Various Systems and Edit Lengths\")\n",
    "    \n",
    "    return planeAttr"
   ]
  },
  {
   "cell_type": "code",
   "execution_count": 31,
   "metadata": {},
   "outputs": [
    {
     "name": "stdout",
     "output_type": "stream",
     "text": [
      "[20.22921085 20.86299237 22.41883989 24.13029923]\n",
      "[11.72626864 10.23951262  9.23291499  9.75019896]\n"
     ]
    },
    {
     "data": {
      "image/png": "[encoded data removed]",
      "text/plain": [
       "<Figure size 432x288 with 1 Axes>"
      ]
     },
     "metadata": {
      "needs_background": "light"
     },
     "output_type": "display_data"
    }
   ],
   "source": [
    "# test benchmark results ends fixed\n",
    "# allgammas = gammas\n",
    "systemsToPlot = ['nwtw_gamma_0.2.pkl', 'hstw_gamma_10_beta_150.pkl']\n",
    "legend = [\"NWTW skip\", \"HSTW c_gamma=10 c_beta=150\"]\n",
    "paaer_errs = plotPlaneAttr(systemsToPlot, legend, timesToPlot=times)"
   ]
  },
  {
   "cell_type": "code",
   "execution_count": 32,
   "metadata": {},
   "outputs": [],
   "source": [
    "nwtw_skip = paaer_errs[:,0]\n",
    "hstw_plane = paaer_errs[:,1]"
   ]
  },
  {
   "cell_type": "markdown",
   "metadata": {},
   "source": [
    "### Evalute Threshold Attribution"
   ]
  },
  {
   "cell_type": "code",
   "execution_count": 25,
   "metadata": {},
   "outputs": [],
   "source": [
    "def findEER(ROC):\n",
    "    '''\n",
    "    Calculates Equal Error Rate based on ROC\n",
    "    \n",
    "    '''\n",
    "    diffs = np.abs(ROC[:,1] - ROC[:,2])\n",
    "    \n",
    "    best = np.argmin(diffs)\n",
    "    \n",
    "    return (ROC[best,1] + ROC[best,2]) / 2  # Take the average of FP and FN when they are at closest point"
   ]
  },
  {
   "cell_type": "code",
   "execution_count": 26,
   "metadata": {},
   "outputs": [
    {
     "name": "stdout",
     "output_type": "stream",
     "text": [
      "/home/tshaw/ttmp/partial_match/test_benchmark/experiments/align_clean_to_5s/dtw233\n",
      "/home/tshaw/ttmp/partial_match/test_benchmark/experiments/align_clean_to_5s/dtw111\n",
      "/home/tshaw/ttmp/partial_match/test_benchmark/experiments/align_clean_to_5s/nwtw/gamma_1\n",
      "/home/tshaw/ttmp/partial_match/test_benchmark/experiments/align_clean_to_5s/nwtw/gamma_0.2\n",
      "/home/tshaw/ttmp/partial_match/test_benchmark/experiments/align_clean_to_5s/hstw/gamma_10_beta_150\n",
      "Took  105.73574137687683\n",
      "/home/tshaw/ttmp/partial_match/test_benchmark/experiments/align_clean_to_10s/dtw233\n",
      "/home/tshaw/ttmp/partial_match/test_benchmark/experiments/align_clean_to_10s/dtw111\n",
      "/home/tshaw/ttmp/partial_match/test_benchmark/experiments/align_clean_to_10s/nwtw/gamma_1\n",
      "/home/tshaw/ttmp/partial_match/test_benchmark/experiments/align_clean_to_10s/nwtw/gamma_0.2\n",
      "/home/tshaw/ttmp/partial_match/test_benchmark/experiments/align_clean_to_10s/hstw/gamma_10_beta_150\n",
      "Took  105.99108147621155\n",
      "/home/tshaw/ttmp/partial_match/test_benchmark/experiments/align_clean_to_20s/dtw233\n",
      "/home/tshaw/ttmp/partial_match/test_benchmark/experiments/align_clean_to_20s/dtw111\n",
      "/home/tshaw/ttmp/partial_match/test_benchmark/experiments/align_clean_to_20s/nwtw/gamma_1\n",
      "/home/tshaw/ttmp/partial_match/test_benchmark/experiments/align_clean_to_20s/nwtw/gamma_0.2\n",
      "/home/tshaw/ttmp/partial_match/test_benchmark/experiments/align_clean_to_20s/hstw/gamma_10_beta_150\n",
      "Took  103.15192675590515\n",
      "/home/tshaw/ttmp/partial_match/test_benchmark/experiments/align_clean_to_30s/dtw233\n",
      "/home/tshaw/ttmp/partial_match/test_benchmark/experiments/align_clean_to_30s/dtw111\n",
      "/home/tshaw/ttmp/partial_match/test_benchmark/experiments/align_clean_to_30s/nwtw/gamma_1\n",
      "/home/tshaw/ttmp/partial_match/test_benchmark/experiments/align_clean_to_30s/nwtw/gamma_0.2\n",
      "/home/tshaw/ttmp/partial_match/test_benchmark/experiments/align_clean_to_30s/hstw/gamma_10_beta_150\n",
      "Took  93.95658802986145\n"
     ]
    }
   ],
   "source": [
    "ROCCurves = []\n",
    "for t in times:\n",
    "    EXPERIMENTS_ROOT = '/home/%s/ttmp/partial_match/%s/experiments/align_clean_to_%ss' % (user, cfg, t)\n",
    "    EVALUATIONS_ROOT = '/home/%s/ttmp/partial_match/%s/evaluations/attribution/align_clean_to_%ss' % (user, cfg, t)\n",
    "\n",
    "    ts = '/home/%s/ttmp/raw_data/partial_match/Chopin_Mazurkas_partial_match_%ss/replacement_ts.csv' % (user, t)\n",
    "    start = time.time()\n",
    "    for i in range(len(savefile_names)):\n",
    "        savefile = EVALUATIONS_ROOT + \"/\" + savefile_names[i]\n",
    "        hypdir = EXPERIMENTS_ROOT + \"/\" + folder_names[i]\n",
    "        print(hypdir)\n",
    "\n",
    "        ROC = eval_attribution(hypdir, query_list, hop_sec, ts, savefile = savefile, scoring_collar = 0.1, planeAttrib=False)\n",
    "        ROCCurves.append(ROC)\n",
    "    print('Took ', time.time() - start)"
   ]
  },
  {
   "cell_type": "code",
   "execution_count": 33,
   "metadata": {},
   "outputs": [],
   "source": [
    "timesToPlot = times\n",
    "systemsToPlot = ['dtw233', 'dtw111', 'nwtw_gamma_1', 'hstw_gamma_10_beta_150']\n",
    "EERs = np.zeros((len(timesToPlot), len(systemsToPlot)))\n",
    "for i, plotTime in enumerate(timesToPlot):\n",
    "    for j, plotSys in enumerate(systemsToPlot):\n",
    "        ROCfile = '/home/%s/ttmp/partial_match/%s/evaluations/attribution/align_clean_to_%ss/%s.pkl' \\\n",
    "        % (user, cfg, str(plotTime), plotSys)\n",
    "        ROC = pkl.load(open(ROCfile, 'rb'))\n",
    "        EERs[i,j] = findEER(ROC)\n",
    "\n",
    "threshold_errs = np.array(EERs).T\n",
    "errs = [threshold_errs[0], threshold_errs[1], threshold_errs[2], nwtw_skip, threshold_errs[3], hstw_plane]"
   ]
  },
  {
   "cell_type": "markdown",
   "metadata": {},
   "source": [
    "### Figures"
   ]
  },
  {
   "cell_type": "markdown",
   "metadata": {},
   "source": [
    "Errors for test benchmark (in percentage): \n",
    "```\n",
    "errs = [[14.131154, 14.004521, 14.349383, 14.709323],  # dtw-233 \n",
    "  [14.193387, 14.064484, 14.403146, 14.761393],   # dtw-111\n",
    "  [14.740182, 14.395803, 14.509582, 15.035515],  # nwtw-threshold\n",
    " [20.22921085, 20.86299237, 22.41883989, 24.13029923],  # nwtw-skip\n",
    "  [12.44101 , 11.760984, 11.58842 , 11.427838],  # hstw-threshold\n",
    " [11.72626864, 10.23951262, 9.23291499, 9.75019896]]  # hstw-skip\n",
    " ```"
   ]
  },
  {
   "cell_type": "code",
   "execution_count": 34,
   "metadata": {},
   "outputs": [],
   "source": [
    "legend = ['DTW-233', 'DTW-111', 'NWTW-threshold', 'NWTW-skip*', 'HSTW-threshold', 'HSTW-plane*']"
   ]
  },
  {
   "cell_type": "code",
   "execution_count": 35,
   "metadata": {},
   "outputs": [],
   "source": [
    "def plotFinalAttribution(timesToPlot, errs, legend, title=None, savefile=None):\n",
    "    \n",
    "    x = np.arange(len(timesToPlot))\n",
    "    numBars = len(errs)\n",
    "    \n",
    "    width = 0.75 / numBars\n",
    "    plt.grid(zorder=0)\n",
    "    \n",
    "    colors = [plt.cm.Set1(i) for i in range(5)]\n",
    "    colors.append(\"#dced31\")\n",
    "    colors = colors[::-1]\n",
    "    \n",
    "    for i in range(numBars):\n",
    "        plt.bar(x - width * (numBars / 2) + (i - 1/2) * width , errs[i]*100, width, zorder=3, color=colors[i])\n",
    "    \n",
    "#     plt.ylim(0,100)\n",
    "    plt.ylim(0,25)\n",
    "    plt.ylabel(\"Equal Error Rate (%)\")\n",
    "    \n",
    "    plt.xlabel(\"Edit Duration (s)\")\n",
    "    plt.xticks(x, timesToPlot)\n",
    "    \n",
    "    plt.legend(legend, loc = (0.01, 0.85), ncol=3, fontsize='small', framealpha=0.6, columnspacing=1.9)\n",
    "#     plt.legend(legend, loc=(1.01, 0.5))\n",
    "    plt.title(title)\n",
    "    if savefile:\n",
    "        plt.savefig(savefile, dpi=300)"
   ]
  },
  {
   "cell_type": "code",
   "execution_count": 36,
   "metadata": {},
   "outputs": [
    {
     "data": {
      "image/png": "[encoded data removed]",
      "text/plain": [
       "<Figure size 432x288 with 1 Axes>"
      ]
     },
     "metadata": {
      "needs_background": "light"
     },
     "output_type": "display_data"
    }
   ],
   "source": [
    "# plt.legend(legend, loc = (0.1, 0.62), ncol=3, fontsize='small', framealpha=0.6)\n",
    "plotFinalAttribution(times, errs, legend, savefile=\"/home/{}/ttmp/partial_match/test_benchmark/attibution.jpg\".format(user))"
   ]
  },
  {
   "cell_type": "markdown",
   "metadata": {},
   "source": [
    "#### Analysis Figure"
   ]
  },
  {
   "cell_type": "code",
   "execution_count": 53,
   "metadata": {},
   "outputs": [],
   "source": [
    "sr = 22050\n",
    "scoring_collar = 0.1\n",
    "hop_sec = 512 / 22050\n",
    "\n",
    "editTime = 30 # Plot in paper uses 25 second edit time\n",
    "benchmark = 'test_benchmark' # Plot in paper was made using train benchmark\n",
    "query_list = open('cfg_files/query.test.list', 'r') # Plot in paper was made using train benchmark\n",
    "system = 'hstw/gamma_10_beta_150'"
   ]
  },
  {
   "cell_type": "code",
   "execution_count": 54,
   "metadata": {},
   "outputs": [],
   "source": [
    "hypdir = '/mnt/data0/%s/partial_match/%s/experiments/align_clean_to_%ss/%s' % \\\n",
    "                (user, benchmark, editTime, system)\n",
    "annot_file = '/home/%s/ttmp/raw_data/partial_match/Chopin_Mazurkas_partial_match_%ss/replacement_ts.csv' % \\\n",
    "                (user, editTime)\n",
    "\n",
    "df = pd.read_csv(annot_file)\n",
    "allTimestamps = df.set_index('name').to_dict(orient='index')\n",
    "\n",
    "lines = query_list.readlines()\n",
    "\n",
    "refDir = '/mnt/data0/%s/raw_data/Chopin_Mazurkas/wav_22050_mono/' % user\n",
    "qDir = '/mnt/data0/%s/raw_data/partial_match/Chopin_Mazurkas_partial_match_%ss/wav_22050_mono/' % (user, editTime)\n",
    "\n",
    "qFeaturesDir = \"/mnt/data0/%s/features/partial_match/partial_match_%ss/\" % (user, editTime)\n",
    "rFeaturesDir = \"/mnt/data0/%s/features/clean/\" % user"
   ]
  },
  {
   "cell_type": "code",
   "execution_count": 55,
   "metadata": {},
   "outputs": [],
   "source": [
    "def getAttribEval(line):\n",
    "    '''\n",
    "    A helper function to get all the information needed for analysis plot\n",
    "    '''\n",
    "    parts = line.strip().split()\n",
    "    assert len(parts) == 2\n",
    "    basename = os.path.basename(parts[0]) + '__' + os.path.basename(parts[1])\n",
    "    hypfile = hypdir + '/' + basename + '.pkl'\n",
    "    \n",
    "    hypalign = pkl.load(open(hypfile, 'rb'))\n",
    "    path = hypalign['wp']\n",
    "    query_length = path[-1,0]\n",
    "\n",
    "    times = allTimestamps[os.path.basename(parts[0]) + \".wav\"]\n",
    "\n",
    "    firstRepEndTime = times['beginning replacement end (idx)'] / sr\n",
    "    midRepStartTime = times['middle replacement start (idx)'] / sr\n",
    "    midRepEndTime = times['middle replacement end (idx)'] / sr\n",
    "    lastRepStartTime = times['ending replacement start (idx)'] / sr\n",
    "    boundaries = np.array([firstRepEndTime, midRepStartTime, midRepEndTime, lastRepStartTime])\n",
    "\n",
    "    gt = getAttributionGT(query_length, boundaries, scoring_collar, hop_sec)\n",
    "\n",
    "    # Impute cost scores or plane attributions\n",
    "    paPreds = np.interp(np.arange(path[-1,0]), path[:,0], path[:,2])\n",
    "    paPreds = np.ceil(paPreds) # If frame is in both planes, default to visible (match)\n",
    "\n",
    "\n",
    "    # Interpolate here to fill in the frames that the path jumps over\n",
    "    tPreds = np.interp(np.arange(path[-1,0]), path[:,0], hypalign[\"costs\"])\n",
    "\n",
    "    \n",
    "    attributions = np.hstack((gt.reshape((-1,1)), paPreds.reshape((-1,1)), tPreds.reshape(-1,1)))\n",
    "\n",
    "    collarFilter = gt >= 0\n",
    "    #attributions = attributions[collarFilter, :]\n",
    "    attsFiltered = attributions[collarFilter,:]\n",
    "    \n",
    "    return attributions, attsFiltered, boundaries, path"
   ]
  },
  {
   "cell_type": "code",
   "execution_count": 59,
   "metadata": {},
   "outputs": [],
   "source": [
    "# Change this to plot different queries\n",
    "goodLine = lines[0]\n",
    "badLine = lines[1]"
   ]
  },
  {
   "cell_type": "code",
   "execution_count": 60,
   "metadata": {},
   "outputs": [],
   "source": [
    "goodAtts, goodFiltd, goodBoundaries, _ = getAttribEval(goodLine)\n",
    "badAtts, badFiltd, badBoundaries, _ = getAttribEval(badLine)"
   ]
  },
  {
   "cell_type": "code",
   "execution_count": 61,
   "metadata": {},
   "outputs": [
    {
     "data": {
      "text/plain": [
       "<Figure size 720x360 with 0 Axes>"
      ]
     },
     "metadata": {},
     "output_type": "display_data"
    },
    {
     "data": {
      "image/png": "[encoded data removed]",
      "text/plain": [
       "<Figure size 720x360 with 4 Axes>"
      ]
     },
     "metadata": {
      "needs_background": "light"
     },
     "output_type": "display_data"
    }
   ],
   "source": [
    "plt.figure(figsize=(10,5));\n",
    "fig,axs = plt.subplots(2,1, figsize=(10,5));\n",
    "# Upper Plot: Good\n",
    "frameBoundaries = goodBoundaries * 22050/512\n",
    "axs[0].axvspan(0, frameBoundaries[0], facecolor='r', alpha=0.5);\n",
    "axs[0].axvspan(frameBoundaries[0], frameBoundaries[1], facecolor='g', alpha=0.5);\n",
    "axs[0].axvspan(frameBoundaries[1], frameBoundaries[2], facecolor='r', alpha=0.5);\n",
    "axs[0].axvspan(frameBoundaries[2], frameBoundaries[3], facecolor='g', alpha=0.5);\n",
    "axs[0].axvspan(frameBoundaries[3], goodAtts.shape[0], facecolor='r', alpha=0.5);\n",
    "axs[0].set_xlim(0,goodAtts.shape[0])\n",
    "\n",
    "\n",
    "axs[0].plot(goodAtts[:,2], c = 'k', alpha = 0.75)\n",
    "axs[0].plot(goodAtts[:,1], c = 'b');\n",
    "axs[0].set_yticks([0,1]);\n",
    "axs[0].set_yticklabels([\"Hidden\", \"Visible\"])\n",
    "axs[0].set_xticks([])\n",
    "axs2 = axs[0].twinx()\n",
    "axs2.set_ylabel(\"Cost\");\n",
    "axs2.set_yticks([0,0.5,1]);\n",
    "axs[0].set_xticks([])\n",
    "\n",
    "# Lower Plot: Bad\n",
    "frameBoundaries = badBoundaries * 22050/512\n",
    "axs[1].axvspan(0, frameBoundaries[0], facecolor='r', alpha=0.5);\n",
    "axs[1].axvspan(frameBoundaries[0], frameBoundaries[1], facecolor='g', alpha=0.5);\n",
    "axs[1].axvspan(frameBoundaries[1], frameBoundaries[2], facecolor='r', alpha=0.5);\n",
    "axs[1].axvspan(frameBoundaries[2], frameBoundaries[3], facecolor='g', alpha=0.5);\n",
    "axs[1].axvspan(frameBoundaries[3], badAtts.shape[0], facecolor='r', alpha=0.5);\n",
    "axs[1].set_xlim(0,badAtts.shape[0])\n",
    "\n",
    "\n",
    "axs[1].plot(badAtts[:,2], c = 'k', alpha = 0.75)\n",
    "axs[1].plot(badAtts[:,1], c = 'b');\n",
    "axs[1].legend([\"Cost\", \"Plane\"], loc = (1.07,0.95));\n",
    "axs[1].set_yticks([0,1]);\n",
    "axs[1].set_yticklabels([\"Hidden\", \"Visible\"])\n",
    "axs[1].set_xticks([]);\n",
    "axs3 = axs[1].twinx()\n",
    "axs3.set_ylabel(\"Cost\");\n",
    "axs3.set_yticks([0,0.5,1]);\n",
    "\n",
    "fig.text(0.5, 0.07, 'Time', ha='center', fontsize = \"large\");\n",
    "\n",
    "plt.savefig(\"musicAnalysisFig.png\", bbox_inches='tight', dpi=300)"
   ]
  },
  {
   "cell_type": "code",
   "execution_count": null,
   "metadata": {},
   "outputs": [],
   "source": []
  }
 ],
 "metadata": {
  "kernelspec": {
   "display_name": "MIR",
   "language": "python",
   "name": "mir"
  },
  "language_info": {
   "codemirror_mode": {
    "name": "ipython",
    "version": 3
   },
   "file_extension": ".py",
   "mimetype": "text/x-python",
   "name": "python",
   "nbconvert_exporter": "python",
   "pygments_lexer": "ipython3",
   "version": "3.7.10"
  }
 },
 "nbformat": 4,
 "nbformat_minor": 4
}
