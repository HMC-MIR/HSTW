{
 "cells": [
  {
   "cell_type": "code",
   "execution_count": 1,
   "metadata": {},
   "outputs": [],
   "source": [
    "import numpy as np\n",
    "import matplotlib.pyplot as plt\n",
    "import glob\n",
    "import os.path\n",
    "from pathlib import Path\n",
    "import time\n",
    "import pandas as pd\n",
    "import pickle as pkl\n",
    "import librosa as lb\n",
    "from sklearn import metrics"
   ]
  },
  {
   "cell_type": "code",
   "execution_count": 2,
   "metadata": {},
   "outputs": [],
   "source": [
    "user = 'tshaw'"
   ]
  },
  {
   "cell_type": "markdown",
   "metadata": {},
   "source": [
    "# Alignment"
   ]
  },
  {
   "cell_type": "code",
   "execution_count": 3,
   "metadata": {},
   "outputs": [],
   "source": [
    "def evalAlignments(pairsFile, annotFile, hypRoot, editDur, saveFile = None, \\\n",
    "                           hop_sec = 0.01, scoring_collar = 0.1, maxTol = 1000):\n",
    "    annotList = list(map(lambda x: x.split(), open(annotFile, 'r').readlines()))\n",
    "    alignmentErrors = []\n",
    "    with open(pairsFile, 'r') as f:\n",
    "        for line in f:\n",
    "            parts = line.strip().split()\n",
    "            assert len(parts) == 2\n",
    "            \n",
    "            # Find correct annotations\n",
    "            queryId = os.path.basename(parts[0])[:-4] # [:-4] here to get rid of .wav\n",
    "            annot = findAnnot(annotList, queryId)\n",
    "            \n",
    "            # Find path\n",
    "            hypFile = hypRoot + '/' + queryId[:-4] + '.pkl' # [:-4] here to get rid of _160\n",
    "            hyp = pkl.load(open(hypFile, 'rb'))\n",
    "            \n",
    "            queryErrors = getAlignmentError(hyp, annot, hop_sec, scoring_collar, editDur)\n",
    "            \n",
    "            alignmentErrors.append(queryErrors)\n",
    "    # Stack alignmentErrors\n",
    "    alignmentErrors = np.hstack(alignmentErrors)\n",
    "    # Get error rates at error tols\n",
    "    errorRates = calcErrorRates(alignmentErrors, maxTol)\n",
    "    # Save and return\n",
    "    if saveFile is not None:\n",
    "        outdir = os.path.dirname(saveFile)\n",
    "        outdir = Path(outdir)\n",
    "        outdir.mkdir(parents=True, exist_ok=True)\n",
    "        pkl.dump(errorRates, open(saveFile, 'wb'))\n",
    "    \n",
    "    return errorRates"
   ]
  },
  {
   "cell_type": "code",
   "execution_count": 4,
   "metadata": {},
   "outputs": [],
   "source": [
    "def findAnnot(annotList, queryId):\n",
    "    for annot in annotList:\n",
    "        if annot[1] == queryId:\n",
    "            return annot\n",
    "    \n",
    "    print(\"Error: Annotations not found\")\n",
    "    return None"
   ]
  },
  {
   "cell_type": "code",
   "execution_count": 5,
   "metadata": {},
   "outputs": [],
   "source": [
    "def getAlignmentError(hyp, annot, hop_sec, scoring_collar, editDur):\n",
    "    tamperType = annot[0]\n",
    "    path = hyp['wp']\n",
    "    queryLength = path[0,0]\n",
    "    \n",
    "    # Get GT\n",
    "    gtPath = getAlignmentGT(tamperType, annot, scoring_collar, queryLength, hop_sec, editDur)\n",
    "\n",
    "    # Interp valid frames over path to get preds\n",
    "    # Multiply ref frames by hopsec to get timestamps\n",
    "    preds = np.interp(gtPath[:,0], path[:,0][::-1], path[:,1][::-1] * hop_sec)    \n",
    "    \n",
    "    # Compare preds to GT timestamps\n",
    "    errors = preds - (gtPath[:,1] * hop_sec)\n",
    "    \n",
    "    return errors"
   ]
  },
  {
   "cell_type": "code",
   "execution_count": 6,
   "metadata": {},
   "outputs": [],
   "source": [
    "def getAlignmentGT(tamperType, annot, scoring_collar, queryLength, hop_sec, editDur):\n",
    "    '''\n",
    "    Gets the GT alignment path. \n",
    "    Note that this path skips over invalid sections (tampered or within scoring collar)\n",
    "    '''\n",
    "    gtPath = np.zeros((queryLength, 2))\n",
    "    gtPath[:,0] = np.arange(queryLength)\n",
    "    \n",
    "    if tamperType == \"N\":  # Not tampered: diagonal path and everything valid\n",
    "        pathStart = float(annot[3])\n",
    "        pathStartFrame = int(np.round(pathStart / hop_sec))\n",
    "        pathEndFrame = pathStartFrame + queryLength\n",
    "        gtPath[:,1] = np.arange(pathStartFrame, pathEndFrame)\n",
    "        return gtPath\n",
    "    \n",
    "    elif tamperType == \"I\":  # Insertion\n",
    "        pathStart = float(annot[3])\n",
    "        pathStartFrame = int(np.round(pathStart / hop_sec))\n",
    "        #pathEnd = float(annot[4])\n",
    "        #pathEndFrame = int(np.round(pathEnd / hop_sec))\n",
    "        \n",
    "        insertionStart = float(annot[5])\n",
    "        invalidStart = max(0,insertionStart - scoring_collar)\n",
    "        invalidEnd = insertionStart + editDur + scoring_collar  # Skip inserted editDur\n",
    "        invalidStartFrame = int(np.ceil(invalidStart / hop_sec))\n",
    "        invalidEndFrame = int(np.ceil(invalidEnd / hop_sec))\n",
    "        \n",
    "        refInvalidEnd = pathStart + insertionStart + scoring_collar\n",
    "        refInvalidEndFrame = int(np.ceil(refInvalidEnd / hop_sec))\n",
    "        \n",
    "        gtPath[:invalidStartFrame,1] = np.arange(pathStartFrame, pathStartFrame + invalidStartFrame)\n",
    "        framesLeft = gtPath[invalidEndFrame:,1].shape[0]\n",
    "        gtPath[invalidEndFrame:,1] = np.arange(refInvalidEndFrame, refInvalidEndFrame + framesLeft)\n",
    "        \n",
    "        gtPath = np.delete(gtPath, slice(invalidStartFrame,invalidEndFrame), axis = 0)\n",
    "        return gtPath\n",
    "    \n",
    "    elif tamperType == \"D\":\n",
    "        pathStart = float(annot[3])\n",
    "        pathStartFrame = int(np.round(pathStart / hop_sec))\n",
    "        #pathEnd = float(annot[4])\n",
    "        #pathEndFrame = int(np.round(pathEnd / hopsec))\n",
    "        \n",
    "        deletionStart = float(annot[5])\n",
    "        invalidStart = max(0,deletionStart - scoring_collar)\n",
    "        invalidEnd = deletionStart + scoring_collar\n",
    "        invalidStartFrame = int(np.ceil(invalidStart / hop_sec))\n",
    "        invalidEndFrame = int(np.ceil(invalidEnd / hop_sec))\n",
    "        \n",
    "        refInvalidEnd = pathStart + deletionStart + editDur + scoring_collar  # Skip deleted editDur\n",
    "        refInvalidEndFrame = int(np.ceil(refInvalidEnd / hop_sec))\n",
    "        \n",
    "        gtPath[:invalidStartFrame,1] = np.arange(pathStartFrame, pathStartFrame + invalidStartFrame)\n",
    "        framesLeft = gtPath[invalidEndFrame:,1].shape[0]\n",
    "        gtPath[invalidEndFrame:,1] = np.arange(refInvalidEndFrame, refInvalidEndFrame + framesLeft)\n",
    "        \n",
    "        gtPath = np.delete(gtPath, slice(invalidStartFrame,invalidEndFrame), axis = 0)\n",
    "        return gtPath\n",
    "    \n",
    "    elif tamperType == \"R\":\n",
    "        pathStart = float(annot[3])\n",
    "        pathStartFrame = int(np.round(pathStart / hop_sec))\n",
    "        #pathEnd = float(annot[4])\n",
    "        #pathEndFrame = int(np.round(pathEnd / hopsec))\n",
    "        \n",
    "        replacementStart = float(annot[5])\n",
    "        invalidStart = max(0, replacementStart - scoring_collar)\n",
    "        invalidEnd = replacementStart + editDur + scoring_collar  # Skip replaced editDur\n",
    "        invalidStartFrame = int(np.ceil(invalidStart / hop_sec))\n",
    "        invalidEndFrame = int(np.ceil(invalidEnd / hop_sec))\n",
    "        \n",
    "        refInvalidEnd = pathStart + replacementStart + editDur + scoring_collar  # Skip replaced editDur\n",
    "        refInvalidEndFrame = int(np.ceil(refInvalidEnd / hop_sec))\n",
    "\n",
    "        gtPath[:invalidStartFrame,1] = np.arange(pathStartFrame, pathStartFrame + invalidStartFrame)\n",
    "        framesLeft = gtPath[invalidEndFrame:,1].shape[0]\n",
    "        gtPath[invalidEndFrame:,1] = np.arange(refInvalidEndFrame, refInvalidEndFrame + framesLeft)\n",
    "        gtPath = np.delete(gtPath, slice(invalidStartFrame,invalidEndFrame), axis = 0)\n",
    "        return gtPath\n",
    "    else:\n",
    "        print(\"Invalid Tamper Type: \", tamperType)\n",
    "        return np.array([])"
   ]
  },
  {
   "cell_type": "code",
   "execution_count": 7,
   "metadata": {},
   "outputs": [],
   "source": [
    "def calcErrorRates(errors, maxTol):\n",
    "    errorTols = np.arange(maxTol + 1).reshape(-1,1) / 1000\n",
    "    \n",
    "    correct = (np.abs(errors.reshape(1,-1)) <= errorTols).astype(int)\n",
    "    \n",
    "    errorRates = 1 - (np.sum(correct, axis = 1) / errors.shape[0])\n",
    "    \n",
    "    return errorRates"
   ]
  },
  {
   "cell_type": "markdown",
   "metadata": {},
   "source": [
    "## Run Alignment Eval"
   ]
  },
  {
   "cell_type": "code",
   "execution_count": 8,
   "metadata": {},
   "outputs": [],
   "source": [
    "editTimes = [1, 2, 3, 4]\n",
    "benchmark = 'train'\n",
    "systems = [\"D1\", \"D2\", \"D3\", \"D4\", \"NW-60\", \"HSTW\"]\n",
    "for editTime in editTimes:\n",
    "    for sys in systems:\n",
    "        pairsFile = \"/mnt/data0/%s/TamperingDetection/cfg_files/%s_%ss.pairs\" % (user, benchmark, str(editTime))\n",
    "        annotFile = \"/mnt/data0/%s/TamperingDetection/annots/160kbps_%ssec.gt\" % (user, str(editTime))\n",
    "        pathsRoot = \"/mnt/data0/%s/TamperingDetection/hyp/%ssec/%s\" % (user, str(editTime), sys)\n",
    "        saveFile = \"/mnt/data0/%s/TamperingDetection/eval/alignment/%s/%s_%ss.pkl\" % \\\n",
    "                    (user, sys, benchmark, str(editTime))\n",
    "        \n",
    "        errRates = evalAlignments(pairsFile, annotFile, pathsRoot, editTime, saveFile = saveFile)"
   ]
  },
  {
   "cell_type": "markdown",
   "metadata": {},
   "source": [
    "## Alignment Figure"
   ]
  },
  {
   "cell_type": "code",
   "execution_count": 9,
   "metadata": {},
   "outputs": [],
   "source": [
    "def plotAlignment(timesToPlot, systemsToPlot, errorCurveDir, benchmark, legend, title=\"Alignment Error Rates\"):\n",
    "    fig, axs = plt.subplots(1, len(timesToPlot), figsize = (11, 7))\n",
    "    x = np.arange(4)\n",
    "    numBars = len(systemsToPlot)\n",
    "    width = 0.75 / numBars\n",
    "    \n",
    "    for i, plotTime in enumerate(timesToPlot):\n",
    "        axs[i].grid(zorder=0)\n",
    "        for j, sys in enumerate(systemsToPlot):\n",
    "            errorsFile = errorCurveDir + \"/%s/%s_%ss.pkl\" % (sys, benchmark, str(plotTime))\n",
    "            errorCurve = pkl.load(open(errorsFile, 'rb'))\n",
    "            axs[i].bar(x - width * (numBars / 2) + (j + 1/2) * width, errorCurve[[20, 50, 100, 200]] * 100, width, zorder = 3)\n",
    "#         axs[i].set_xlabel(\"Error Tolerance (ms)\")\n",
    "        axs[i].set_xticks(x)\n",
    "        axs[i].set_xticklabels([20, 50, 100, 200])\n",
    "        axs[i].set_ylim(0,15)\n",
    "        axs[i].set_title(\"L = \" + str(plotTime))\n",
    "\n",
    "    plt.legend(legend, loc = (1.1, 0.5))\n",
    "    fig.suptitle(title, fontsize = 'x-large')\n",
    "    axs[0].set_ylabel(\"Error Rate (%)\", fontsize = \"large\")\n",
    "    fig.text(0.5, -0.01, 'Error Tolerance (ms)', ha='center', fontsize = \"large\")\n",
    "    fig.tight_layout()"
   ]
  },
  {
   "cell_type": "code",
   "execution_count": 10,
   "metadata": {},
   "outputs": [
    {
     "data": {
      "image/png": "[encoded data removed]",
      "text/plain": [
       "<Figure size 792x504 with 4 Axes>"
      ]
     },
     "metadata": {
      "needs_background": "light"
     },
     "output_type": "display_data"
    }
   ],
   "source": [
    "benchmark = \"train\"\n",
    "timesToPlot = [1, 2, 3, 4]\n",
    "\n",
    "systemsToPlot = [\"D1\", \"D2\", \"D3\", \"D4\", \"NW-60\", \"HSTW\"]\n",
    "systemNames = [\"DTW-111\", \"DTW-011\",\"DTW-121\", \"DTW-112\", \"NW-60\",\"HSTW\"]\n",
    "\n",
    "errorCurveDir = \"/mnt/data0/%s/TamperingDetection/eval/alignment\" % user\n",
    "\n",
    "plotAlignment(timesToPlot, systemsToPlot, errorCurveDir, benchmark, systemNames)"
   ]
  },
  {
   "cell_type": "markdown",
   "metadata": {},
   "source": [
    "# Attribution"
   ]
  },
  {
   "cell_type": "code",
   "execution_count": 11,
   "metadata": {},
   "outputs": [],
   "source": [
    "def evalAttribution(pairsFile, annotFile, pathsRoot, editDur, scoring_collar = 0.1, \\\n",
    "                   saveFile = None, hop_sec = 0.01, usePlane = False):\n",
    "    attributions = []\n",
    "    annotList = list(map(lambda x: x.split(), open(annotFile, 'r').readlines()))\n",
    "    \n",
    "    with open(pairsFile, 'r') as f:\n",
    "        for line in f:\n",
    "            parts = line.strip().split()\n",
    "            assert len(parts) == 2\n",
    "            \n",
    "            # Find correct annotations\n",
    "            queryId = os.path.basename(parts[0])[:-4] # [:-4] here to get rid of .wav\n",
    "            annot = findAnnot(annotList, queryId)\n",
    "            \n",
    "            # Find path\n",
    "            pathFile = pathsRoot + '/' + queryId[:-4] + '.pkl' # [:-4] here to get rid of _160\n",
    "            if not os.path.exists(pathFile):\n",
    "                print(\"Skip: \", pathFile)\n",
    "                continue\n",
    "            path = pkl.load(open(pathFile, 'rb'))\n",
    "\n",
    "            theseAttributions = evalQueryAttrib(path, annot, scoring_collar, editDur, hop_sec, usePlane)\n",
    "            \n",
    "            attributions.append(theseAttributions)\n",
    "\n",
    "    attributions = np.vstack(attributions)\n",
    "    \n",
    "    if usePlane:\n",
    "        if saveFile is not None:\n",
    "            outdir = os.path.dirname(saveFile)\n",
    "            outdir = Path(outdir)\n",
    "            outdir.mkdir(parents=True, exist_ok=True)\n",
    "            pkl.dump(attributions, open(saveFile, 'wb'))\n",
    "        \n",
    "        return attributions\n",
    "    else:\n",
    "        ROC = calc_ROC(attributions)\n",
    "        if saveFile is not None:\n",
    "            outdir = os.path.dirname(saveFile)\n",
    "            outdir = Path(outdir)\n",
    "            outdir.mkdir(parents=True, exist_ok=True)\n",
    "            pkl.dump(ROC, open(saveFile, 'wb'))\n",
    "\n",
    "        return ROC"
   ]
  },
  {
   "cell_type": "code",
   "execution_count": 12,
   "metadata": {},
   "outputs": [],
   "source": [
    "def calc_ROC(attributions):\n",
    "    flippedGT = (attributions[:,0] == 0).astype(int)\n",
    "    fps, tps, thresholds = metrics.roc_curve(flippedGT, attributions[:,1])\n",
    "    # Now FP means called non-match when really a match, which is really a FN,\n",
    "    # So save FP in third col of ROC\n",
    "    return np.array([thresholds, 1-tps, fps]).T"
   ]
  },
  {
   "cell_type": "code",
   "execution_count": 78,
   "metadata": {},
   "outputs": [],
   "source": [
    "def evalQueryAttrib(hyp, annot, scoring_collar, editDur, hop_sec, usePlane):\n",
    "    tamperType = annot[0]\n",
    "    attributions = []\n",
    "    path = hyp['wp']\n",
    "    queryLength = path[0,0]\n",
    "    gt = np.ones(queryLength)\n",
    "\n",
    "    if usePlane:  # For using hidden vs visible plane to make predictions with HSTW\n",
    "        pathPreds = (path[:,2] == 0).astype(int)  # Flip so visible plane is match\n",
    "    else:\n",
    "        pathPreds = hyp['dist']\n",
    "    \n",
    "    # Set up gt depending on tamper type and store boundaries (in sec) to mark collar after\n",
    "    # GT is 0 for matching frame, 1 for non-matching frame\n",
    "    if tamperType == \"N\":\n",
    "        boundaries = []\n",
    "    \n",
    "    elif tamperType == \"I\":\n",
    "        insertionStart = float(annot[5])\n",
    "        insertionEnd = insertionStart + editDur\n",
    "        boundaries = [insertionStart, insertionEnd]\n",
    "        \n",
    "        insertionStartFrame = int(np.round(insertionStart / hop_sec))\n",
    "        insertionEndFrame = int(np.round(insertionEnd / hop_sec))\n",
    "        gt[insertionStartFrame:insertionEndFrame] = 0\n",
    "        \n",
    "    elif tamperType == \"D\": # For deletions, we have 1 boundary but no non-matching frames\n",
    "        deletionStart = float(annot[5])\n",
    "        boundaries = [deletionStart]        \n",
    "    \n",
    "    else: # replacement\n",
    "        replacementStart = float(annot[5])\n",
    "        replacementEnd = replacementStart + editDur\n",
    "        boundaries = [replacementStart, replacementEnd]\n",
    "        \n",
    "        replacementStartFrame = int(np.round(replacementStart / hop_sec))\n",
    "        replacementEndFrame = int(np.round(replacementEnd / hop_sec))\n",
    "        gt[replacementStartFrame:replacementEndFrame] = 0\n",
    "    \n",
    "    # Set scoring collar to -1 around each boundary\n",
    "    for boundary in boundaries:\n",
    "        collarStartTime = boundary - scoring_collar\n",
    "        collarStartFrame = int(np.ceil(collarStartTime / hop_sec))\n",
    "        collarEndTime = boundary + scoring_collar\n",
    "        collarEndFrame = int(np.ceil(collarEndTime / hop_sec))\n",
    "        gt[collarStartFrame:collarEndFrame] = -1\n",
    "    \n",
    "    # Impute cost scores\n",
    "    # Interpolate here to fill in the frames that the path jumps over\n",
    "    preds = np.interp(np.arange(queryLength), path[:,0][::-1], pathPreds[::-1])\n",
    "    \n",
    "    if usePlane: # for vis vs hidden, the frames that are in both planes default to visible (match)\n",
    "        preds = np.ceil(preds)\n",
    "\n",
    "    attributions = np.hstack((gt.reshape((-1,1)), preds.reshape((-1,1))))\n",
    "        \n",
    "    # Filter out the gt=-1 frames that are within the scoring collar of a boundary\n",
    "    collarFilter = gt >= 0\n",
    "    attributions = attributions[collarFilter, :]\n",
    "         \n",
    "    return attributions"
   ]
  },
  {
   "cell_type": "markdown",
   "metadata": {},
   "source": [
    "## Run Attribution Eval"
   ]
  },
  {
   "cell_type": "code",
   "execution_count": 79,
   "metadata": {},
   "outputs": [],
   "source": [
    "editTimes = [1, 2, 3, 4]\n",
    "benchmark = 'train'\n",
    "systems = [\"D1\", \"D2\", \"D3\", \"D4\", \"NW-60\", \"HSTW\"]\n",
    "\n",
    "for editTime in editTimes:\n",
    "    for sys in systems:\n",
    "        pairsFile = \"/mnt/data0/%s/TamperingDetection/cfg_files/%s_%ss.pairs\" % (user, benchmark, str(editTime))\n",
    "        annotFile = \"/mnt/data0/%s/TamperingDetection/annots/160kbps_%ssec.gt\" % (user, str(editTime))\n",
    "        pathsRoot = \"/mnt/data0/%s/TamperingDetection/hyp/%ssec/%s\" % (user, str(editTime), sys)\n",
    "        saveFile = \"/mnt/data0/%s/TamperingDetection/eval/attribution/%s/%s_%ss.pkl\" % \\\n",
    "                    (user, sys, benchmark, str(editTime))\n",
    "        \n",
    "        ROC = evalAttribution(pairsFile, annotFile, pathsRoot, editTime, saveFile = saveFile)"
   ]
  },
  {
   "cell_type": "code",
   "execution_count": 80,
   "metadata": {},
   "outputs": [],
   "source": [
    "editTimes = [1, 2, 3, 4]\n",
    "benchmark = 'train'\n",
    "\n",
    "for editTime in editTimes:\n",
    "    pairsFile = \"/mnt/data0/%s/TamperingDetection/cfg_files/%s_%ss.pairs\" % (user, benchmark, str(editTime))\n",
    "    annotFile = \"/mnt/data0/%s/TamperingDetection/annots/160kbps_%ssec.gt\" % (user, str(editTime))\n",
    "    pathsRoot = \"/mnt/data0/%s/TamperingDetection/hyp/%ssec/HSTW\" % (user, str(editTime))\n",
    "    saveFile = \"/mnt/data0/%s/TamperingDetection/eval/attribution/HSTW/planeAttrib/%s_%ss.pkl\" \\\n",
    "                % (user, benchmark, str(editTime))\n",
    "        \n",
    "    ROC = evalAttribution(pairsFile, annotFile, pathsRoot, editTime, saveFile = saveFile, usePlane = True)"
   ]
  },
  {
   "cell_type": "markdown",
   "metadata": {},
   "source": [
    "## Attribution Plots"
   ]
  },
  {
   "cell_type": "code",
   "execution_count": 111,
   "metadata": {},
   "outputs": [],
   "source": [
    "def plotAttribution(timesToPlot, systemsToPlot, benchmark, sysNames, ROCDir):\n",
    "    x = np.arange(len(timesToPlot))\n",
    "    numBars = len(systemsToPlot)\n",
    "    width = 0.75 / numBars\n",
    "    plt.grid(zorder=0)\n",
    "    for i, plotSys in enumerate(systemsToPlot):\n",
    "        EERs = []\n",
    "        barLocs = x - width * (numBars / 2) + (i+0.5) * width\n",
    "        for j, plotTime in enumerate(timesToPlot):\n",
    "            \n",
    "            ROCfile = ROCDir + \"/%s/%s_%ss.pkl\" % (plotSys, benchmark, str(plotTime))\n",
    "\n",
    "            ROC = pkl.load(open(ROCfile, 'rb'))\n",
    "            EERs.append(findEER(ROC))\n",
    "\n",
    "        plt.bar(barLocs, np.array(EERs) * 100, width, zorder = 3)\n",
    "        \n",
    "        plt.xlabel(\"Edit Duration (s)\")\n",
    "        plt.xticks(x, timesToPlot)\n",
    "        plt.ylim(0,20)\n",
    "        plt.title(\"Attribution Error Rates\")\n",
    "\n",
    "    plt.legend(sysNames, loc = (1.05, 0.57))\n",
    "    plt.ylabel(\"Equal Error Rate (%)\", fontsize = \"large\")"
   ]
  },
  {
   "cell_type": "code",
   "execution_count": 112,
   "metadata": {},
   "outputs": [],
   "source": [
    "def findEER(ROC):\n",
    "    '''\n",
    "    Calculates Equal Error Rate based on ROC\n",
    "    \n",
    "    '''\n",
    "    diffs = np.abs(ROC[:,1] - ROC[:,2])\n",
    "    \n",
    "    best = np.argmin(diffs)\n",
    "    \n",
    "    return (ROC[best,1] + ROC[best,2]) / 2"
   ]
  },
  {
   "cell_type": "code",
   "execution_count": 113,
   "metadata": {},
   "outputs": [
    {
     "data": {
      "image/png": "[encoded data removed]",
      "text/plain": [
       "<Figure size 432x288 with 1 Axes>"
      ]
     },
     "metadata": {
      "needs_background": "light"
     },
     "output_type": "display_data"
    }
   ],
   "source": [
    "ROCDir = \"/mnt/data0/%s/TamperingDetection/eval/attribution\" % user\n",
    "\n",
    "timesToPlot = [1,2,3,4]\n",
    "systemsToPlot = [\"D1\", \"D2\", \"D3\", \"D4\", \"NW-60\", \"HSTW\"]\n",
    "sysNames =  [\"DTW-111\", \"DTW-011\",\"DTW-121\", \"DTW-112\", \"NW-60\",\"HSTW\"]\n",
    "benchmark = \"train\"\n",
    "\n",
    "plotAttribution(timesToPlot, systemsToPlot, benchmark, sysNames, ROCDir)"
   ]
  },
  {
   "cell_type": "code",
   "execution_count": 100,
   "metadata": {},
   "outputs": [],
   "source": [
    "def plotROCs(rocFiles, planeAttribFiles, sysNames):\n",
    "    for rocFile in rocFiles:\n",
    "        ROC = pkl.load(open(rocFile, 'rb'))\n",
    "        plt.plot(ROC[:,1] * 100, ROC[:,2] * 100) # x = falsePositive, y = falseNegative\n",
    "    \n",
    "    plt.legend(sysNames, loc = (1.02, 0.57))\n",
    "    plt.xlabel(\"False Positive Rate (%)\")\n",
    "    plt.ylabel(\"False Negative Rate (%)\")\n",
    "    plt.title(\"ROC Curves for 2 Second Edit Duration\")\n",
    "    plt.xlim(0,25)\n",
    "    plt.ylim(0,25)\n",
    "    \n",
    "    # Plane attrib files\n",
    "    # Use calc_FPFN function maybe?\n",
    "    for paFile in planeAttribFiles:\n",
    "        attribs = pkl.load(open(paFile, 'rb'))\n",
    "        diffs = attribs[:,1] - attribs[:,0] # 0 for correct, 1 for fp, -1 for fn\n",
    "        fp = np.sum(diffs == 1) / (np.sum(attribs[:,0] == 0)) # num fp / num true neg\n",
    "        fn = np.sum(diffs == -1) / (np.sum(attribs[:,0] == 1)) # num fn / num true pos\n",
    "        plt.plot(fp * 100, fn * 100, 'kx', markersize = 6)\n",
    "        "
   ]
  },
  {
   "cell_type": "code",
   "execution_count": 101,
   "metadata": {},
   "outputs": [
    {
     "data": {
      "image/png": "[encoded data removed]",
      "text/plain": [
       "<Figure size 432x288 with 1 Axes>"
      ]
     },
     "metadata": {
      "needs_background": "light"
     },
     "output_type": "display_data"
    }
   ],
   "source": [
    "editTime = 2\n",
    "benchmark = \"train\"\n",
    "systemsToPlot = [\"D1\", \"D2\", \"D3\", \"D4\", \"NW-60\", \"HSTW\"]\n",
    "sysNames =  [\"DTW-111\", \"DTW-011\",\"DTW-121\", \"DTW-112\", \"NW-60\",\"HSTW\"]\n",
    "\n",
    "rocFiles = []\n",
    "for sys in systemsToPlot:\n",
    "    rocFile = \"/mnt/data0/%s/TamperingDetection/eval/attribution/%s/%s_%ss.pkl\" % \\\n",
    "                (user, sys, benchmark, str(editTime))\n",
    "    rocFiles.append(rocFile)\n",
    "\n",
    "\n",
    "planeAttribFiles = []\n",
    "paSystems = [\"HSTW\"]\n",
    "for sys in paSystems:\n",
    "    paFile = \"/mnt/data0/%s/TamperingDetection/eval/attribution/%s/planeAttrib/%s_%ss.pkl\" \\\n",
    "                % (user, sys, benchmark, str(editTime))\n",
    "    planeAttribFiles.append(paFile)\n",
    "\n",
    "    \n",
    "plotROCs(rocFiles, planeAttribFiles, sysNames)"
   ]
  },
  {
   "cell_type": "code",
   "execution_count": 104,
   "metadata": {},
   "outputs": [],
   "source": [
    "paFile = \"/mnt/data0/%s/TamperingDetection/eval/attribution/%s/planeAttrib/%s_%ss.pkl\" \\\n",
    "                % (user, sys, benchmark, str(editTime))"
   ]
  },
  {
   "cell_type": "code",
   "execution_count": 105,
   "metadata": {},
   "outputs": [],
   "source": [
    "attribs = pkl.load(open(paFile, 'rb'))"
   ]
  },
  {
   "cell_type": "code",
   "execution_count": 106,
   "metadata": {},
   "outputs": [
    {
     "data": {
      "text/plain": [
       "array([[1., 1.],\n",
       "       [1., 1.],\n",
       "       [1., 1.],\n",
       "       ...,\n",
       "       [1., 1.],\n",
       "       [1., 1.],\n",
       "       [1., 1.]])"
      ]
     },
     "execution_count": 106,
     "metadata": {},
     "output_type": "execute_result"
    }
   ],
   "source": [
    "attribs"
   ]
  },
  {
   "cell_type": "code",
   "execution_count": 107,
   "metadata": {},
   "outputs": [],
   "source": [
    "diffs = attribs[:,1] - attribs[:,0] # 0 for correct, 1 for fp, -1 for fn"
   ]
  },
  {
   "cell_type": "code",
   "execution_count": 108,
   "metadata": {},
   "outputs": [],
   "source": [
    "fp = np.sum(diffs == 1) / (np.sum(attribs[:,0] == 0)) # num fp / num true neg\n",
    "fn = np.sum(diffs == -1) / (np.sum(attribs[:,0] == 1)) # num fn / num true pos"
   ]
  },
  {
   "cell_type": "code",
   "execution_count": 109,
   "metadata": {},
   "outputs": [
    {
     "data": {
      "text/plain": [
       "0.010247764705615947"
      ]
     },
     "execution_count": 109,
     "metadata": {},
     "output_type": "execute_result"
    }
   ],
   "source": [
    "fn"
   ]
  },
  {
   "cell_type": "code",
   "execution_count": 110,
   "metadata": {},
   "outputs": [
    {
     "data": {
      "text/plain": [
       "0.012961194162464737"
      ]
     },
     "execution_count": 110,
     "metadata": {},
     "output_type": "execute_result"
    }
   ],
   "source": [
    "fp"
   ]
  },
  {
   "cell_type": "code",
   "execution_count": null,
   "metadata": {},
   "outputs": [],
   "source": []
  }
 ],
 "metadata": {
  "kernelspec": {
   "display_name": "MIR",
   "language": "python",
   "name": "mir"
  },
  "language_info": {
   "codemirror_mode": {
    "name": "ipython",
    "version": 3
   },
   "file_extension": ".py",
   "mimetype": "text/x-python",
   "name": "python",
   "nbconvert_exporter": "python",
   "pygments_lexer": "ipython3",
   "version": "3.7.10"
  }
 },
 "nbformat": 4,
 "nbformat_minor": 4
}
