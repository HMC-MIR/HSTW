{
 "cells": [
  {
   "cell_type": "code",
   "execution_count": 1,
   "metadata": {},
   "outputs": [],
   "source": [
    "import numpy as np\n",
    "import matplotlib.pyplot as plt\n",
    "import glob\n",
    "import os.path\n",
    "from pathlib import Path\n",
    "import time\n",
    "import pandas as pd\n",
    "import pickle as pkl\n",
    "import librosa as lb\n",
    "from sklearn import metrics"
   ]
  },
  {
   "cell_type": "code",
   "execution_count": 2,
   "metadata": {},
   "outputs": [],
   "source": [
    "user = 'agoutam'\n",
    "baseDir = \"/mnt/data0/%s/TamperingDetection\" % user"
   ]
  },
  {
   "cell_type": "markdown",
   "metadata": {},
   "source": [
    "# Alignment"
   ]
  },
  {
   "cell_type": "code",
   "execution_count": 3,
   "metadata": {},
   "outputs": [],
   "source": [
    "def evalAlignments(pairsFile, annotFile, hypRoot, editDur, saveFile = None, \\\n",
    "                           hop_sec = 0.01, scoring_collar = 0.1, maxTol = 1000):\n",
    "    '''Evaluate all alignmnets in a pairs file'''\n",
    "    \n",
    "    annotList = list(map(lambda x: x.split(), open(annotFile, 'r').readlines())) # Convert the annotFile to a list\n",
    "    alignmentErrors = []\n",
    "    with open(pairsFile, 'r') as f: \n",
    "        for line in f: # For each alignment pair\n",
    "            parts = line.strip().split()\n",
    "            assert len(parts) == 2\n",
    "            \n",
    "            # Find correct annotations\n",
    "            queryId = os.path.basename(parts[0])[:-4] # [:-4] here to get rid of .wav\n",
    "            annot = findAnnot(annotList, queryId)\n",
    "            \n",
    "            # Find path\n",
    "            hypFile = hypRoot + '/' + queryId[:-4] + '.pkl' # [:-4] here to get rid of _160\n",
    "            hyp = pkl.load(open(hypFile, 'rb'))\n",
    "            \n",
    "            queryErrors = getAlignmentError(hyp, annot, hop_sec, scoring_collar, editDur)\n",
    "            \n",
    "            alignmentErrors.append(queryErrors)\n",
    "    # Stack alignmentErrors\n",
    "    alignmentErrors = np.hstack(alignmentErrors)\n",
    "    # Get error rates at error tols\n",
    "    errorRates = calcErrorRates(alignmentErrors, maxTol)\n",
    "    # Save and return\n",
    "    if saveFile is not None:\n",
    "        outdir = os.path.dirname(saveFile)\n",
    "        outdir = Path(outdir)\n",
    "        outdir.mkdir(parents=True, exist_ok=True)\n",
    "        pkl.dump(errorRates, open(saveFile, 'wb'))\n",
    "    \n",
    "    return errorRates"
   ]
  },
  {
   "cell_type": "code",
   "execution_count": 4,
   "metadata": {},
   "outputs": [],
   "source": [
    "def findAnnot(annotList, queryId):\n",
    "    \"\"\"Get the annotations for the appropriate query\"\"\"\n",
    "    for annot in annotList:\n",
    "        if annot[1] == queryId:\n",
    "            return annot\n",
    "    \n",
    "    print(\"Error: Annotations not found\")\n",
    "    return None"
   ]
  },
  {
   "cell_type": "code",
   "execution_count": 5,
   "metadata": {},
   "outputs": [],
   "source": [
    "def getAlignmentError(hyp, annot, hop_sec, scoring_collar, editDur):\n",
    "    '''Find the error for a single query'''\n",
    "    tamperType = annot[0]\n",
    "    path = hyp['wp']\n",
    "    queryLength = path[0,0]\n",
    "    \n",
    "    # Get GT\n",
    "    gtPath = getAlignmentGT(tamperType, annot, scoring_collar, queryLength, hop_sec, editDur)\n",
    "\n",
    "    # Interp valid frames over path to get preds\n",
    "    # Multiply ref frames by hopsec to get timestamps\n",
    "    preds = np.interp(gtPath[:,0], path[:,0][::-1], path[:,1][::-1] * hop_sec)    \n",
    "    \n",
    "    # Compare preds to GT timestamps\n",
    "    errors = preds - (gtPath[:,1] * hop_sec)\n",
    "    \n",
    "    return errors"
   ]
  },
  {
   "cell_type": "code",
   "execution_count": 6,
   "metadata": {},
   "outputs": [],
   "source": [
    "def getAlignmentGT(tamperType, annot, scoring_collar, queryLength, hop_sec, editDur):\n",
    "    '''\n",
    "    Gets the GT alignment path. \n",
    "    Note that this path skips over invalid sections (tampered or within scoring collar)\n",
    "    '''\n",
    "    gtPath = np.zeros((queryLength, 2))\n",
    "    gtPath[:,0] = np.arange(queryLength)\n",
    "    \n",
    "    if tamperType == \"N\":  # Not tampered: diagonal path and everything valid\n",
    "        pathStart = float(annot[3])\n",
    "        pathStartFrame = int(np.round(pathStart / hop_sec))\n",
    "        pathEndFrame = pathStartFrame + queryLength\n",
    "        gtPath[:,1] = np.arange(pathStartFrame, pathEndFrame)\n",
    "        return gtPath\n",
    "    \n",
    "    elif tamperType == \"I\":  # Insertion\n",
    "        pathStart = float(annot[3])\n",
    "        pathStartFrame = int(np.round(pathStart / hop_sec))\n",
    "        #pathEnd = float(annot[4])\n",
    "        #pathEndFrame = int(np.round(pathEnd / hop_sec))\n",
    "        \n",
    "        insertionStart = float(annot[5])\n",
    "        invalidStart = max(0,insertionStart - scoring_collar)\n",
    "        invalidEnd = insertionStart + editDur + scoring_collar  # Skip inserted editDur\n",
    "        invalidStartFrame = int(np.ceil(invalidStart / hop_sec))\n",
    "        invalidEndFrame = int(np.ceil(invalidEnd / hop_sec))\n",
    "        \n",
    "        refInvalidEnd = pathStart + insertionStart + scoring_collar\n",
    "        refInvalidEndFrame = int(np.ceil(refInvalidEnd / hop_sec))\n",
    "        \n",
    "        gtPath[:invalidStartFrame,1] = np.arange(pathStartFrame, pathStartFrame + invalidStartFrame)\n",
    "        framesLeft = gtPath[invalidEndFrame:,1].shape[0]\n",
    "        gtPath[invalidEndFrame:,1] = np.arange(refInvalidEndFrame, refInvalidEndFrame + framesLeft)\n",
    "        \n",
    "        gtPath = np.delete(gtPath, slice(invalidStartFrame,invalidEndFrame), axis = 0)\n",
    "        return gtPath\n",
    "    \n",
    "    elif tamperType == \"D\":\n",
    "        pathStart = float(annot[3])\n",
    "        pathStartFrame = int(np.round(pathStart / hop_sec))\n",
    "        #pathEnd = float(annot[4])\n",
    "        #pathEndFrame = int(np.round(pathEnd / hopsec))\n",
    "        \n",
    "        deletionStart = float(annot[5])\n",
    "        invalidStart = max(0,deletionStart - scoring_collar)\n",
    "        invalidEnd = deletionStart + scoring_collar\n",
    "        invalidStartFrame = int(np.ceil(invalidStart / hop_sec))\n",
    "        invalidEndFrame = int(np.ceil(invalidEnd / hop_sec))\n",
    "        \n",
    "        refInvalidEnd = pathStart + deletionStart + editDur + scoring_collar  # Skip deleted editDur\n",
    "        refInvalidEndFrame = int(np.ceil(refInvalidEnd / hop_sec))\n",
    "        \n",
    "        gtPath[:invalidStartFrame,1] = np.arange(pathStartFrame, pathStartFrame + invalidStartFrame)\n",
    "        framesLeft = gtPath[invalidEndFrame:,1].shape[0]\n",
    "        gtPath[invalidEndFrame:,1] = np.arange(refInvalidEndFrame, refInvalidEndFrame + framesLeft)\n",
    "        \n",
    "        gtPath = np.delete(gtPath, slice(invalidStartFrame,invalidEndFrame), axis = 0)\n",
    "        return gtPath\n",
    "    \n",
    "    elif tamperType == \"R\":\n",
    "        pathStart = float(annot[3])\n",
    "        pathStartFrame = int(np.round(pathStart / hop_sec))\n",
    "        #pathEnd = float(annot[4])\n",
    "        #pathEndFrame = int(np.round(pathEnd / hopsec))\n",
    "        \n",
    "        replacementStart = float(annot[5])\n",
    "        invalidStart = max(0, replacementStart - scoring_collar)\n",
    "        invalidEnd = replacementStart + editDur + scoring_collar  # Skip replaced editDur\n",
    "        invalidStartFrame = int(np.ceil(invalidStart / hop_sec))\n",
    "        invalidEndFrame = int(np.ceil(invalidEnd / hop_sec))\n",
    "        \n",
    "        refInvalidEnd = pathStart + replacementStart + editDur + scoring_collar  # Skip replaced editDur\n",
    "        refInvalidEndFrame = int(np.ceil(refInvalidEnd / hop_sec))\n",
    "\n",
    "        gtPath[:invalidStartFrame,1] = np.arange(pathStartFrame, pathStartFrame + invalidStartFrame)\n",
    "        framesLeft = gtPath[invalidEndFrame:,1].shape[0]\n",
    "        gtPath[invalidEndFrame:,1] = np.arange(refInvalidEndFrame, refInvalidEndFrame + framesLeft)\n",
    "        gtPath = np.delete(gtPath, slice(invalidStartFrame,invalidEndFrame), axis = 0)\n",
    "        return gtPath\n",
    "    else:\n",
    "        print(\"Invalid Tamper Type: \", tamperType)\n",
    "        return np.array([])"
   ]
  },
  {
   "cell_type": "code",
   "execution_count": 7,
   "metadata": {},
   "outputs": [],
   "source": [
    "def calcErrorRates(errors, maxTol):\n",
    "    '''\n",
    "    Calculate the error rates at different error tolerances given the errors and the highest error tolerance\n",
    "    Calculates at 1ms increments up to maxTol (in ms)\n",
    "    '''\n",
    "    errorTols = np.arange(maxTol + 1).reshape(-1,1) / 1000\n",
    "    \n",
    "    correct = (np.abs(errors.reshape(1,-1)) <= errorTols).astype(int)\n",
    "    \n",
    "    errorRates = 1 - (np.sum(correct, axis = 1) / errors.shape[0])\n",
    "    \n",
    "    return errorRates"
   ]
  },
  {
   "cell_type": "markdown",
   "metadata": {},
   "source": [
    "## Run Alignment Eval"
   ]
  },
  {
   "cell_type": "code",
   "execution_count": 8,
   "metadata": {},
   "outputs": [
    {
     "name": "stdout",
     "output_type": "stream",
     "text": [
      "D1 1\n",
      "D3 1\n",
      "D4 1\n",
      "NW-25 1\n",
      "NW-65 1\n",
      "HSTW-threshold 1\n",
      "D1 2\n",
      "D3 2\n",
      "D4 2\n",
      "NW-25 2\n",
      "NW-65 2\n",
      "HSTW-threshold 2\n",
      "D1 3\n",
      "D3 3\n",
      "D4 3\n",
      "NW-25 3\n",
      "NW-65 3\n",
      "HSTW-threshold 3\n",
      "D1 4\n",
      "D3 4\n",
      "D4 4\n",
      "NW-25 4\n",
      "NW-65 4\n",
      "HSTW-threshold 4\n"
     ]
    }
   ],
   "source": [
    "# REQUIRED: recursively copy  \"HSTW-2.4-33-3\" twice and rename into \"HSTW-threshold\" and \"HSTW-plane\"\n",
    "\n",
    "editTimes = [1, 2, 3, 4]\n",
    "benchmark = 'test'\n",
    "systems = [\"D1\", \"D3\", \"D4\", \"NW-25\", \"NW-65\", \"HSTW-threshold\"]\n",
    "for editTime in editTimes:\n",
    "    for sys in systems:\n",
    "        print(sys, editTime)\n",
    "        pairsFile = baseDir + \"/cfg_files/%s_%ss.pairs\" % (benchmark, str(editTime))\n",
    "        annotFile = baseDir + \"/annots/160kbps_%ssec.gt\" % (str(editTime))\n",
    "        pathsRoot = baseDir + \"/hyp/%s/%ssec/%s\" % (benchmark, str(editTime), sys)\n",
    "        saveFile = baseDir + \"/eval/alignment/%s/%s_%ss.pkl\" % (sys, benchmark, str(editTime))\n",
    "        \n",
    "        errRates = evalAlignments(pairsFile, annotFile, pathsRoot, editTime, saveFile = saveFile)"
   ]
  },
  {
   "cell_type": "markdown",
   "metadata": {},
   "source": [
    "## Alignment Figure"
   ]
  },
  {
   "cell_type": "code",
   "execution_count": 9,
   "metadata": {},
   "outputs": [],
   "source": [
    "def plotAlignment(timesToPlot, systemsToPlot, errorCurveDir, benchmark, legend, title=\"Alignment Error Rates\"):\n",
    "    fig, axs = plt.subplots(1, len(timesToPlot), figsize = (15, 9))\n",
    "    x = np.arange(4)\n",
    "    numBars = len(systemsToPlot)\n",
    "    width = 0.75 / numBars\n",
    "    \n",
    "    for i, plotTime in enumerate(timesToPlot):\n",
    "        axs[i].grid(zorder=0)\n",
    "        for j, sys in enumerate(systemsToPlot):\n",
    "            \n",
    "            errorsFile = errorCurveDir + \"/%s/%s_%ss.pkl\" % (sys, benchmark, str(plotTime))\n",
    "            errorCurve = pkl.load(open(errorsFile, 'rb'))\n",
    "            if(sys == 'HSTW-threshold'):\n",
    "                axs[i].bar(x - width * (numBars / 2) + (j + 1/2) * width, errorCurve[[20, 50, 100, 200]] * 100, width, zorder = 3, color = 'C6')\n",
    "            else:\n",
    "                axs[i].bar(x - width * (numBars / 2) + (j + 1/2) * width, errorCurve[[20, 50, 100, 200]] * 100, width, zorder = 3)\n",
    "            \n",
    "            #print(plotTime, sys, errorCurve[[20, 50, 100, 200]] * 100)\n",
    "#         axs[i].set_xlabel(\"Error Tolerance (ms)\")\n",
    "        axs[i].set_xticks(x)\n",
    "        axs[i].set_yticklabels((np.arange(7)*2).astype(int),size = 12)\n",
    "        axs[i].set_xticklabels([20, 50, 100, 200], size = 12)\n",
    "        axs[i].set_ylim(0,12)\n",
    "        axs[i].set_title(\"L = \" + str(plotTime), size = 15)\n",
    "        \n",
    "        if(plotTime == 1):\n",
    "            axs[i].legend(legend, loc = 2, fontsize = 15)\n",
    "\n",
    "    axs[0].set_ylabel(\"Error Rate (%)\", size = 20)\n",
    "    fig.text(0.5, -0.01, 'Error Tolerance (ms)', ha='center', size = 20)\n",
    "    fig.tight_layout()"
   ]
  },
  {
   "cell_type": "code",
   "execution_count": 10,
   "metadata": {},
   "outputs": [
    {
     "name": "stderr",
     "output_type": "stream",
     "text": [
      "/home/agoutam/anaconda3/envs/MIR/lib/python3.7/site-packages/ipykernel_launcher.py:21: UserWarning: FixedFormatter should only be used together with FixedLocator\n"
     ]
    },
    {
     "data": {
      "image/png": "[encoded data removed]",
      "text/plain": [
       "<Figure size 1080x648 with 4 Axes>"
      ]
     },
     "metadata": {
      "needs_background": "light"
     },
     "output_type": "display_data"
    }
   ],
   "source": [
    "benchmark = \"test\"\n",
    "timesToPlot = [1, 2, 3, 4]\n",
    "\n",
    "systemsToPlot = [\"D1\", \"D3\", \"D4\", \"NW-65\", \"HSTW-threshold\"]\n",
    "systemNames = [\"DTW-111\",\"DTW-121\", \"DTW-112\", \"NW-Threshold\",\"HSTW\"]\n",
    "\n",
    "errorCurveDir = \"/mnt/data0/%s/TamperingDetection/eval/alignment\" % user\n",
    "\n",
    "plotAlignment(timesToPlot, systemsToPlot, errorCurveDir, benchmark, systemNames)"
   ]
  },
  {
   "cell_type": "markdown",
   "metadata": {},
   "source": [
    "# Attribution"
   ]
  },
  {
   "cell_type": "code",
   "execution_count": 11,
   "metadata": {},
   "outputs": [],
   "source": [
    "def evalAttribution(pairsFile, annotFile, pathsRoot, editDur, scoring_collar = 0.1, \\\n",
    "                   saveFile = None, hop_sec = 0.01, usePlane = False):\n",
    "    \"\"\"\n",
    "    Evaluate the attribution for all alignment pairs for a single system and edit duration\"\"\"\n",
    "    attributions = []\n",
    "    annotList = list(map(lambda x: x.split(), open(annotFile, 'r').readlines()))\n",
    "    \n",
    "    with open(pairsFile, 'r') as f:\n",
    "        for line in f:\n",
    "            parts = line.strip().split()\n",
    "            assert len(parts) == 2\n",
    "            \n",
    "            # Find correct annotations\n",
    "            queryId = os.path.basename(parts[0])[:-4] # [:-4] here to get rid of .wav\n",
    "            annot = findAnnot(annotList, queryId)\n",
    "            \n",
    "            # Find path\n",
    "            pathFile = pathsRoot + '/' + queryId[:-4] + '.pkl' # [:-4] here to get rid of _160\n",
    "            if not os.path.exists(pathFile):\n",
    "                print(\"Skip: \", pathFile)\n",
    "                continue\n",
    "            path = pkl.load(open(pathFile, 'rb'))\n",
    "\n",
    "            theseAttributions = evalQueryAttrib(path, annot, scoring_collar, editDur, hop_sec, usePlane)\n",
    "            \n",
    "            attributions.append(theseAttributions)\n",
    "\n",
    "    attributions = np.vstack(attributions)\n",
    "    \n",
    "    if usePlane: # usePlane is for PAEER systems (NW-skip and HSTW-plane). These systems save the attributions, not the ROC\n",
    "        if saveFile is not None:\n",
    "            outdir = os.path.dirname(saveFile)\n",
    "            outdir = Path(outdir)\n",
    "            outdir.mkdir(parents=True, exist_ok=True)\n",
    "            pkl.dump(attributions, open(saveFile, 'wb'))\n",
    "        \n",
    "        return attributions\n",
    "    else:\n",
    "        ROC = calc_ROC(attributions)\n",
    "        if saveFile is not None:\n",
    "            outdir = os.path.dirname(saveFile)\n",
    "            outdir = Path(outdir)\n",
    "            outdir.mkdir(parents=True, exist_ok=True)\n",
    "            pkl.dump(ROC, open(saveFile, 'wb'))\n",
    "\n",
    "        return ROC"
   ]
  },
  {
   "cell_type": "code",
   "execution_count": 12,
   "metadata": {},
   "outputs": [],
   "source": [
    "def calc_ROC(attributions):\n",
    "    \"\"\"Calculate an ROC given costs and ground truth attributions\"\"\"\n",
    "    flippedGT = (attributions[:,0] == 0).astype(int)\n",
    "    fps, tps, thresholds = metrics.roc_curve(flippedGT, attributions[:,1])\n",
    "    # Now FP means called non-match when really a match, which is really a FN,\n",
    "    # So save FP in third col of ROC\n",
    "    return np.array([thresholds, 1-tps, fps]).T"
   ]
  },
  {
   "cell_type": "code",
   "execution_count": 13,
   "metadata": {},
   "outputs": [],
   "source": [
    "def evalQueryAttrib(hyp, annot, scoring_collar, editDur, hop_sec, usePlane):\n",
    "    '''Evaluate a single query'''\n",
    "    tamperType = annot[0]\n",
    "    attributions = []\n",
    "    path = hyp['wp']\n",
    "    queryLength = path[0,0]\n",
    "    gt = np.ones(queryLength)\n",
    "\n",
    "    if usePlane:  # For using hidden vs visible plane (or skip vs (1,1) transition) to make predictions\n",
    "        pathPreds = path[:,2]\n",
    "    else:\n",
    "        pathPreds = hyp['dist']\n",
    "    \n",
    "    # Set up gt depending on tamper type and store boundaries (in sec) to mark collar after\n",
    "    # GT is 1 for matching frame, 0 for non-matching frame\n",
    "    if tamperType == \"N\":\n",
    "        boundaries = []\n",
    "    \n",
    "    elif tamperType == \"I\":\n",
    "        insertionStart = float(annot[5])\n",
    "        insertionEnd = insertionStart + editDur\n",
    "        boundaries = [insertionStart, insertionEnd]\n",
    "        \n",
    "        insertionStartFrame = int(np.round(insertionStart / hop_sec))\n",
    "        insertionEndFrame = int(np.round(insertionEnd / hop_sec))\n",
    "        gt[insertionStartFrame:insertionEndFrame] = 0\n",
    "        \n",
    "    elif tamperType == \"D\": # For deletions, we have 1 boundary but no non-matching frames\n",
    "        deletionStart = float(annot[5])\n",
    "        boundaries = [deletionStart]        \n",
    "    \n",
    "    else: # replacement\n",
    "        replacementStart = float(annot[5])\n",
    "        replacementEnd = replacementStart + editDur\n",
    "        boundaries = [replacementStart, replacementEnd]\n",
    "        \n",
    "        replacementStartFrame = int(np.round(replacementStart / hop_sec))\n",
    "        replacementEndFrame = int(np.round(replacementEnd / hop_sec))\n",
    "        gt[replacementStartFrame:replacementEndFrame] = 0\n",
    "    \n",
    "    # Set scoring collar to -1 around each boundary\n",
    "    for boundary in boundaries:\n",
    "        collarStartTime = boundary - scoring_collar\n",
    "        collarStartFrame = int(np.ceil(collarStartTime / hop_sec))\n",
    "        collarEndTime = boundary + scoring_collar\n",
    "        collarEndFrame = int(np.ceil(collarEndTime / hop_sec))\n",
    "        gt[collarStartFrame:collarEndFrame] = -1\n",
    "    \n",
    "    # Impute cost scores\n",
    "    # Interpolate here to fill in the frames that the path jumps over\n",
    "    preds = np.interp(np.arange(queryLength), path[:,0][::-1], pathPreds[::-1])\n",
    "    \n",
    "    if usePlane: # for vis vs hidden, the frames that are in both planes default to visible (match)\n",
    "        preds = np.ceil(preds)\n",
    "\n",
    "    attributions = np.hstack((gt.reshape((-1,1)), preds.reshape((-1,1))))\n",
    "        \n",
    "    # Filter out the gt=-1 frames that are within the scoring collar of a boundary\n",
    "    collarFilter = gt >= 0\n",
    "    attributions = attributions[collarFilter, :]\n",
    "         \n",
    "    return attributions"
   ]
  },
  {
   "cell_type": "markdown",
   "metadata": {},
   "source": [
    "## Run Attribution Eval"
   ]
  },
  {
   "cell_type": "code",
   "execution_count": 14,
   "metadata": {},
   "outputs": [],
   "source": [
    "# Threshold systems\n",
    "\n",
    "\n",
    "editTimes = [1, 2, 3, 4]\n",
    "benchmark = 'test'\n",
    "systems = [\"D1\", \"D3\", \"D4\", \"NW-65\", \"NW-25\",\"HSTW-threshold\"]\n",
    "sysNames =  ['DTW-111','DTW-121','DTW-112','NW-threshold','NW-skip','HSTW-threshold']\n",
    "\n",
    "for editTime in editTimes:\n",
    "    for sys in systems:\n",
    "        pairsFile = baseDir + \"/cfg_files/%s_%ss.pairs\" % (benchmark, str(editTime))\n",
    "        annotFile = baseDir + \"/annots/160kbps_%ssec.gt\" % (str(editTime))\n",
    "        pathsRoot = baseDir + \"/hyp/%s/%ssec/%s\" % (benchmark, str(editTime), sys)\n",
    "        saveFile = baseDir + \"/eval/attribution/%s/%s_%ss.pkl\" % (sys, benchmark, str(editTime))\n",
    "        \n",
    "        ROC = evalAttribution(pairsFile, annotFile, pathsRoot, editTime, saveFile = saveFile)"
   ]
  },
  {
   "cell_type": "code",
   "execution_count": 15,
   "metadata": {},
   "outputs": [],
   "source": [
    "# PAEER systems\n",
    "editTimes = [1,2,3,4]\n",
    "benchmark = 'test'\n",
    "planeSystems = [\"HSTW-plane\"]\n",
    "planeSysNames = [\"HSTW-plane\"]\n",
    "\n",
    "for editTime in editTimes:\n",
    "    for sys in planeSystems:\n",
    "        pairsFile = baseDir + \"/cfg_files/%s_%ss.pairs\" % (benchmark, str(editTime))\n",
    "        annotFile = baseDir + \"/annots/160kbps_%ssec.gt\" % (str(editTime))\n",
    "        pathsRoot = baseDir + \"/hyp/%s/%ssec/%s\" % (benchmark, str(editTime), sys)\n",
    "        saveFile = baseDir + \"/eval/attribution/%s/planeAttrib/%s_%ss.pkl\" % (sys, benchmark, str(editTime))\n",
    "\n",
    "        attribs = evalAttribution(pairsFile, annotFile, pathsRoot, editTime, saveFile = saveFile, usePlane = True)"
   ]
  },
  {
   "cell_type": "markdown",
   "metadata": {},
   "source": [
    "## Attribution Plots"
   ]
  },
  {
   "cell_type": "code",
   "execution_count": 16,
   "metadata": {},
   "outputs": [],
   "source": [
    "def plotAttribution(timesToPlot, systemsToPlot, benchmark, sysNames, ROCDir):\n",
    "    x = np.arange(len(timesToPlot))\n",
    "    numBars = len(systemsToPlot)\n",
    "    width = 0.75 / numBars\n",
    "    plt.grid(zorder=0)\n",
    "    for i, plotSys in enumerate(systemsToPlot):\n",
    "        EERs = []\n",
    "        barLocs = x - width * (numBars / 2) + (i+0.5) * width\n",
    "        for j, plotTime in enumerate(timesToPlot):\n",
    "            \n",
    "            ROCfile = ROCDir + \"/%s/%s_%ss.pkl\" % (plotSys, benchmark, str(plotTime))\n",
    "\n",
    "            ROC = pkl.load(open(ROCfile, 'rb'))\n",
    "            EERs.append(findEER(ROC))\n",
    "\n",
    "        plt.bar(barLocs, np.array(EERs) * 100, width, zorder = 3)\n",
    "        \n",
    "        plt.xlabel(\"Edit Duration (s)\")\n",
    "        plt.xticks(x, timesToPlot)\n",
    "        #plt.ylim(0,20)\n",
    "        plt.title(\"Attribution Error Rates\")\n",
    "\n",
    "    plt.legend(sysNames, loc = (1.05, 0.57))\n",
    "    plt.ylabel(\"Equal Error Rate (%)\", fontsize = \"large\")"
   ]
  },
  {
   "cell_type": "code",
   "execution_count": 17,
   "metadata": {},
   "outputs": [],
   "source": [
    "def findEER(ROC):\n",
    "    '''\n",
    "    Calculates Equal Error Rate based on ROC\n",
    "    \n",
    "    '''\n",
    "    diffs = np.abs(ROC[:,1] - ROC[:,2])\n",
    "    \n",
    "    best = np.argmin(diffs)\n",
    "    \n",
    "    return (ROC[best,1] + ROC[best,2]) / 2"
   ]
  },
  {
   "cell_type": "code",
   "execution_count": 18,
   "metadata": {},
   "outputs": [],
   "source": [
    "def plotROCs(rocFiles, planeAttribFiles, sysNames):\n",
    "    for rocFile in rocFiles:\n",
    "        ROC = pkl.load(open(rocFile, 'rb'))\n",
    "        plt.plot(ROC[:,1] * 100, ROC[:,2] * 100) # x = falsePositive, y = falseNegative\n",
    "    \n",
    "    plt.xlabel(\"False Positive Rate (%)\")\n",
    "    plt.ylabel(\"False Negative Rate (%)\")\n",
    "    plt.title(\"ROC Curves for 2 Second Edit Duration\")\n",
    "    plt.xlim(0,50)\n",
    "    plt.ylim(0,50)\n",
    "    \n",
    "    # Plane attrib files\n",
    "    # Use calc_FPFN function maybe?\n",
    "    for paFile in planeAttribFiles:\n",
    "        fp, fn = planeAttribToFPFN(paFile)\n",
    "        plt.plot(fp * 100, fn * 100, 'x', markersize = 6)\n",
    "    \n",
    "    plt.legend(sysNames, loc = (1.02, 0.57))"
   ]
  },
  {
   "cell_type": "code",
   "execution_count": 19,
   "metadata": {},
   "outputs": [],
   "source": [
    "def planeAttribToFPFN(paFile):\n",
    "    \"\"\"Reads a plane attribution file and finds the fp and fn rates\"\"\"\n",
    "    attribs = pkl.load(open(paFile, 'rb'))\n",
    "    diffs = attribs[:,1] - attribs[:,0] # 0 for correct, 1 for fp, -1 for fn\n",
    "    fp = np.sum(diffs == 1) / (np.sum(attribs[:,0] == 0)) # num fp / num true neg\n",
    "    fn = np.sum(diffs == -1) / (np.sum(attribs[:,0] == 1)) # num fn / num true pos\n",
    "    return fp, fn"
   ]
  },
  {
   "cell_type": "code",
   "execution_count": 20,
   "metadata": {},
   "outputs": [],
   "source": [
    "plotColors = [plt.cm.Set1(i) for i in range(6)]\n",
    "plotColors.append(\"#DCED31\")\n",
    "plotColors = plotColors[::-1]\n",
    "\n",
    "def plotAllAttribution(timesToPlot, allSystems, benchmark, sysNames, ROCDir, evalDir):\n",
    "    x = np.arange(len(timesToPlot))\n",
    "    numBars = len(allSystems)\n",
    "    width = 0.75 / numBars\n",
    "    plt.figure(figsize = (15,9))\n",
    "    plt.grid(zorder=0)\n",
    "\n",
    "    for i, plotSys in enumerate(allSystems):\n",
    "        EERs = []\n",
    "        barLocs = x - width * (numBars / 2) + (i+0.5) * width\n",
    "        for j, plotTime in enumerate(timesToPlot):\n",
    "            if(plotSys in planeSystems):\n",
    "                paFile = evalDir + \"/%s/planeAttrib/%s_%ss.pkl\" % (plotSys, benchmark, str(plotTime))\n",
    "                attribs = pkl.load(open(paFile, 'rb'))\n",
    "                fp,fn = planeAttribToFPFN(paFile)\n",
    "                print(timesToPlot[j], plotSys, fp,fn)\n",
    "                if(plotSys in planeSysNames):\n",
    "                    EERs.append(1 - ((fp+fn)/2))\n",
    "                else:\n",
    "                    EERs.append((fp+fn)/2)\n",
    "            else:\n",
    "                ROCfile = ROCDir + \"/%s/%s_%ss.pkl\" % (plotSys, benchmark, str(plotTime))\n",
    "                ROC = pkl.load(open(ROCfile, 'rb'))\n",
    "                EERs.append(findEER(ROC))\n",
    "            \n",
    "        plt.bar(barLocs, np.array(EERs) * 100, width, zorder = 3, color = plotColors[i])\n",
    "        print(plotSys, np.array(EERs)*100)\n",
    "        plt.xlabel(\"Edit Duration (s)\", size = 20)\n",
    "        plt.xticks(x, timesToPlot, size = 15)\n",
    "        plt.yticks((np.arange(6)*2).astype(int), size = 15)\n",
    "        #plt.ylim(0,20)\n",
    "        \n",
    "    plt.legend(sysNames+planeSysNames, loc = 0, fontsize = 15)\n",
    "    plt.ylabel(\"Equal Error Rate (%)\", size = 20)"
   ]
  },
  {
   "cell_type": "code",
   "execution_count": 21,
   "metadata": {},
   "outputs": [
    {
     "name": "stdout",
     "output_type": "stream",
     "text": [
      "D4 [3.09060193 7.96319065 9.90770402 9.25401029]\n",
      "D1 [2.19471991 3.83312277 5.85261794 6.41352664]\n",
      "D3 [2.31244585 3.58135888 6.12157516 7.68455226]\n",
      "NW-65 [1.53500242 3.04177929 4.93706429 4.7707382 ]\n",
      "NW-25 [3.16167365 8.63989907 8.93641028 8.1687268 ]\n",
      "HSTW-threshold [1.11164771 1.28887933 1.55724846 1.40450136]\n",
      "1 HSTW-plane 0.997827661115134 0.9984193188175005\n",
      "2 HSTW-plane 0.9999000655126083 0.9975124659761505\n",
      "3 HSTW-plane 0.99991434934049 0.9946064988448499\n",
      "4 HSTW-plane 0.9996632518297528 0.9930508388019303\n",
      "HSTW-plane [0.187651   0.12937343 0.27395759 0.36429547]\n"
     ]
    },
    {
     "data": {
      "image/png": "[encoded data removed]",
      "text/plain": [
       "<Figure size 1080x648 with 1 Axes>"
      ]
     },
     "metadata": {
      "needs_background": "light"
     },
     "output_type": "display_data"
    }
   ],
   "source": [
    "ROCDir = \"/mnt/data0/%s/TamperingDetection/eval/attribution\" % user\n",
    "allSystems = [\"D4\", \"D1\", \"D3\", \"NW-65\", \"NW-25\",\"HSTW-threshold\",\"HSTW-plane\"]\n",
    "allSysNames = ['DTW-112', 'DTW-111', 'DTW-121', 'NW-threshold', 'NW-skip*', 'HSTW-threshold','HSTW-plane*']\n",
    "plotAllAttribution(editTimes, allSystems, benchmark, allSysNames, ROCDir, ROCDir)"
   ]
  },
  {
   "cell_type": "code",
   "execution_count": 22,
   "metadata": {},
   "outputs": [],
   "source": [
    "def plotROCs(rocFiles, planeAttribFiles, allSysNames):\n",
    "    \n",
    "    handles = []\n",
    "    fig, ax = plt.subplots(1,1, figsize = (6,6))\n",
    "    plt.grid(zorder=0)\n",
    "    colorInd = 0\n",
    "    for rocFile in rocFiles[0:4]:\n",
    "        ROC = pkl.load(open(rocFile, 'rb'))\n",
    "        ax.plot(ROC[:,1] * 100, ROC[:,2] * 100, color = plotColors[colorInd], label = allSysNames[colorInd]) # x = falsePositive, y = falseNegative\n",
    "        colorInd += 1\n",
    "        \n",
    "\n",
    "    fp, fn = planeAttribToFPFN(planeAttribFiles[0])\n",
    "    ax.plot(100 - fp * 100,100 - fn * 100, 'x', markersize = 12, color = plotColors[colorInd], label = allSysNames[colorInd])\n",
    "    colorInd += 1\n",
    "    \n",
    "\n",
    "    ROC = pkl.load(open(rocFiles[-1], 'rb'))\n",
    "    ax.plot(ROC[:,1] * 100, ROC[:,2] * 100, color = plotColors[colorInd], label = allSysNames[colorInd]) # x = falsePositive, y = falseNegative\n",
    "    colorInd += 1\n",
    "    \n",
    "\n",
    "    fp, fn = planeAttribToFPFN(planeAttribFiles[1])\n",
    "    track1 = ax.scatter(100 - fp * 100,100 -fn * 100, marker = 'o', s = 300, c = plotColors[colorInd], alpha = 1, label = 'HSTW-plane*')\n",
    "    track2 = ax.scatter(100 - fp * 100,100 - fn * 100, marker = 'x', s = 270, c = 'blue', alpha = 1,label = 'HSTW-plane*')\n",
    "    colorInd += 1\n",
    "\n",
    "    \n",
    "    print(colorInd)\n",
    "    plt.xlabel(\"False Positive Rate (%)\", size = 20)\n",
    "    plt.ylabel(\"False Negative Rate (%)\", size = 20)\n",
    "    \n",
    "    plt.xlim(-0.3,12)\n",
    "    plt.ylim(-0.3,12)\n",
    "    \n",
    "    ticks = (np.arange(7)*2).astype(int)\n",
    "    \n",
    "    plt.xticks(ticks, size = 13)\n",
    "    plt.yticks(ticks, size = 13)\n",
    "    \n",
    "    rocSysNames = ['DTW-112','DTW-111','DTW-121','NW-threshold','NW-skip*','HSTW-threshold','HSTW-plane*']\n",
    "    h, l = ax.get_legend_handles_labels()\n",
    "    plt.legend( h[:-2] + [(h[-2],h[-1])],l, loc = 1, fontsize = 15)"
   ]
  },
  {
   "cell_type": "code",
   "execution_count": 23,
   "metadata": {},
   "outputs": [
    {
     "name": "stderr",
     "output_type": "stream",
     "text": [
      "*c* argument looks like a single numeric RGB or RGBA sequence, which should be avoided as value-mapping will have precedence in case its length matches with *x* & *y*.  Please use the *color* keyword-argument or provide a 2-D array with a single row if you intend to specify the same RGB or RGBA value for all points.\n"
     ]
    },
    {
     "name": "stdout",
     "output_type": "stream",
     "text": [
      "7\n"
     ]
    },
    {
     "data": {
      "image/png": "[encoded data removed]",
      "text/plain": [
       "<Figure size 432x432 with 1 Axes>"
      ]
     },
     "metadata": {
      "needs_background": "light"
     },
     "output_type": "display_data"
    }
   ],
   "source": [
    "editTime = 1\n",
    "benchmark = \"test\"\n",
    "systemsToPlot = [\"D4\", \"D1\", \"D3\", \"NW-65\", \"HSTW-threshold\"]\n",
    "sysNames =  [\"DTW-112\",\"DTW-111\", \"DTW-121\", \"NW-threshold\",\"HSTW-threshold\"]\n",
    "\n",
    "rocFiles = []\n",
    "for sys in systemsToPlot:\n",
    "    rocFile = \"/mnt/data0/%s/TamperingDetection/eval/attribution/%s/%s_%ss.pkl\" % \\\n",
    "                (user, sys, benchmark, str(editTime))\n",
    "    rocFiles.append(rocFile)\n",
    "\n",
    "\n",
    "planeAttribFiles = []\n",
    "paSystems = [\"NW-25\",\"HSTW-plane\"]\n",
    "paSystemsNames = [\"NW-skip\",\"HSTW-plane\"]\n",
    "for sys in paSystems:\n",
    "    paFile = \"/mnt/data0/%s/TamperingDetection/eval/attribution/%s/planeAttrib/%s_%ss.pkl\" \\\n",
    "                % (user, sys, benchmark, str(editTime))\n",
    "    planeAttribFiles.append(paFile)\n",
    "\n",
    "    \n",
    "allFiles = rocFiles[0:4] + [planeAttribFiles[0]] + [rocFiles[-1]] + [planeAttribFiles[1]]\n",
    "plotROCs(rocFiles, planeAttribFiles, sysNames[:-1] + [paSystemsNames[0]] + [sysNames[-1]] + [paSystemsNames[1]])"
   ]
  },
  {
   "cell_type": "code",
   "execution_count": null,
   "metadata": {},
   "outputs": [],
   "source": []
  },
  {
   "cell_type": "code",
   "execution_count": null,
   "metadata": {},
   "outputs": [],
   "source": []
  }
 ],
 "metadata": {
  "kernelspec": {
   "display_name": "Python 3",
   "language": "python",
   "name": "python3"
  },
  "language_info": {
   "codemirror_mode": {
    "name": "ipython",
    "version": 3
   },
   "file_extension": ".py",
   "mimetype": "text/x-python",
   "name": "python",
   "nbconvert_exporter": "python",
   "pygments_lexer": "ipython3",
   "version": "3.7.10"
  }
 },
 "nbformat": 4,
 "nbformat_minor": 4
}
