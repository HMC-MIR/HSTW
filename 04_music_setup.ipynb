{
 "cells": [
  {
   "cell_type": "code",
   "execution_count": 1,
   "id": "9e451470",
   "metadata": {},
   "outputs": [],
   "source": [
    "import numpy as np\n",
    "import librosa as lb\n",
    "import os\n",
    "import os.path\n",
    "import subprocess\n",
    "import pathlib\n",
    "from pathlib import Path\n",
    "import random\n",
    "import soundfile as sf\n",
    "import pandas as pd\n",
    "import glob\n",
    "import pickle\n",
    "import multiprocessing"
   ]
  },
  {
   "cell_type": "code",
   "execution_count": 2,
   "id": "2353f208",
   "metadata": {},
   "outputs": [],
   "source": [
    "FEATURES_ROOT = Path('/home/cchang/ttmp/features')\n",
    "train_files = Path('cfg_files/filelist.train.txt')\n",
    "test_files = Path('cfg_files/filelist.test.txt')"
   ]
  },
  {
   "cell_type": "markdown",
   "id": "667789e5",
   "metadata": {},
   "source": [
    "## Modify Data (Partial Matching)"
   ]
  },
  {
   "cell_type": "markdown",
   "id": "5c975a50",
   "metadata": {},
   "source": [
    "### Functions"
   ]
  },
  {
   "cell_type": "code",
   "execution_count": 3,
   "id": "c6c848fc",
   "metadata": {},
   "outputs": [],
   "source": [
    "def modifyDataset(origdata, L, outdir, audiodir = 'wav_22050_mono'):\n",
    "    '''\n",
    "    Generates modified dataset with repeated material inserted\n",
    "    \n",
    "    origdata: the original data directory filepath\n",
    "    L: the duration of the inserted fragment in seconds\n",
    "    outdir: the desired output file directory (Path object)    \n",
    "    '''\n",
    "    random.seed(0)  # for reproducible results\n",
    "    replacementTS = []\n",
    "    copyFileStructure(origdata, outdir)  # copy directory structure\n",
    "\n",
    "    # Now we need to get all the wav files we want to modify\n",
    "    origWav = [f for f in glob.glob(origdata.as_posix() + \"/\" + audiodir + '/**/*.wav', recursive=True)]\n",
    "    \n",
    "    # structural exceptions\n",
    "    file1 = 'Chopin_Op068No3_Koczalski-1948_pid9140-05.wav'\n",
    "    file2 = 'Chopin_Op017No4_Ginzburg-1957_pid9156-10.wav'\n",
    "    \n",
    "    for wavFile in origWav:\n",
    "        # The beat annotation files of this are outside the original Chopin Mazurka folder (structure exception)\n",
    "        if os.path.basename(wavFile) == file1 or os.path.basename(wavFile) == file2:\n",
    "            continue\n",
    "            \n",
    "        # check that the filler audio is not the same Mazurka as the original audio\n",
    "        currentMazurka = Path(wavFile).parent\n",
    "        otherMazurka = random.choice(os.listdir(origdata / audiodir))\n",
    "        while otherMazurka == currentMazurka or otherMazurka[0] == \".\":\n",
    "            otherMazurka = random.choice(os.listdir(origdata / audiodir))\n",
    "        otherMazurka = Path(wavFile).parents[1] / otherMazurka\n",
    "        \n",
    "        # check that the audio piece is not one of the exceptions\n",
    "        fillerAudio = random.choice(os.listdir(otherMazurka))\n",
    "    \n",
    "        while fillerAudio == file1 or fillerAudio == file2 or fillerAudio[0] == \".\":\n",
    "            fillerAudio = random.choice(os.listdir(otherMazurka))\n",
    "        fillerAudio = otherMazurka / fillerAudio\n",
    "        \n",
    "        # modify the audio and save it\n",
    "        replacementTS.append(modifyData(Path(wavFile), fillerAudio, L, outdir))\n",
    "        \n",
    "           \n",
    "    # Save timestamps into csv file\n",
    "    replacementTS_np = np.array(replacementTS)\n",
    "    pd.DataFrame(replacementTS_np).to_csv(outdir / 'replacement_ts.csv', index=None, header=['name', 'beginning replacement end (idx)', 'middle replacement start (idx)', 'middle replacement end (idx)', 'ending replacement start (idx)'])\n",
    "    \n",
    "    return"
   ]
  },
  {
   "cell_type": "code",
   "execution_count": 4,
   "id": "abc1fc4b",
   "metadata": {},
   "outputs": [],
   "source": [
    "def copyFileStructure(origdir, outdir):\n",
    "    '''copy the directory structure of the original data'''\n",
    "    outdir.mkdir(parents=True, exist_ok=True)\n",
    "    \n",
    "    # Get subdirectories in original folder\n",
    "    origDirList = [f for f in glob.glob(origdir.as_posix() + '/**/', recursive=True)]\n",
    "    \n",
    "    # Create subdirectories in output directory\n",
    "    for origSubDir in origDirList:\n",
    "        subDirPath = Path(origSubDir)\n",
    "        index = subDirPath.parts.index(origdir.name)\n",
    "        newSubDirPath = outdir.joinpath(*subDirPath.parts[index+1:])\n",
    "        newSubDirPath.mkdir(parents=True, exist_ok=True)"
   ]
  },
  {
   "cell_type": "code",
   "execution_count": 5,
   "id": "599553a1",
   "metadata": {},
   "outputs": [],
   "source": [
    "def modifyData(wavFile, fillerWavFile, L, outdir):\n",
    "    # Load in original wav\n",
    "    name = os.path.basename(wavFile)\n",
    "    origSound, sr = lb.core.load(wavFile)\n",
    "    L_total = origSound.shape[0]  # total length of recording\n",
    "\n",
    "    # replace the first L_start sec of the audio recording\n",
    "    L_start = random.randint(0, 10*sr)\n",
    "    filler_start, _ = lb.core.load(fillerWavFile, sr=sr, offset=0, duration=L_start/sr)\n",
    "    np.put(origSound, np.arange(L_start), filler_start)\n",
    "\n",
    "    # replace the last L_end sec of the audio recording\n",
    "    L_end = random.randint(0, 10*sr)\n",
    "    filler_end, _ = lb.core.load(fillerWavFile, sr=sr, offset=(L_total-L_end)/sr, duration=None)\n",
    "    np.put(origSound, np.arange(L_total - L_end, L_total), filler_end)\n",
    "    \n",
    "    # replace a middle section of the audio recording\n",
    "    if L_start + 10*sr > L_total - L_end - L*sr - 10*sr:\n",
    "        print(\"No valid middle replacement for %s with duration %s, L %s, L_start %s, and L_end %s\" % (name, L_total/sr, L, L_start/sr, L_end/sr))\n",
    "        t_selected = -1\n",
    "    else:\n",
    "        t_selected = random.randint(L_start + 10*sr, L_total - L_end - L*sr - 10*sr)\n",
    "        filler_mid, _ = lb.core.load(fillerWavFile, sr=sr, offset=t_selected/sr, duration = L)\n",
    "        np.put(origSound, np.arange(t_selected, t_selected+L*sr), filler_mid)\n",
    "\n",
    "    # Save modified audio file\n",
    "#     oldPath = Path(wavFile)\n",
    "    \n",
    "    newPath = outdir.joinpath(*wavFile.parts[-3:])\n",
    "    sf.write(newPath, origSound, 22050)\n",
    "    \n",
    "    modInfo = [name, L_start, t_selected, t_selected+L*sr, L_total - L_end]\n",
    "    return modInfo"
   ]
  },
  {
   "cell_type": "markdown",
   "id": "98db4ea9",
   "metadata": {},
   "source": [
    "### Run Modification"
   ]
  },
  {
   "cell_type": "code",
   "execution_count": 6,
   "id": "e401df99",
   "metadata": {},
   "outputs": [],
   "source": [
    "# suppress warnings for PySoundFile\n",
    "import warnings\n",
    "warnings.filterwarnings(\"ignore\")"
   ]
  },
  {
   "cell_type": "code",
   "execution_count": 7,
   "id": "b4ac66b3",
   "metadata": {},
   "outputs": [],
   "source": [
    "origdata = Path('/home/cchang/ttmp/raw_data/Chopin_Mazurkas')\n",
    "durations = [5, 10, 15, 20, 25, 30]\n",
    "\n",
    "for L in durations:\n",
    "    outdir = Path('/home/cchang/ttmp/raw_data/partial_match/Chopin_Mazurkas_partial_match_%ss' % L)\n",
    "    modifyDataset(origdata, L, outdir)"
   ]
  },
  {
   "cell_type": "markdown",
   "id": "59873da5",
   "metadata": {},
   "source": [
    "## Create Features"
   ]
  },
  {
   "cell_type": "code",
   "execution_count": 8,
   "id": "e9cfa631",
   "metadata": {},
   "outputs": [],
   "source": [
    "def compute_chroma_single(infile, outfile, sr = 22050, hop_length=512):\n",
    "    y, sr = lb.core.load(infile, sr = sr)\n",
    "    #F = lb.feature.chroma_cens(y, sr=sr, hop_length=hop_length)\n",
    "    F = lb.feature.chroma_cqt(y, sr=sr, hop_length=hop_length, norm=2)\n",
    "    np.save(outfile, F)\n",
    "    return"
   ]
  },
  {
   "cell_type": "code",
   "execution_count": 9,
   "id": "de00e05f",
   "metadata": {},
   "outputs": [],
   "source": [
    "def compute_chroma_batch(audio_root, filelist, outdir, n_cores):\n",
    "    # prep inputs for parallelization\n",
    "    inputs = []\n",
    "    with open(filelist, 'r') as f:\n",
    "        for line in f:\n",
    "            relpath = line.strip()\n",
    "            reldir, fileid = os.path.split(relpath)\n",
    "            featdir = outdir / reldir\n",
    "            featdir.mkdir(parents=True, exist_ok=True)\n",
    "            featfile = (featdir / fileid).with_suffix('.npy')\n",
    "            audiofile = (audio_root / relpath).with_suffix('.wav')\n",
    "            if os.path.exists(featfile):\n",
    "                print(f\"Skipping {featfile}\")\n",
    "            else:\n",
    "                inputs.append((audiofile, featfile))\n",
    "\n",
    "    # process files in parallel\n",
    "    pool = multiprocessing.Pool(processes = n_cores)\n",
    "    pool.starmap(compute_chroma_single, inputs)\n",
    "    \n",
    "    return"
   ]
  },
  {
   "cell_type": "code",
   "execution_count": null,
   "id": "a981f593",
   "metadata": {},
   "outputs": [],
   "source": [
    "# compute features on the clean audio\n",
    "\n",
    "rootdir = '/home/cchang/ttmp/raw_data/Chopin_Mazurkas/'\n",
    "ANNOTATIONS_ROOT = Path(rootdir + 'annotations_beat')\n",
    "AUDIO_ROOT = Path(rootdir + 'wav_22050_mono')\n",
    "\n",
    "FEATS_CLEAN_DIR = FEATURES_ROOT / 'clean'\n",
    "compute_chroma_batch(AUDIO_ROOT, train_files, FEATS_CLEAN_DIR, 24)\n",
    "compute_chroma_batch(AUDIO_ROOT, test_files, FEATS_CLEAN_DIR, 24)"
   ]
  },
  {
   "cell_type": "code",
   "execution_count": null,
   "id": "fe10a456",
   "metadata": {},
   "outputs": [],
   "source": [
    "# compute features for partial modification (5, 10, 15, 20, 25, and 30 sec)\n",
    "dirs = ['partial_match_5s', 'partial_match_10s', 'partial_match_15s', 'partial_match_20s', 'partial_match_25s', 'partial_match_30s']\n",
    "AUDIO_ROOT = '/home/cchang/ttmp/raw_data/partial_match/'\n",
    "\n",
    "for x in dirs:\n",
    "    audioroot = Path(AUDIO_ROOT + \"Chopin_Mazurkas_\" + x + '/wav_22050_mono')\n",
    "    compute_chroma_batch(audioroot, train_files, FEATURES_ROOT / 'partial_match' / x, 24)\n",
    "    compute_chroma_batch(audioroot, test_files, FEATURES_ROOT / 'partial_match' / x, 24)"
   ]
  },
  {
   "cell_type": "code",
   "execution_count": null,
   "id": "7dedce0c",
   "metadata": {},
   "outputs": [],
   "source": []
  }
 ],
 "metadata": {
  "kernelspec": {
   "display_name": "MIR",
   "language": "python",
   "name": "mir"
  },
  "language_info": {
   "codemirror_mode": {
    "name": "ipython",
    "version": 3
   },
   "file_extension": ".py",
   "mimetype": "text/x-python",
   "name": "python",
   "nbconvert_exporter": "python",
   "pygments_lexer": "ipython3",
   "version": "3.7.10"
  }
 },
 "nbformat": 4,
 "nbformat_minor": 5
}
