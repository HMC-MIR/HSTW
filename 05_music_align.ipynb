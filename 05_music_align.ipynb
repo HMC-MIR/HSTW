{
 "cells": [
  {
   "cell_type": "markdown",
   "id": "af9a4173",
   "metadata": {},
   "source": [
    "# Run Partial Matching Baseline\n",
    "\n",
    "This notebook will run alignment algorithms on clean to modified audio"
   ]
  },
  {
   "cell_type": "code",
   "execution_count": 1,
   "id": "785724f2",
   "metadata": {},
   "outputs": [],
   "source": [
    "import numpy as np\n",
    "import numba\n",
    "import time\n",
    "import librosa as lb\n",
    "import multiprocessing\n",
    "import subprocess\n",
    "import pickle\n",
    "import logging\n",
    "import sys\n",
    "import pandas as pd\n",
    "import matplotlib.pyplot as plt\n",
    "import glob\n",
    "import os.path\n",
    "from pathlib import Path\n",
    "from align_algs import *"
   ]
  },
  {
   "cell_type": "code",
   "execution_count": null,
   "id": "18d92add",
   "metadata": {},
   "outputs": [],
   "source": [
    "user = 'cchang'"
   ]
  },
  {
   "cell_type": "code",
   "execution_count": 2,
   "id": "61c5bea9",
   "metadata": {},
   "outputs": [],
   "source": [
    "hop_sec = 512 * 1 / 22050\n",
    "n_cores = 8\n",
    "downsample = 1"
   ]
  },
  {
   "cell_type": "code",
   "execution_count": 3,
   "id": "5c088816",
   "metadata": {},
   "outputs": [],
   "source": [
    "times = np.array([5,10,20,30])\n",
    "featdir1_root = Path('/home/{}/ttmp/features/partial_match'.format(user))\n",
    "featdir2 = Path('/home/{}/ttmp/features/clean'.format(user))"
   ]
  },
  {
   "cell_type": "code",
   "execution_count": 4,
   "id": "981ec3ba",
   "metadata": {},
   "outputs": [],
   "source": [
    "# Set which cfg file we want to use for our tests\n",
    "cfg_options = ['toy', 'small', 'small2', 'medium', 'train_benchmark', 'test_benchmark']\n",
    "cfg = cfg_options[5]\n",
    "\n",
    "if cfg == 'toy':\n",
    "    query_list = 'cfg_files/query.train_toy.list'\n",
    "elif cfg == 'small':\n",
    "    query_list = 'cfg_files/query.train_small.list'\n",
    "elif cfg == 'small2':\n",
    "    query_list = 'cfg_files/query.train_small2.list'\n",
    "elif cfg == 'medium':\n",
    "    query_list = 'cfg_files/query.train_medium.list'\n",
    "elif cfg == 'train_benchmark':\n",
    "    query_list = 'cfg_files/query.train.list'\n",
    "elif cfg == 'test_benchmark':\n",
    "    query_list = 'cfg_files/query.test.list'"
   ]
  },
  {
   "cell_type": "markdown",
   "id": "c6361927",
   "metadata": {},
   "source": [
    "## Calculate Alignments"
   ]
  },
  {
   "cell_type": "code",
   "execution_count": null,
   "id": "419c52c1",
   "metadata": {},
   "outputs": [],
   "source": [
    "# For DTW Baselines\n",
    "folder_names = ['dtw233', 'dtw111']\n",
    "\n",
    "for t in times:\n",
    "    EXPERIMENTS_ROOT = '/home/%s/ttmp/partial_match/%s/experiments/align_clean_to_%ss' % (user, cfg, t)\n",
    "    \n",
    "    for i in range(1, len(folder_names) + 1):\n",
    "        outdir = Path(EXPERIMENTS_ROOT + \"/\" + folder_names[i-1])\n",
    "        featdir1 = featdir1_root / ('partial_match_%ss' % t)\n",
    "        inputs = align_batch(i, query_list, featdir1, featdir2, outdir, n_cores, downsample)"
   ]
  },
  {
   "cell_type": "code",
   "execution_count": null,
   "id": "20f329fe",
   "metadata": {},
   "outputs": [],
   "source": [
    "# For NWTW\n",
    "gammas = [0.2, 1]\n",
    "folder_names = ['nwtw/gamma_%s' %g for g in gammas]\n",
    "\n",
    "for t in times:\n",
    "    EXPERIMENTS_ROOT = '/home/%s/ttmp/partial_match/%s/experiments/align_clean_to_%ss' % (user, cfg, t)\n",
    "    \n",
    "    for i in range(len(gammas)):\n",
    "        outdir = Path(EXPERIMENTS_ROOT + \"/\" + folder_names[i])\n",
    "        featdir1 = featdir1_root / ('partial_match_%ss' % t)\n",
    "#         inputs = align_batch(i, query_list, featdir1, featdir2, outdir, n_cores, downsample)\n",
    "        alignNW_batch(query_list, featdir1, featdir2, outdir, n_cores, downsample, gammas[i])"
   ]
  },
  {
   "cell_type": "code",
   "execution_count": 5,
   "id": "b957cb78",
   "metadata": {},
   "outputs": [],
   "source": [
    "gamma = 10\n",
    "beta = 150\n",
    "# gammas = [1,5,10,20,50]\n",
    "# betas = [0,10,100,150,200,250]\n",
    "\n",
    "steps = np.array([1,1,2,1,1,2]).reshape((-1,2))\n",
    "weights = np.array([2,3,3])\n",
    "\n",
    "# folder_names = ['hstw/gamma_%s_beta_150' %g for g in gammas]\n",
    "# folder_names = ['hstw/gamma_10_beta_%s' % b for b in betas]\n",
    "folder_names = ['hstw/gamma_10_beta_150']"
   ]
  },
  {
   "cell_type": "code",
   "execution_count": 6,
   "id": "13480fbb",
   "metadata": {},
   "outputs": [
    {
     "data": {
      "text/plain": [
       "['hstw/gamma_10_beta_0',\n",
       " 'hstw/gamma_10_beta_10',\n",
       " 'hstw/gamma_10_beta_100',\n",
       " 'hstw/gamma_10_beta_150',\n",
       " 'hstw/gamma_10_beta_200',\n",
       " 'hstw/gamma_10_beta_250']"
      ]
     },
     "execution_count": 6,
     "metadata": {},
     "output_type": "execute_result"
    }
   ],
   "source": [
    "folder_names"
   ]
  },
  {
   "cell_type": "code",
   "execution_count": null,
   "id": "bec27d74",
   "metadata": {},
   "outputs": [],
   "source": [
    "# For HSTW\n",
    "for t in times:\n",
    "    EXPERIMENTS_ROOT = '/home/%s/ttmp/partial_match/%s/experiments/align_clean_to_%ss' % (user, cfg, t)\n",
    "    \n",
    "    for i in range(len(folder_names)):\n",
    "        outdir = Path(EXPERIMENTS_ROOT + \"/\" + folder_names[i])\n",
    "        featdir1 = featdir1_root / ('partial_match_%ss' % t)\n",
    "        align_HPTW_batch(query_list, featdir1, featdir2, outdir, n_cores, steps, weights, gamma, betas[i], downsample)"
   ]
  },
  {
   "cell_type": "code",
   "execution_count": null,
   "id": "c54dc79e",
   "metadata": {},
   "outputs": [],
   "source": []
  }
 ],
 "metadata": {
  "kernelspec": {
   "display_name": "MIR",
   "language": "python",
   "name": "mir"
  },
  "language_info": {
   "codemirror_mode": {
    "name": "ipython",
    "version": 3
   },
   "file_extension": ".py",
   "mimetype": "text/x-python",
   "name": "python",
   "nbconvert_exporter": "python",
   "pygments_lexer": "ipython3",
   "version": "3.7.10"
  }
 },
 "nbformat": 4,
 "nbformat_minor": 5
}
