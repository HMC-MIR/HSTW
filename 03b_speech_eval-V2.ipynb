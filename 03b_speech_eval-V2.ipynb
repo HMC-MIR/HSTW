{
 "cells": [
  {
   "cell_type": "code",
   "execution_count": 1,
   "metadata": {},
   "outputs": [],
   "source": [
    "import numpy as np\n",
    "import matplotlib.pyplot as plt\n",
    "import glob\n",
    "import os.path\n",
    "from pathlib import Path\n",
    "import time\n",
    "import pandas as pd\n",
    "import pickle as pkl\n",
    "import librosa as lb\n",
    "from sklearn import metrics"
   ]
  },
  {
   "cell_type": "code",
   "execution_count": 2,
   "metadata": {},
   "outputs": [],
   "source": [
    "user = 'tshaw'"
   ]
  },
  {
   "cell_type": "code",
   "execution_count": 3,
   "metadata": {},
   "outputs": [],
   "source": [
    "def getPredsAndGT(pairsFile, annotFile, pathsRoot, editDur, scoring_collar = 0.1, numThresholds = 1000, \\\n",
    "                   saveFile = None, hop_sec = 0.01):\n",
    "    insertionAttributions = []\n",
    "    deletionAttributions = []\n",
    "    replacementAttributions = []\n",
    "    \n",
    "    annotList = list(map(lambda x: x.split(), open(annotFile, 'r').readlines()))\n",
    "    \n",
    "    with open(pairsFile, 'r') as f:\n",
    "        for line in f:\n",
    "            parts = line.strip().split()\n",
    "            assert len(parts) == 2\n",
    "            \n",
    "            # Find correct annotations\n",
    "            queryId = os.path.basename(parts[0])[:-4] # [:-4] here to get rid of .wav\n",
    "            annot = findAnnot(annotList, queryId)\n",
    "            \n",
    "            # Find path\n",
    "            #pathBasename = queryId + '__' + os.path.basename(parts[1])  # This will need to change based on file structure\n",
    "            pathFile = pathsRoot + '/' + queryId[:-4] + '.pkl' # [:-4] here to get rid of _160\n",
    "            path = pkl.load(open(pathFile, 'rb'))\n",
    "\n",
    "            tamperType, theseAttributions = evalQuery(path, annot, scoring_collar, editDur, hop_sec)\n",
    "            \n",
    "            # Add new costs and GT to\n",
    "            if tamperType == \"N\":\n",
    "                continue\n",
    "            elif tamperType == \"I\":\n",
    "                insertionAttributions += theseAttributions\n",
    "            elif tamperType == \"D\":\n",
    "                deletionAttributions += theseAttributions\n",
    "            else:\n",
    "                replacementAttributions += theseAttributions\n",
    "\n",
    "    allAttributions = [np.array(insertionAttributions), np.array(deletionAttributions), \\\n",
    "                       np.array(replacementAttributions)]\n",
    "    \n",
    "    if saveFile is not None:\n",
    "        outdir = os.path.dirname(saveFile)\n",
    "        outdir = Path(outdir)\n",
    "        outdir.mkdir(parents=True, exist_ok=True)\n",
    "        pkl.dump(allAttributions, open(saveFile, 'wb'))\n",
    "        \n",
    "    return allAttributions"
   ]
  },
  {
   "cell_type": "code",
   "execution_count": 4,
   "metadata": {},
   "outputs": [],
   "source": [
    "def findAnnot(annotList, queryId):\n",
    "    for annot in annotList:\n",
    "        if annot[1] == queryId:\n",
    "            return annot\n",
    "    \n",
    "    print(\"Error: Annotations not found\")\n",
    "    return None"
   ]
  },
  {
   "cell_type": "code",
   "execution_count": 5,
   "metadata": {},
   "outputs": [],
   "source": [
    "def evalQuery(hyp, annot, scoring_collar, editDur, hop_sec):\n",
    "    \n",
    "    tamperType = annot[0]\n",
    "    attributions = []\n",
    "    path = hyp['wp']\n",
    "    if path.shape[1] == 2:\n",
    "        pathPreds = hyp['dist']\n",
    "    else: # For 3 col paths, the third col is the attribution (plane)\n",
    "        pathPreds = path[:,2]\n",
    "    \n",
    "    # set up boundaries list (in seconds, relative to modified query)\n",
    "    # In form matchingRegionStart, tamperStart, tamperEnd, matchingRegionEndEnd\n",
    "    # This will depend on tamperType\n",
    "    if tamperType == \"N\":\n",
    "        return tamperType, attributions\n",
    "    \n",
    "    elif tamperType == \"I\":\n",
    "        insertionStart = float(annot[5])\n",
    "        insertionEnd = insertionStart + editDur\n",
    "        \n",
    "        # I use +/- inf here to signal that the matching region extends to the first and last frames, and no scoring\n",
    "        # collar is needed\n",
    "        boundaries = [-float('inf'), insertionStart, insertionEnd, float('inf')]\n",
    "        query_length = path[0,0]\n",
    "        startFrame = 0 # startFrame only used for deletions where the path is in the complete wrong place\n",
    "#         print(query_length * hop_sec)\n",
    "#         print(boundaries)\n",
    "\n",
    "    elif tamperType == \"D\": # For deletions, also flip query and reference\n",
    "        deletionStart = float(annot[5])\n",
    "        deletionEnd = deletionStart\n",
    "        query_length = path[0,0]\n",
    "        startFrame = 0\n",
    "        \n",
    "        # Here, the matching region starts and ends at the boundaries of the query recording\n",
    "        boundaries = [-float('inf'), deletionStart, deletionEnd, float('inf')]\n",
    "        \n",
    "    \n",
    "    else: # replacement\n",
    "        replacementStart = float(annot[5])\n",
    "        replacementEnd = float(annot[6])\n",
    "        \n",
    "        # Again, the matching region will extend all the way to the first and last frames\n",
    "        boundaries = [-float('inf'), replacementStart, replacementEnd, float('inf')]\n",
    "        query_length = path[0,0]\n",
    "        startFrame = 0\n",
    "    \n",
    "    gt = getAttributionsGT(query_length, boundaries, scoring_collar, hop_sec, startFrame)\n",
    "\n",
    "    # Impute cost scores\n",
    "    # Interpolate here to fill in the frames that the path jumps over\n",
    "    preds = np.interp(np.arange(startFrame, query_length), path[:,0][::-1], pathPreds[::-1])\n",
    "    \n",
    "    if path.shape[1] == 3: # for HSTW, the elements that are in both planes default to visible (match)\n",
    "        preds = np.ceil(preds)\n",
    "\n",
    "    for i in range(gt.shape[0]):\n",
    "        if gt[i] >=0:\n",
    "            attributions.append([gt[i], preds[i]])\n",
    "         \n",
    "    return tamperType, attributions"
   ]
  },
  {
   "cell_type": "code",
   "execution_count": 6,
   "metadata": {},
   "outputs": [],
   "source": [
    "def getAttributionsGT(query_length, boundaries, scoring_collar, hop_sec, startFrame = 0):\n",
    "    \n",
    "    gt = np.zeros(query_length - startFrame)\n",
    "        \n",
    "    # Get the GT for each frame\n",
    "    # For now, just represent each frame with a single timestamp (at where the frame begins)\n",
    "    for frame in range(startFrame, query_length):\n",
    "        t_query = frame * hop_sec\n",
    "        if withinCollar(t_query, boundaries, scoring_collar):\n",
    "            gt[frame-startFrame] = -1\n",
    "        elif t_query < boundaries[0] or (t_query > boundaries[1] and t_query < boundaries[2]) or t_query > boundaries[3]:\n",
    "            gt[frame-startFrame] = 1 # Non-matching region\n",
    "        else:\n",
    "            gt[frame-startFrame] = 0\n",
    "            \n",
    "    return gt"
   ]
  },
  {
   "cell_type": "code",
   "execution_count": 7,
   "metadata": {},
   "outputs": [],
   "source": [
    "def withinCollar(t_query, boundaries, scoring_collar):\n",
    "    for t_boundary in boundaries:\n",
    "        if np.abs(t_query - t_boundary) < scoring_collar:\n",
    "            return True\n",
    "    return False"
   ]
  },
  {
   "cell_type": "code",
   "execution_count": 8,
   "metadata": {},
   "outputs": [],
   "source": [
    "editTimes = [2]\n",
    "benchmark = 'shortTrain'\n",
    "systems = [\"D1\", \"D2\", \"D3\", \"D4\", \"NW-80\"]\n",
    "for editTime in editTimes:\n",
    "    for sys in systems:\n",
    "        pairsFile = \"/mnt/data0/{}/TamperingDetection/cfg_files/{}_{}s.pairs\".format(user, benchmark, editTime)\n",
    "        annotFile = \"/mnt/data0/agoutam/TamperingDetection/annots/160kbps_{}sec.gt\".format(editTime)\n",
    "        pathsRoot = \"/mnt/data0/{}/TamperingDetection/hyp/{}sec/{}\".format(user, editTime,sys)\n",
    "        saveFile = \"/mnt/data0/{}/TamperingDetection/new_eval/{}/{}_{}s.pkl\".format(user, sys, benchmark, editTime)\n",
    "        \n",
    "        _ = getPredsAndGT(pairsFile, annotFile, pathsRoot, editTime, saveFile = saveFile)"
   ]
  },
  {
   "cell_type": "markdown",
   "metadata": {},
   "source": [
    "## Find Thresholds on training data"
   ]
  },
  {
   "cell_type": "code",
   "execution_count": 9,
   "metadata": {},
   "outputs": [],
   "source": [
    "def trainThreshold(sysName, attribFiles, thDictFile):\n",
    "    if os.path.exists(thDictFile):\n",
    "        thDict = pkl.load(open(thDictFile, 'rb'))\n",
    "    else:\n",
    "        outdir = os.path.dirname(thDictFile)\n",
    "        outdir = Path(outdir)\n",
    "        outdir.mkdir(parents=True, exist_ok=True)\n",
    "        thDict = {}\n",
    "    \n",
    "    allAttribs = []\n",
    "    for attribFile in attribFiles:\n",
    "        theseAttribs = pkl.load(open(attribFile, 'rb'))\n",
    "        for thisAttrib in theseAttribs:\n",
    "            allAttribs.append(thisAttrib)\n",
    "    \n",
    "    allAttribs = np.vstack(allAttribs)\n",
    "    \n",
    "    TH = findBestThreshold(allAttribs)\n",
    "    \n",
    "    thDict[sysName] = TH\n",
    "    \n",
    "    pkl.dump(thDict, open(thDictFile, 'wb'))"
   ]
  },
  {
   "cell_type": "code",
   "execution_count": 10,
   "metadata": {},
   "outputs": [],
   "source": [
    "def findBestThreshold(attributions):\n",
    "    fps, tps, thresholds = metrics.roc_curve(attributions[:,0], attributions[:,1])\n",
    "    ROC = np.array([thresholds, fps, 1-tps]).T\n",
    "    _, TH = findEER(ROC)\n",
    "    return TH"
   ]
  },
  {
   "cell_type": "code",
   "execution_count": 11,
   "metadata": {},
   "outputs": [],
   "source": [
    "def findEER(ROC):\n",
    "    '''\n",
    "    Calculates Equal Error Rate based on ROC\n",
    "    \n",
    "    '''\n",
    "    minDiff = np.inf\n",
    "    savedFP = 0\n",
    "    savedFN = 0\n",
    "    savedTH = 0\n",
    "\n",
    "    for rate in ROC:\n",
    "        TH = rate[0]\n",
    "        FP = rate[1]\n",
    "        FN = rate[2]\n",
    "\n",
    "        if np.abs(FP - FN) < minDiff:\n",
    "            minDiff = np.abs(FP - FN)\n",
    "            savedFP = FP\n",
    "            savedFN = FN\n",
    "            savedTH = TH\n",
    "            \n",
    "    return (savedFP + savedFN) / 2, savedTH"
   ]
  },
  {
   "cell_type": "code",
   "execution_count": 12,
   "metadata": {},
   "outputs": [],
   "source": [
    "editTimes = [2]\n",
    "benchmark = 'shortTrain'\n",
    "systems = [\"D1\", \"D2\", \"D3\", \"D4\", \"NW-80\"]\n",
    "thDictFile = \"/mnt/data0/{}/TamperingDetection/new_eval/thresholds.pkl\".format(user)\n",
    "for sys in systems:\n",
    "    attribFiles = []\n",
    "    for editTime in editTimes:\n",
    "        attribFiles.append(\"/mnt/data0/{}/TamperingDetection/new_eval/{}/{}_{}s.pkl\".format(user, sys, benchmark, editTime))\n",
    "    trainThreshold(sys, attribFiles, thDictFile)"
   ]
  },
  {
   "cell_type": "code",
   "execution_count": 13,
   "metadata": {},
   "outputs": [],
   "source": [
    "thDict = pkl.load(open(thDictFile, 'rb'))"
   ]
  },
  {
   "cell_type": "code",
   "execution_count": 14,
   "metadata": {},
   "outputs": [
    {
     "data": {
      "text/plain": [
       "{'D1': 33.32400486056446,\n",
       " 'D2': 30.355922373558787,\n",
       " 'D3': 34.15973282803315,\n",
       " 'D4': 37.738482925370064,\n",
       " 'NW-80': 63.40327323969339}"
      ]
     },
     "execution_count": 14,
     "metadata": {},
     "output_type": "execute_result"
    }
   ],
   "source": [
    "thDict"
   ]
  },
  {
   "cell_type": "markdown",
   "metadata": {},
   "source": [
    "### Figures"
   ]
  },
  {
   "cell_type": "code",
   "execution_count": 15,
   "metadata": {},
   "outputs": [],
   "source": [
    "def plotAttribution(timesToPlot, systemsToPlot, benchmark, thDictFile, displayNames, saveFile = None):\n",
    "    fig, axs = plt.subplots(2, len(timesToPlot), figsize = (7, 15))\n",
    "    axs = axs.reshape(2, len(timesToPlot)) # Comment this out for more than 1 edit time\n",
    "    thDict = pkl.load(open(thDictFile, 'rb'))\n",
    "\n",
    "    for i, plotTime in enumerate(timesToPlot):\n",
    "        x = np.arange(len(systemsToPlot))\n",
    "        numBars = 3\n",
    "        width = 0.75 / numBars\n",
    "        axs[0,i].grid(zorder=0)\n",
    "        axs[1,i].grid(zorder=0)\n",
    "\n",
    "        insertions = []\n",
    "        deletions = []\n",
    "        replacements = []\n",
    "        for j, plotSys in enumerate(systemsToPlot):\n",
    "            if plotSys in thDict.keys():\n",
    "                th = thDict[plotSys]\n",
    "            else:\n",
    "                th = None\n",
    "            attribFile = \"/mnt/data0/{}/TamperingDetection/new_eval/{}/{}_{}s.pkl\".format(user, plotSys, benchmark, plotTime)\n",
    "            \n",
    "            attribs = pkl.load(open(attribFile, 'rb'))\n",
    "            insertions.append(calcFPFN(attribs[0], th))\n",
    "            deletions.append(calcFPFN(attribs[1], th))\n",
    "            replacements.append(calcFPFN(attribs[2], th))\n",
    "        \n",
    "        \n",
    "        insertions = np.array(insertions)\n",
    "        deletions = np.array(deletions)\n",
    "        replacements = np.array(replacements)\n",
    "\n",
    "        axs[0,i].bar(x - width, insertions[:,1] * 100, width, zorder = 3)\n",
    "        axs[0,i].bar(x, replacements[:,1] * 100, width, zorder = 3)\n",
    "        axs[0,i].bar(x + width, deletions[:,1] * 100, width, zorder = 3)\n",
    "        \n",
    "        axs[1,i].bar(x - width/2, insertions[:,0] * 100, width, zorder = 3)\n",
    "        axs[1,i].bar(x+width/2, replacements[:,0] * 100, width, zorder = 3)\n",
    "        \n",
    "        \n",
    "        axs[0,i].set_xlabel(\"System\")\n",
    "        axs[0,i].set_xticks(x)\n",
    "        axs[0,i].set_xticklabels(sysNames, rotation = 90)\n",
    "        #axs[0,i].set_ylim(0,20)\n",
    "        axs[0,i].set_title(\"L = \" + str(plotTime))\n",
    "        \n",
    "        axs[1,i].set_xlabel(\"System\")\n",
    "        axs[1,i].set_xticks(x)\n",
    "        axs[1,i].set_xticklabels(sysNames, rotation = 90)\n",
    "        #axs[1,i].set_ylim(0,20)\n",
    "        axs[1,i].set_title(\"L = \" + str(plotTime))\n",
    "\n",
    "    plt.figlegend([\"Insertions\", \"Replacements\", \"Deletions\"])\n",
    "    fig.suptitle(\"Attribution Error Rates\", fontsize = 'x-large')\n",
    "    axs[0,0].set_ylabel(\"Matching Region Error Rate (%)\", fontsize = \"large\")\n",
    "    axs[1,0].set_ylabel(\"Non-Matching Region Error Rate (%)\", fontsize = \"large\")\n",
    "\n",
    "    fig.tight_layout()\n",
    "    \n",
    "    if saveFile is not None:\n",
    "        plt.savefig(saveFile)"
   ]
  },
  {
   "cell_type": "code",
   "execution_count": 16,
   "metadata": {},
   "outputs": [],
   "source": [
    "def calcFPFN(attribs, threshold = None):\n",
    "    '''\n",
    "    Calculate number of false positives and false negatives\n",
    "    '''\n",
    "    gt = attribs[:,0]\n",
    "    if threshold is not None:\n",
    "        # If cost is lower than threshold, then we consider sample in\n",
    "        # non tampered region (nontampered = 0, tampered = 1)\n",
    "        preds = (attribs[:,1] >= threshold).astype(int)\n",
    "    else:\n",
    "        preds = attribs[:,1]\n",
    "\n",
    "    diffVec = (preds - gt)\n",
    "\n",
    "    FPCount = np.sum((diffVec == -1).astype(int))\n",
    "    FNCount = np.sum((diffVec == 1).astype(int))\n",
    "    \n",
    "    TrueNegCount = np.sum(gt == 1) # Note: Positive means match\n",
    "    TruePosCount = np.sum(gt == 0)\n",
    "    \n",
    "    if TrueNegCount == 0: #Prevent a divide by zero error for deletions\n",
    "        return [0, FNCount / TruePosCount]\n",
    "    return [FPCount / TrueNegCount, FNCount / TruePosCount]"
   ]
  },
  {
   "cell_type": "code",
   "execution_count": 21,
   "metadata": {},
   "outputs": [
    {
     "data": {
      "image/png": "[encoded data removed]",
      "text/plain": [
       "<Figure size 504x1080 with 2 Axes>"
      ]
     },
     "metadata": {
      "needs_background": "light"
     },
     "output_type": "display_data"
    }
   ],
   "source": [
    "timesToPlot = [2]\n",
    "systemsToPlot = [\"D1\", \"D2\", \"D3\", \"D4\"]#[\"D1\", \"D2\", \"D3\", \"D4\", \"NW-80\", \"HSTW\"]\n",
    "sysNames = [\"DTW-111\", \"DTW-011\", \"DTW-121\", \"DTW-112\"]#[\"DTW-111\", \"DTW-011\",\"DTW-121\", \"DTW-112\", \"NW-80\", \"HSTW\"]\n",
    "benchmark = \"shortTrain\"\n",
    "thDictFile = \"/mnt/data0/{}/TamperingDetection/new_eval/thresholds.pkl\".format(user)\n",
    "saveFile = \"speechAttribFig.png\"\n",
    "\n",
    "plotAttribution(timesToPlot, systemsToPlot, benchmark, thDictFile, sysNames, saveFile)"
   ]
  },
  {
   "cell_type": "code",
   "execution_count": 18,
   "metadata": {},
   "outputs": [
    {
     "name": "stdout",
     "output_type": "stream",
     "text": [
      "63.40327323969339\n"
     ]
    }
   ],
   "source": [
    "plotSys = \"NW-80\"\n",
    "plotTime = 2\n",
    "insertions = []\n",
    "deletions = []\n",
    "replacements = []\n",
    "if plotSys in thDict.keys():\n",
    "    th = thDict[plotSys]\n",
    "    print(th)\n",
    "else:\n",
    "    th = None\n",
    "attribFile = \"/mnt/data0/{}/TamperingDetection/new_eval/{}/{}_{}s.pkl\".format(user, plotSys, benchmark, plotTime)\n",
    "\n",
    "attribs = pkl.load(open(attribFile, 'rb'))\n",
    "insertions.append(calcFPFN(attribs[0], th))\n",
    "deletions.append(calcFPFN(attribs[1], th))\n",
    "replacements.append(calcFPFN(attribs[2], th))"
   ]
  },
  {
   "cell_type": "code",
   "execution_count": 19,
   "metadata": {},
   "outputs": [],
   "source": [
    "path = pkl.load(open(\"/mnt/data0/tshaw/TamperingDetection/hyp/2sec/NW-80/12_30_17_r9.pkl\", 'rb'))"
   ]
  },
  {
   "cell_type": "code",
   "execution_count": 20,
   "metadata": {},
   "outputs": [
    {
     "data": {
      "text/plain": [
       "array([[ 998, 2613],\n",
       "       [ 997, 2612],\n",
       "       [ 996, 2611],\n",
       "       ...,\n",
       "       [   2, 2195],\n",
       "       [   1, 2194],\n",
       "       [   0, 2194]])"
      ]
     },
     "execution_count": 20,
     "metadata": {},
     "output_type": "execute_result"
    }
   ],
   "source": [
    "path['wp']"
   ]
  },
  {
   "cell_type": "code",
   "execution_count": null,
   "metadata": {},
   "outputs": [],
   "source": [
    "ROCfile = \"/mnt/data0/{}/TamperingDetection/eval/D3/train_2s.pkl\".format(user)\n",
    "ROCs = pkl.load(open(ROCfile, 'rb'))"
   ]
  },
  {
   "cell_type": "code",
   "execution_count": 27,
   "metadata": {},
   "outputs": [
    {
     "data": {
      "image/png": "[encoded data removed]",
      "text/plain": [
       "<Figure size 432x288 with 1 Axes>"
      ]
     },
     "metadata": {
      "needs_background": "light"
     },
     "output_type": "display_data"
    }
   ],
   "source": [
    "ROC = ROCs[0]\n",
    "plt.plot(ROC[:,1], ROC[:,2])\n",
    "plt.xlabel(\"False Positive Rate\");\n",
    "plt.ylabel(\"False Negative Rate\");\n",
    "plt.title(\"ROC for Insertion\");"
   ]
  },
  {
   "cell_type": "code",
   "execution_count": 69,
   "metadata": {},
   "outputs": [
    {
     "data": {
      "image/png": "[encoded data removed]",
      "text/plain": [
       "<Figure size 432x288 with 1 Axes>"
      ]
     },
     "metadata": {
      "needs_background": "light"
     },
     "output_type": "display_data"
    }
   ],
   "source": [
    "plt.plot(ROC[:,0], ROC[:,1]);\n",
    "plt.plot(ROC[:,0], ROC[:,2]);\n",
    "plt.xlabel(\"Threshold\");\n",
    "plt.ylabel(\"Rate\")\n",
    "plt.legend([\"False Positive\", \"False Negative\"]);"
   ]
  },
  {
   "cell_type": "code",
   "execution_count": 70,
   "metadata": {},
   "outputs": [
    {
     "data": {
      "image/png": "[encoded data removed]",
      "text/plain": [
       "<Figure size 432x288 with 1 Axes>"
      ]
     },
     "metadata": {
      "needs_background": "light"
     },
     "output_type": "display_data"
    }
   ],
   "source": [
    "ROC = ROCs[1]\n",
    "plt.plot(ROC[:,1], ROC[:,2])\n",
    "plt.xlabel(\"False Positive Rate\");\n",
    "plt.ylabel(\"False Negative Rate\");\n",
    "plt.title(\"ROC for Deletion\");"
   ]
  },
  {
   "cell_type": "code",
   "execution_count": 71,
   "metadata": {},
   "outputs": [
    {
     "data": {
      "image/png": "[encoded data removed]",
      "text/plain": [
       "<Figure size 432x288 with 1 Axes>"
      ]
     },
     "metadata": {
      "needs_background": "light"
     },
     "output_type": "display_data"
    }
   ],
   "source": [
    "plt.plot(ROC[:,0], ROC[:,1]);\n",
    "plt.plot(ROC[:,0], ROC[:,2]);\n",
    "plt.xlabel(\"Threshold\");\n",
    "plt.ylabel(\"Rate\")\n",
    "plt.legend([\"False Positive\", \"False Negative\"]);"
   ]
  },
  {
   "cell_type": "code",
   "execution_count": 72,
   "metadata": {},
   "outputs": [
    {
     "data": {
      "image/png": "[encoded data removed]",
      "text/plain": [
       "<Figure size 432x288 with 1 Axes>"
      ]
     },
     "metadata": {
      "needs_background": "light"
     },
     "output_type": "display_data"
    }
   ],
   "source": [
    "ROC = ROCs[2]\n",
    "plt.plot(ROC[:,1], ROC[:,2])\n",
    "plt.xlabel(\"False Positive Rate\");\n",
    "plt.ylabel(\"False Negative Rate\");\n",
    "plt.title(\"ROC for Replacement\");"
   ]
  },
  {
   "cell_type": "code",
   "execution_count": 73,
   "metadata": {},
   "outputs": [
    {
     "data": {
      "image/png": "[encoded data removed]",
      "text/plain": [
       "<Figure size 432x288 with 1 Axes>"
      ]
     },
     "metadata": {
      "needs_background": "light"
     },
     "output_type": "display_data"
    }
   ],
   "source": [
    "plt.plot(ROC[:,0], ROC[:,1]);\n",
    "plt.plot(ROC[:,0], ROC[:,2]);\n",
    "plt.xlabel(\"Threshold\");\n",
    "plt.ylabel(\"Rate\")\n",
    "plt.legend([\"False Positive\", \"False Negative\"]);"
   ]
  },
  {
   "cell_type": "markdown",
   "metadata": {},
   "source": [
    "## Finding NW Gamma"
   ]
  },
  {
   "cell_type": "code",
   "execution_count": 74,
   "metadata": {},
   "outputs": [],
   "source": [
    "editTime = 2"
   ]
  },
  {
   "cell_type": "code",
   "execution_count": 7,
   "metadata": {},
   "outputs": [],
   "source": [
    "expGammas = [0.1, 1, 10, 100, 1000]\n",
    "# for gamma in expGammas:\n",
    "#     pairsFile = \"/mnt/data0/agoutam/TamperingDetection/cfg_files/train_2s.pairs\"\n",
    "#     annotFile = \"/mnt/data0/agoutam/TamperingDetection/annots/160kbps_2sec.gt\"\n",
    "#     pathsRoot = \"/mnt/data0/tshaw/TamperingDetection/hyp/NW/train_2s/gamma=%s\" % str(gamma)\n",
    "#     saveFile = \"/mnt/data0/tshaw/TamperingDetection/eval/NW/gamma=%s/train_2s.pkl\" % str(gamma)\n",
    "        \n",
    "#     _ = evalAllQueries(pairsFile, annotFile, pathsRoot, editTime, saveFile = saveFile)"
   ]
  },
  {
   "cell_type": "code",
   "execution_count": 8,
   "metadata": {},
   "outputs": [],
   "source": [
    "EERs = []\n",
    "for gamma in [0.1, 1, 10, 100, 1000]:\n",
    "    ROCFile = \"/mnt/data0/tshaw/TamperingDetection/eval/NW/gamma=%s/train_2s.pkl\" % str(gamma)\n",
    "    ROC = pkl.load(open(ROCFile, \"rb\"))[3]\n",
    "    EERs.append(findEER(ROC))"
   ]
  },
  {
   "cell_type": "code",
   "execution_count": 9,
   "metadata": {},
   "outputs": [
    {
     "data": {
      "text/plain": [
       "[0.4786605427714567,\n",
       " 0.4834524619095293,\n",
       " 0.4818794445850787,\n",
       " 0.051320447379096495,\n",
       " 0.11395771966801556]"
      ]
     },
     "execution_count": 9,
     "metadata": {},
     "output_type": "execute_result"
    }
   ],
   "source": [
    "EERs"
   ]
  },
  {
   "cell_type": "code",
   "execution_count": 10,
   "metadata": {},
   "outputs": [
    {
     "data": {
      "image/png": "[encoded data removed]",
      "text/plain": [
       "<Figure size 432x288 with 1 Axes>"
      ]
     },
     "metadata": {
      "needs_background": "light"
     },
     "output_type": "display_data"
    }
   ],
   "source": [
    "plt.bar(np.arange(5),EERs);\n",
    "plt.xticks(np.arange(5), expGammas);\n",
    "plt.xlabel(\"gamma\")\n",
    "plt.title(\"Combined EER for NW At Different Gamma (train_2s)\");\n",
    "# plt.ylim(0,1);\n",
    "plt.ylabel(\"EER\");"
   ]
  },
  {
   "cell_type": "code",
   "execution_count": 15,
   "metadata": {},
   "outputs": [],
   "source": [
    "expGammas2 = [50, 100, 200, 500]\n",
    "# for gamma in expGammas2:\n",
    "#     pairsFile = \"/mnt/data0/agoutam/TamperingDetection/cfg_files/train_2s.pairs\"\n",
    "#     annotFile = \"/mnt/data0/agoutam/TamperingDetection/annots/160kbps_2sec.gt\"\n",
    "#     pathsRoot = \"/mnt/data0/tshaw/TamperingDetection/hyp/NW/train_2s/gamma=%s\" % str(gamma)\n",
    "#     saveFile = \"/mnt/data0/tshaw/TamperingDetection/eval/NW/gamma=%s/train_2s.pkl\" % str(gamma)\n",
    "        \n",
    "#     _ = evalAllQueries(pairsFile, annotFile, pathsRoot, editTime, saveFile = saveFile)"
   ]
  },
  {
   "cell_type": "code",
   "execution_count": 16,
   "metadata": {},
   "outputs": [],
   "source": [
    "EERs = []\n",
    "for gamma in expGammas2:\n",
    "    ROCFile = \"/mnt/data0/tshaw/TamperingDetection/eval/NW/gamma=%s/train_2s.pkl\" % str(gamma)\n",
    "    ROC = pkl.load(open(ROCFile, \"rb\"))[3]\n",
    "    EERs.append(findEER(ROC))"
   ]
  },
  {
   "cell_type": "code",
   "execution_count": 17,
   "metadata": {},
   "outputs": [
    {
     "data": {
      "text/plain": [
       "[0.054543195954302265,\n",
       " 0.051320447379096495,\n",
       " 0.11081710593351798,\n",
       " 0.1139270633076631]"
      ]
     },
     "execution_count": 17,
     "metadata": {},
     "output_type": "execute_result"
    }
   ],
   "source": [
    "EERs"
   ]
  },
  {
   "cell_type": "code",
   "execution_count": 20,
   "metadata": {},
   "outputs": [
    {
     "data": {
      "image/png": "[encoded data removed]",
      "text/plain": [
       "<Figure size 432x288 with 1 Axes>"
      ]
     },
     "metadata": {
      "needs_background": "light"
     },
     "output_type": "display_data"
    }
   ],
   "source": [
    "plt.bar(np.arange(len(EERs)),EERs);\n",
    "plt.xticks(np.arange(len(EERs)), expGammas2);\n",
    "plt.xlabel(\"gamma\")\n",
    "plt.title(\"Combined EER for NW At Different Gamma (train_2s)\");\n",
    "# plt.ylim(0,1);\n",
    "plt.ylabel(\"EER\");"
   ]
  },
  {
   "cell_type": "code",
   "execution_count": 42,
   "metadata": {},
   "outputs": [],
   "source": [
    "linGammas = [50, 60, 70, 80, 90, 100]\n",
    "# for gamma in linGammas:\n",
    "#     pairsFile = \"/mnt/data0/agoutam/TamperingDetection/cfg_files/train_2s.pairs\"\n",
    "#     annotFile = \"/mnt/data0/agoutam/TamperingDetection/annots/160kbps_2sec.gt\"\n",
    "#     pathsRoot = \"/mnt/data0/tshaw/TamperingDetection/hyp/NW/train_2s/gamma=%s\" % str(gamma)\n",
    "#     saveFile = \"/mnt/data0/tshaw/TamperingDetection/eval/NW/gamma=%s/train_2s.pkl\" % str(gamma)\n",
    "        \n",
    "#     _ = evalAllQueries(pairsFile, annotFile, pathsRoot, editTime, saveFile = saveFile)"
   ]
  },
  {
   "cell_type": "code",
   "execution_count": 43,
   "metadata": {},
   "outputs": [],
   "source": [
    "EERs = []\n",
    "for gamma in linGammas:\n",
    "    ROCFile = \"/mnt/data0/tshaw/TamperingDetection/eval/NW/gamma=%s/train_2s.pkl\" % str(gamma)\n",
    "    ROC = pkl.load(open(ROCFile, \"rb\"))[3]\n",
    "    EERs.append(findEER(ROC))"
   ]
  },
  {
   "cell_type": "code",
   "execution_count": 44,
   "metadata": {},
   "outputs": [
    {
     "data": {
      "text/plain": [
       "[0.054543195954302265,\n",
       " 0.05206043397068241,\n",
       " 0.049069678056523,\n",
       " 0.04846582882389572,\n",
       " 0.04946689419920694,\n",
       " 0.051320447379096495]"
      ]
     },
     "execution_count": 44,
     "metadata": {},
     "output_type": "execute_result"
    }
   ],
   "source": [
    "EERs"
   ]
  },
  {
   "cell_type": "code",
   "execution_count": 45,
   "metadata": {},
   "outputs": [
    {
     "data": {
      "image/png": "[encoded data removed]",
      "text/plain": [
       "<Figure size 432x288 with 1 Axes>"
      ]
     },
     "metadata": {
      "needs_background": "light"
     },
     "output_type": "display_data"
    }
   ],
   "source": [
    "plt.bar(np.arange(len(EERs)),EERs);\n",
    "plt.xticks(np.arange(len(EERs)), linGammas);\n",
    "plt.xlabel(\"gamma\")\n",
    "plt.title(\"Combined EER for NW At Different Gamma (train_2s)\");\n",
    "# plt.ylim(0,1);\n",
    "plt.ylabel(\"EER\");"
   ]
  },
  {
   "cell_type": "code",
   "execution_count": null,
   "metadata": {},
   "outputs": [],
   "source": []
  }
 ],
 "metadata": {
  "kernelspec": {
   "display_name": "MIR",
   "language": "python",
   "name": "mir"
  },
  "language_info": {
   "codemirror_mode": {
    "name": "ipython",
    "version": 3
   },
   "file_extension": ".py",
   "mimetype": "text/x-python",
   "name": "python",
   "nbconvert_exporter": "python",
   "pygments_lexer": "ipython3",
   "version": "3.7.10"
  }
 },
 "nbformat": 4,
 "nbformat_minor": 4
}
